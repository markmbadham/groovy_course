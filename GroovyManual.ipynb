{
 "cells": [
  {
   "cell_type": "markdown",
   "metadata": {},
   "source": [
    "# Introduction\n",
    "```\n",
    "  ______                           \n",
    "  / ____/________  ____ _   ____  __\n",
    " / / __/ ___/ __ \\/ __ \\ | / / / / /\n",
    "/ /_/ / /  / /_/ / /_/ / |/ / /_/ / \n",
    "\\____/_/   \\____/\\____/|___/\\__, /  \n",
    "                           /____/   \n",
    "```\n",
    "## About Groovy\n",
    "\n",
    "- Dynamic JVM Language, integrates with JAVA\n",
    "- Optionally Typed\n",
    "- Easy to learn\n",
    "- Domain specific languages\n",
    "- Meta Programming\n",
    "- Functional Programming\n",
    "\n",
    "From [Groovy Website](groove-lang.org)\n",
    "\n",
    "Groovy is a powerful, optionally typed and dynamic language, with static-typing and static compilation capabilities, for the Java platform aimed at improving developer productivity thanks to a concise, familiar and easy to learn syntax. It integrates smoothly with any Java program, and immediately delivers to your application powerful features, including scripting capabilities, Domain-Specific Language authoring, runtime and compile-time meta-programming and functional programming.\n",
    "\n",
    "Groovy van be considered a *super set* of Java.  That is any legal Java code will also work in Groovy."
   ]
  },
  {
   "cell_type": "markdown",
   "metadata": {},
   "source": [
    "## Getting Started\n",
    "\n",
    "The Groovy compiler is a java program distributed as a JAR file and therefore is available on any platform that java is available for. There are downloads for Windows, Mac and Linux.  In order to program in Groovy you will require:\n",
    "\n",
    "- The Java SDK, preferably version 8.  Groovy does work on later versions however it does not support Java modules and hence The Java 9 Compiler and above will generate warnings. [download](https://www.oracle.com/technetwork/java/javase/downloads/jdk8-downloads-2133151.html)\n",
    "- Groovy [download files and installation instructions](https://groovy-lang.org/download.html) \n",
    "- An editor or IDE. There are many, many choices a sample shown below:\n",
    "  - Visual Studion Code (With Groovy extension) [download](https://code.visualstudio.com/download)\n",
    "  - GroovyEclipse [Elipse Installer](https://www.eclipse.org/downloads/packages/installer) - choose Groovy as a package while installing\n",
    "  - IntelliJ [dowload](https://www.jetbrains.com/idea/download/)\n",
    "  - Advanced Text editors like Atom, Notepad++ and VIM\n",
    "  - Beakerx Jupyter notebook (used to cerate this manual) [see beakerx](http://beakerx.com/)\n",
    "  - You could even use the [Groovy Web Console](https://groovyconsole.appspot.com/) without installing anything.\n",
    "\n",
    "It is often easier to use a package manager to install both Java and Groovy:\n",
    " - apt, yum or [SnapCraft](https://snapcraft.io/) on Linux\n",
    " - Chocolately [chocolately.org] or [scoop](http://scoop.sh/) on Windows\n",
    " - [Homebrew](http://brew.sh/) or [Mac Ports]( http://www.macports.org/) on Mac"
   ]
  },
  {
   "cell_type": "markdown",
   "metadata": {},
   "source": [
    "# Groovy Language Basics\n",
    "\n",
    "```\n",
    "              _\n",
    "             | |\n",
    "             | |===( )   //////\n",
    "             |_|   |||  | o o|\n",
    "                    ||| ( c  )                  ____\n",
    "                     ||| \\= /                  ||   \\_\n",
    "                      ||||||                   ||     |\n",
    "                      ||||||                ...||__/|-\"\n",
    "                      ||||||             __|________|__\n",
    "                        |||             |______________|\n",
    "                        |||             || ||      || ||\n",
    "                        |||             || ||      || ||\n",
    "------------------------|||-------------||-||------||-||-------\n",
    "                        |__>            || ||      || ||\n",
    "\n",
    "\n",
    "     hit any key to continue\n",
    "```\n",
    "\n",
    "## Groovy Hello Class\n",
    "\n",
    "\n",
    "hello.groovy\n",
    "```groovy\n",
    "class Hello {\n",
    "    static void main(args) {\n",
    "        def message = \"Hello World\"\n",
    "        println(message)\n",
    "        println(message.getClass())\n",
    "    }\n",
    "}\n",
    "\n",
    "```\n",
    "\n",
    " - Like JAVA all the code is enclosed in a class, however unlike Java it is not necessary to explicitly declare a class.  A Groovy file tha does not contain a class may be referred to as a *script*.\n",
    " - Unlike JAVA the class does not have to be the same as the filename\n",
    " - If the file is executed, the main method in the main class (Hello) us executed.\n",
    " "
   ]
  },
  {
   "cell_type": "code",
   "execution_count": 5,
   "metadata": {},
   "outputs": [
    {
     "data": {
      "text/plain": [
       "Hello World"
      ]
     },
     "execution_count": 5,
     "metadata": {},
     "output_type": "execute_result"
    }
   ],
   "source": [
    "message = \"Hello World\""
   ]
  },
  {
   "cell_type": "code",
   "execution_count": 6,
   "metadata": {},
   "outputs": [
    {
     "name": "stdout",
     "output_type": "stream",
     "text": [
      "Hello World\n"
     ]
    },
    {
     "data": {
      "text/plain": [
       "null"
      ]
     },
     "execution_count": 6,
     "metadata": {},
     "output_type": "execute_result"
    }
   ],
   "source": [
    "println(message)"
   ]
  },
  {
   "cell_type": "code",
   "execution_count": 7,
   "metadata": {},
   "outputs": [
    {
     "name": "stdout",
     "output_type": "stream",
     "text": [
      "class java.lang.String\n"
     ]
    },
    {
     "data": {
      "text/plain": [
       "null"
      ]
     },
     "execution_count": 7,
     "metadata": {},
     "output_type": "execute_result"
    }
   ],
   "source": [
    "println(message.getClass())"
   ]
  },
  {
   "cell_type": "markdown",
   "metadata": {},
   "source": [
    "##  Syntax\n",
    "\n",
    "Groovy derives from the Java grammar, but enhances it with specific constructs for Groovy, and allows certain simplifications.\n",
    "\n",
    "## Main features:\n",
    " - Case sensitive\n",
    " - Statements terminate with a newline, no semicolon required.\n",
    " - Dynamicaly typed variables and number literals are objects no primitives.\n",
    " - Typing is optional:\n",
    " ```groovy\n",
    "   def message = 'hello' //dynamically typed\n",
    "   String message = 'hello' //statically typed\n",
    " ```\n",
    " - Parenthesis are optional\n",
    " ```groovy\n",
    "   print('hello')\n",
    "    // same as\n",
    "   print 'hello'\n",
    "  ```\n",
    " \n",
    "\n",
    "### Line continuation\n",
    "\n",
    "Multi line statements are possible in the following cases:\n",
    " - The line ends with a backslash"
   ]
  },
  {
   "cell_type": "code",
   "execution_count": 19,
   "metadata": {},
   "outputs": [
    {
     "data": {
      "text/plain": [
       "18"
      ]
     },
     "execution_count": 19,
     "metadata": {},
     "output_type": "execute_result"
    }
   ],
   "source": [
    "a = 1 + 2 + 3 \\\n",
    "   * 5"
   ]
  },
  {
   "cell_type": "markdown",
   "metadata": {},
   "source": [
    " - The there is an open parenthesis or bracket that is closed later."
   ]
  },
  {
   "cell_type": "code",
   "execution_count": 17,
   "metadata": {},
   "outputs": [
    {
     "data": {
      "text/plain": [
       "9.0"
      ]
     },
     "execution_count": 17,
     "metadata": {},
     "output_type": "execute_result"
    }
   ],
   "source": [
    "Math.pow(3,\n",
    "        2)"
   ]
  },
  {
   "cell_type": "code",
   "execution_count": 15,
   "metadata": {},
   "outputs": [
    {
     "data": {
      "text/plain": [
       "[1, 2, 3]"
      ]
     },
     "execution_count": 15,
     "metadata": {},
     "output_type": "execute_result"
    }
   ],
   "source": [
    "def mylist = [\n",
    "    1,\n",
    "    2,\n",
    "    3\n",
    "]"
   ]
  },
  {
   "cell_type": "markdown",
   "metadata": {},
   "source": [
    " - The the statement contains a triple quoted string."
   ]
  },
  {
   "cell_type": "code",
   "execution_count": 20,
   "metadata": {},
   "outputs": [
    {
     "name": "stdout",
     "output_type": "stream",
     "text": [
      "hello\n",
      "world"
     ]
    },
    {
     "data": {
      "text/plain": [
       "null"
      ]
     },
     "execution_count": 20,
     "metadata": {},
     "output_type": "execute_result"
    }
   ],
   "source": [
    "print '''hello\n",
    "world'''"
   ]
  },
  {
   "cell_type": "markdown",
   "metadata": {},
   "source": [
    "###  Comments\n",
    "\n",
    "**Single-line comment**\n",
    "\n",
    "Single-line comments start with // and can be found at any position in the line. The characters following //, until the end of the line, are considered part of the comment.\n",
    "\n",
    "```groovy\n",
    "// a standalone single line comment\n",
    "println \"hello\" // a comment till the end of the line\n",
    "```\n",
    "\n",
    "**Multiline comment**\n",
    "\n",
    "A multiline comment starts with /* and can be found at any position in the line. The characters following /* will be considered part of the comment, including new line characters, up to the first */ closing the comment. Multiline comments can thus be put at the end of a statement, or even inside a statement.\n",
    "\n",
    "```groovy\n",
    "/* a standalone multiline comment\n",
    "   spanning two lines */\n",
    "println \"hello\" /* a multiline comment starting\n",
    "                   at the end of a statement */\n",
    "println 1 /* one */ + 2 /* two */\n",
    "```"
   ]
  },
  {
   "cell_type": "markdown",
   "metadata": {},
   "source": [
    "### Groovydoc comment\n",
    "Similarly to multiline comments, Groovydoc comments are multiline, but start with `/**` and end with `*/`. Lines following the first Groovydoc comment line can optionally start with a star `*`. Those comments are associated with:\n",
    "\n",
    " - type definitions (classes, interfaces, enums, annotations),\n",
    " - fields and properties definitions\n",
    " - methods definitions\n",
    "\n",
    "Although the compiler will not complain about Groovydoc comments not being associated with the above language elements, you should prepend those constructs with the comment right before it.\n",
    "\n",
    "```groovy\n",
    "/**\n",
    " * A Class description\n",
    " */\n",
    "class Person {\n",
    "    /** the name of the person */\n",
    "    String name\n",
    "\n",
    "    /**\n",
    "     * Creates a greeting method for a certain person.\n",
    "     *\n",
    "     * @param otherPerson the person to greet\n",
    "     * @return a greeting message\n",
    "     */\n",
    "    String greet(String otherPerson) {\n",
    "       \"Hello ${otherPerson}\"\n",
    "    }\n",
    "}\n",
    "```\n",
    "\n",
    "Groovydoc follows the same conventions as Java’s own Javadoc. So you’ll be able to use the same tags as with Javadoc."
   ]
  },
  {
   "cell_type": "markdown",
   "metadata": {},
   "source": [
    "## Shebang line\n",
    "Beside the single-line comment, there is a special line comment, often called the shebang line understood by UNIX systems which allows scripts to be run directly from the command-line, provided you have installed the Groovy distribution and the groovy command is available on the PATH.\n",
    "\n",
    "```groovy\n",
    "#!/usr/bin/env groovy\n",
    "println \"Hello from the shebang line\"\n",
    "```\n",
    "\n",
    "The `#` character must be the first character of the file. Any indentation would yield a compilation error.\n"
   ]
  },
  {
   "cell_type": "markdown",
   "metadata": {},
   "source": [
    "## Keywords\n",
    "The following list represents all the keywords of the Groovy language:\n",
    "\n",
    "```\n",
    "as     assert      break   case     catch      class\n",
    "const  continue    def     default  do          else\n",
    "enum   extends     false   finally  for         goto\n",
    "if     implements  import  in       instanceof  interface\n",
    "new    null        package return   super       switch\n",
    "this   throw       throws  trait    true        try\n",
    "while\n",
    "```"
   ]
  },
  {
   "cell_type": "markdown",
   "metadata": {},
   "source": [
    "## Power assertion\n",
    "\n",
    "Power assertions are extensively used for testing in later examples.\n",
    "Unlike Java with which Groovy shares the assert keyword, the latter in Groovy behaves very differently. First of all, an assertion in Groovy is always executed, independently of the -ea flag of the JVM. It makes this a first class choice for unit tests. The notion of \"power asserts\" is directly related to how the Groovy assert behaves.\n",
    "\n",
    "A power assertion is decomposed into 3 parts:\n",
    "\n",
    "```groovy\n",
    "assert [left expression] == [right expression] : (optional message)\n",
    "```\n",
    "\n",
    "The result of the assertion is very different from what you would get in Java. If the assertion is true, then nothing happens. If the assertion is false, then it provides a visual representation of the value of each sub-expressions of the expression being asserted. For example:"
   ]
  },
  {
   "cell_type": "code",
   "execution_count": 81,
   "metadata": {},
   "outputs": [
    {
     "ename": "Assertion failed",
     "evalue": " ",
     "output_type": "error",
     "traceback": [
      "\u001b[1;31mAssertion failed: \u001b[0;0m",
      "\u001b[1;31m\u001b[0;0m",
      "\u001b[1;31massert 1+1 == 3\u001b[0;0m",
      "\u001b[1;31m        |  |\u001b[0;0m",
      "\u001b[1;31m        2  false\u001b[0;0m",
      "\u001b[1;31m\u001b[0;0m",
      "\u001b[1;31m\tat this cell line 1\u001b[0;0m",
      "\u001b[0;31m\tat com.twosigma.beakerx.groovy.evaluator.GroovyCodeRunner.runScript(GroovyCodeRunner.java:94)\u001b[0;0m",
      "\u001b[0;31m\tat com.twosigma.beakerx.groovy.evaluator.GroovyCodeRunner.call(GroovyCodeRunner.java:59)\u001b[0;0m",
      "\u001b[0;31m\tat com.twosigma.beakerx.groovy.evaluator.GroovyCodeRunner.call(GroovyCodeRunner.java:32)\u001b[0;0m"
     ]
    }
   ],
   "source": [
    "assert 1+1 == 3"
   ]
  },
  {
   "cell_type": "markdown",
   "metadata": {},
   "source": [
    "Power asserts become very interesting when the expressions are more complex, like in the next example:"
   ]
  },
  {
   "cell_type": "code",
   "execution_count": 82,
   "metadata": {},
   "outputs": [
    {
     "ename": "Assertion failed",
     "evalue": " ",
     "output_type": "error",
     "traceback": [
      "\u001b[1;31mAssertion failed: \u001b[0;0m",
      "\u001b[1;31m\u001b[0;0m",
      "\u001b[1;31massert calc(x,y) == [x,z].sum()\u001b[0;0m",
      "\u001b[1;31m       |    | |  |   | |  |\u001b[0;0m",
      "\u001b[1;31m       15   2 7  |   2 5  7\u001b[0;0m",
      "\u001b[1;31m                 false\u001b[0;0m",
      "\u001b[1;31m\u001b[0;0m",
      "\u001b[1;31m\tat this cell line 5\u001b[0;0m",
      "\u001b[0;31m\tat com.twosigma.beakerx.groovy.evaluator.GroovyCodeRunner.runScript(GroovyCodeRunner.java:94)\u001b[0;0m",
      "\u001b[0;31m\tat com.twosigma.beakerx.groovy.evaluator.GroovyCodeRunner.call(GroovyCodeRunner.java:59)\u001b[0;0m",
      "\u001b[0;31m\tat com.twosigma.beakerx.groovy.evaluator.GroovyCodeRunner.call(GroovyCodeRunner.java:32)\u001b[0;0m"
     ]
    }
   ],
   "source": [
    "def x = 2\n",
    "def y = 7\n",
    "def z = 5\n",
    "def calc = { a,b -> a*b+1 }\n",
    "assert calc(x,y) == [x,z].sum()"
   ]
  },
  {
   "cell_type": "markdown",
   "metadata": {},
   "source": [
    "In case you don’t want a pretty printed error message like above, you can fallback to a custom error message by changing the optional message part of the assertion, like in this example:"
   ]
  },
  {
   "cell_type": "code",
   "execution_count": 83,
   "metadata": {},
   "outputs": [
    {
     "ename": "java.lang.AssertionError",
     "evalue": " Incorrect computation result. Expression",
     "output_type": "error",
     "traceback": [
      "\u001b[1;31mjava.lang.AssertionError: Incorrect computation result. Expression: (calc.call(x, y) == (z * z)). Values: z = 5, z = 5\u001b[0;0m",
      "\u001b[1;31m\tat this cell line 5\u001b[0;0m",
      "\u001b[0;31m\tat com.twosigma.beakerx.groovy.evaluator.GroovyCodeRunner.runScript(GroovyCodeRunner.java:94)\u001b[0;0m",
      "\u001b[0;31m\tat com.twosigma.beakerx.groovy.evaluator.GroovyCodeRunner.call(GroovyCodeRunner.java:59)\u001b[0;0m",
      "\u001b[0;31m\tat com.twosigma.beakerx.groovy.evaluator.GroovyCodeRunner.call(GroovyCodeRunner.java:32)\u001b[0;0m"
     ]
    }
   ],
   "source": [
    "def x = 2\n",
    "def y = 7\n",
    "def z = 5\n",
    "def calc = { a,b -> a*b+1 }\n",
    "assert calc(x,y) == z*z : 'Incorrect computation result'"
   ]
  },
  {
   "cell_type": "markdown",
   "metadata": {},
   "source": [
    "# Variables\n",
    "\n",
    "```\n",
    "      ___           ___                             ___     \n",
    "     |\\__\\         |\\__\\                           /\\  \\    \n",
    "     |:|  |        |:|  |                          \\:\\  \\   \n",
    "     |:|  |        |:|  |                           \\:\\  \\  \n",
    "     |:|__|__      |:|__|__                          \\:\\  \\ \n",
    " ____/::::\\__\\     /::::\\__\\                   _______\\:\\__\\\n",
    " \\::::/~~/~       /:/~~/~                      \\::::::::/__/\n",
    "  ~~|:|~~|       /:/  /                         \\:\\~~\\~~    \n",
    "    |:|  |       \\/__/                           \\:\\  \\     \n",
    "    |:|  |                                        \\:\\__\\    \n",
    "     \\|__|                                         \\/__/    \n",
    "```\n",
    "\n",
    "## Identifiers\n",
    "\n",
    "Identifiers are the names of variables, functions and classes.\n",
    "\n",
    "###  Normal identifiers\n",
    "\n",
    "Identifiers start with a letter, a dollar or an underscore. They cannot start with a number.\n",
    "\n",
    "Here are a few examples of valid identifiers:\n",
    "\n",
    "```groovy\n",
    "def name\n",
    "def item3\n",
    "def with_underscore\n",
    "def $dollarStart\n",
    "```\n",
    "\n",
    "But the following ones are invalid identifiers:\n",
    "\n",
    "```groovy\n",
    "def 3tier\n",
    "def a+b\n",
    "def a#b\n",
    "```\n",
    "\n",
    "All keywords are also valid identifiers when following a dot:\n",
    "\n",
    "```groovy\n",
    "foo.as\n",
    "foo.assert\n",
    "foo.break\n",
    "foo.case\n",
    "foo.catch\n",
    "```"
   ]
  },
  {
   "cell_type": "markdown",
   "metadata": {},
   "source": [
    "## Declaration\n",
    "\n",
    "Variables can be defined with a type in which case their type is statically checked:"
   ]
  },
  {
   "cell_type": "code",
   "execution_count": 34,
   "metadata": {},
   "outputs": [
    {
     "name": "stdout",
     "output_type": "stream",
     "text": [
      "class java.lang.Integer\n"
     ]
    },
    {
     "data": {
      "text/plain": [
       "null"
      ]
     },
     "execution_count": 34,
     "metadata": {},
     "output_type": "execute_result"
    }
   ],
   "source": [
    "int age = 10\n",
    "println age.getClass()"
   ]
  },
  {
   "cell_type": "markdown",
   "metadata": {},
   "source": [
    "Or they can be declated with `def` in which case their type is dynamically assigned at runtime:"
   ]
  },
  {
   "cell_type": "code",
   "execution_count": 36,
   "metadata": {},
   "outputs": [
    {
     "name": "stdout",
     "output_type": "stream",
     "text": [
      "class java.lang.Integer\n"
     ]
    },
    {
     "data": {
      "text/plain": [
       "null"
      ]
     },
     "execution_count": 36,
     "metadata": {},
     "output_type": "execute_result"
    }
   ],
   "source": [
    "def size = 10\n",
    "println size.getClass()"
   ]
  },
  {
   "cell_type": "markdown",
   "metadata": {},
   "source": [
    "Variables in a script do not require a type definition. This means that this script:"
   ]
  },
  {
   "cell_type": "code",
   "execution_count": 93,
   "metadata": {},
   "outputs": [
    {
     "data": {
      "text/plain": [
       "3"
      ]
     },
     "execution_count": 93,
     "metadata": {},
     "output_type": "execute_result"
    }
   ],
   "source": [
    "int x = 1\n",
    "int y = 2\n",
    "x + y"
   ]
  },
  {
   "cell_type": "markdown",
   "metadata": {},
   "source": [
    "will behave the same as:"
   ]
  },
  {
   "cell_type": "code",
   "execution_count": 94,
   "metadata": {},
   "outputs": [
    {
     "data": {
      "text/plain": [
       "3"
      ]
     },
     "execution_count": 94,
     "metadata": {},
     "output_type": "execute_result"
    }
   ],
   "source": [
    "v = 1\n",
    "w = 2\n",
    "v + w"
   ]
  },
  {
   "cell_type": "markdown",
   "metadata": {},
   "source": [
    "However there is a semantic difference between the two:\n",
    "\n",
    "if the variable is declared as in the first example, it is a local variable. It will be declared in the run method that the compiler will generate and will not be visible outside of the script main body. In particular, such a variable will not be visible in other methods of the script\n",
    "\n",
    "if the variable is undeclared, it goes into the script binding. The binding is visible from the methods, and is especially important if you use a script to interact with an application and need to share data between the script and the application"
   ]
  },
  {
   "cell_type": "code",
   "execution_count": 43,
   "metadata": {},
   "outputs": [
    {
     "data": {
      "text/plain": [
       "[1, 2]"
      ]
     },
     "execution_count": 43,
     "metadata": {},
     "output_type": "execute_result"
    }
   ],
   "source": [
    "[v, w] // v and w are still in scope"
   ]
  },
  {
   "cell_type": "code",
   "execution_count": 44,
   "metadata": {},
   "outputs": [
    {
     "ename": "groovy.lang.MissingPropertyException",
     "evalue": " No such property",
     "output_type": "error",
     "traceback": [
      "\u001b[1;31mgroovy.lang.MissingPropertyException: No such property: x for class: script1575277356325\u001b[0;0m",
      "\u001b[1;31m\tat this cell line 1\u001b[0;0m",
      "\u001b[0;31m\tat com.twosigma.beakerx.groovy.evaluator.GroovyCodeRunner.runScript(GroovyCodeRunner.java:94)\u001b[0;0m",
      "\u001b[0;31m\tat com.twosigma.beakerx.groovy.evaluator.GroovyCodeRunner.call(GroovyCodeRunner.java:59)\u001b[0;0m",
      "\u001b[0;31m\tat com.twosigma.beakerx.groovy.evaluator.GroovyCodeRunner.call(GroovyCodeRunner.java:32)\u001b[0;0m"
     ]
    }
   ],
   "source": [
    "[x, y] // x and y are no longer in scope"
   ]
  },
  {
   "cell_type": "markdown",
   "metadata": {},
   "source": [
    "### Multiple assignment\n",
    "Groovy supports multiple assignment, i.e. where multiple variables can be assigned at once, e.g.:"
   ]
  },
  {
   "cell_type": "code",
   "execution_count": 187,
   "metadata": {},
   "outputs": [
    {
     "data": {
      "text/plain": [
       "10"
      ]
     },
     "execution_count": 187,
     "metadata": {},
     "output_type": "execute_result"
    }
   ],
   "source": [
    "(a, b, c) = [10, 20, 'foo']\n",
    "a"
   ]
  },
  {
   "cell_type": "code",
   "execution_count": 188,
   "metadata": {},
   "outputs": [
    {
     "data": {
      "text/plain": [
       "20"
      ]
     },
     "execution_count": 188,
     "metadata": {},
     "output_type": "execute_result"
    }
   ],
   "source": [
    "b"
   ]
  },
  {
   "cell_type": "code",
   "execution_count": 189,
   "metadata": {},
   "outputs": [
    {
     "data": {
      "text/plain": [
       "foo"
      ]
     },
     "execution_count": 189,
     "metadata": {},
     "output_type": "execute_result"
    }
   ],
   "source": [
    "c"
   ]
  },
  {
   "cell_type": "markdown",
   "metadata": {},
   "source": [
    "You can provide types as part of the declaration if you wish:"
   ]
  },
  {
   "cell_type": "code",
   "execution_count": 192,
   "metadata": {},
   "outputs": [
    {
     "data": {
      "text/plain": [
       "[10, foo]"
      ]
     },
     "execution_count": 192,
     "metadata": {},
     "output_type": "execute_result"
    }
   ],
   "source": [
    "def (int i, String j) = [10, 'foo']\n",
    "[i, j]"
   ]
  },
  {
   "cell_type": "markdown",
   "metadata": {},
   "source": [
    "As well as used when declaring variables it also applies to existing variables:"
   ]
  },
  {
   "cell_type": "code",
   "execution_count": 77,
   "metadata": {},
   "outputs": [
    {
     "data": {
      "text/plain": [
       "[1, 3, 5]"
      ]
     },
     "execution_count": 77,
     "metadata": {},
     "output_type": "execute_result"
    }
   ],
   "source": [
    "def nums = [1, 3, 5]\n",
    "def a, b, c\n",
    "(a, b, c) = nums\n",
    "[a, b, c]"
   ]
  },
  {
   "cell_type": "markdown",
   "metadata": {},
   "source": [
    "The syntax works for arrays as well as lists, as well as methods that return either of these:"
   ]
  },
  {
   "cell_type": "code",
   "execution_count": 78,
   "metadata": {},
   "outputs": [
    {
     "data": {
      "text/plain": [
       "In June of 2009"
      ]
     },
     "execution_count": 78,
     "metadata": {},
     "output_type": "execute_result"
    }
   ],
   "source": [
    "def (_, month, year) = \"18th June 2009\".split()\n",
    "\"In $month of $year\""
   ]
  },
  {
   "cell_type": "markdown",
   "metadata": {},
   "source": [
    "### Overflow and Underflow\n",
    "If the left hand side has too many variables, excess ones are filled with null’s:"
   ]
  },
  {
   "cell_type": "code",
   "execution_count": 79,
   "metadata": {},
   "outputs": [
    {
     "data": {
      "text/plain": [
       "[1, 2, null]"
      ]
     },
     "execution_count": 79,
     "metadata": {},
     "output_type": "execute_result"
    }
   ],
   "source": [
    "def (a, b, c) = [1, 2]\n",
    "[a, b, c]"
   ]
  },
  {
   "cell_type": "markdown",
   "metadata": {},
   "source": [
    "If the right hand side has too many variables, the extra ones are ignored:"
   ]
  },
  {
   "cell_type": "code",
   "execution_count": 80,
   "metadata": {},
   "outputs": [
    {
     "data": {
      "text/plain": [
       "[1, 2]"
      ]
     },
     "execution_count": 80,
     "metadata": {},
     "output_type": "execute_result"
    }
   ],
   "source": [
    "def (a, b) = [1, 2, 3]\n",
    "[a, b]"
   ]
  },
  {
   "cell_type": "markdown",
   "metadata": {},
   "source": [
    "# Numbers\n",
    "\n",
    "```\n",
    "   ___   ___      _____    __ __     ______\n",
    "  <  /  |__ \\    |__  /   / // /    / ____/\n",
    "  / /   __/ /     /_ <   / // /_   /___ \\  \n",
    " / /   / __/    ___/ /  /__  __/  ____/ /  \n",
    "/_/   /____/   /____/     /_/    /_____/   \n",
    "                                           \n",
    "```\n",
    "\n",
    "\n",
    "## Data types\n",
    "\n",
    "Groovy supports all the same number types a Java. however Number literals and therefore dynamically typed variable are: `java.lang.Integer` or  `java.math.BigDecimal`."
   ]
  },
  {
   "cell_type": "code",
   "execution_count": 22,
   "metadata": {},
   "outputs": [
    {
     "name": "stdout",
     "output_type": "stream",
     "text": [
      "------------------------------\n",
      "age: 10 class java.lang.Integer\n",
      "bytes: 40 class java.lang.Integer\n",
      "largenumber: 12345678987654321 class java.lang.Long\n",
      "even_larger_number: 1234567898765432112345678987654321 class java.math.BigInteger\n",
      "len: 4.5 class java.math.BigDecimal\n",
      "nano 3E-9 class java.math.BigDecimal\n",
      "1.5E-8\n"
     ]
    },
    {
     "data": {
      "text/plain": [
       "null"
      ]
     },
     "execution_count": 22,
     "metadata": {},
     "output_type": "execute_result"
    }
   ],
   "source": [
    "def age = 10\n",
    "def bytes = 050\n",
    "def largenumber = 12345678987654321\n",
    "def even_larger_number = 1234567898765432112345678987654321\n",
    "def len = 4.5\n",
    "def nano = 3E-9\n",
    "println '-' * 30\n",
    "println \"age: $age ${age.class}\"\n",
    "println \"bytes: $bytes ${bytes.class}\"\n",
    "println \"largenumber: $largenumber ${largenumber.class}\"\n",
    "println \"even_larger_number: $even_larger_number ${even_larger_number.class}\"\n",
    "println \"len: $len ${len.class}\"\n",
    "println \"nano $nano ${nano.class}\"\n",
    "println(nano * 5)"
   ]
  },
  {
   "cell_type": "markdown",
   "metadata": {},
   "source": [
    "### Number type suffixes\n",
    "\n",
    "We can force a number (including binary, octals and hexadecimals) to have a specific type by giving a suffix (see table below), either uppercase or lowercase.\n",
    "\n",
    "Type|Suffix\n",
    "---|---\n",
    "BigInteger|G or g\n",
    "Long|L or l\n",
    "Integer|I or i\n",
    "BigDecimal|G or g\n",
    "Double|D or d\n",
    "Float|F or f\n",
    "\n",
    "In the examples below the `assert` keyword creates an *assertion* in which the *expression* is evaluated and an excetpion id thrown if false:"
   ]
  },
  {
   "cell_type": "code",
   "execution_count": 186,
   "metadata": {},
   "outputs": [
    {
     "data": {
      "text/plain": [
       "null"
      ]
     },
     "execution_count": 186,
     "metadata": {},
     "output_type": "execute_result"
    }
   ],
   "source": [
    "assert 42I == new Integer('42')\n",
    "assert 42i == new Integer('42') // lowercase i more readable\n",
    "assert 123L == new Long(\"123\") // uppercase L more readable\n",
    "assert 2147483648 == new Long('2147483648') // Long type used, value too large for an Integer\n",
    "assert 456G == new BigInteger('456')\n",
    "assert 456g == new BigInteger('456')\n",
    "assert 123.45 == new BigDecimal('123.45') // default BigDecimal type used\n",
    "assert 1.200065D == new Double('1.200065')\n",
    "assert 1.234F == new Float('1.234')\n",
    "assert 1.23E23D == new Double('1.23E23')\n",
    "assert 0b1111L.class == Long // binary\n",
    "assert 0xFFi.class == Integer // hexadecimal\n",
    "assert 034G.class == BigInteger // octal"
   ]
  },
  {
   "cell_type": "markdown",
   "metadata": {},
   "source": [
    "## Arithmetic Operators\n",
    "\n",
    "Operator|Name\t\n",
    "---|---\n",
    "`+`|Addition\n",
    "`−`|Subtracts\n",
    "\\*|Multiplication\n",
    "`/`|Division\n",
    "`%`|Modulus\n",
    "`++`|Incremental\n",
    "`**`|Exponent\n",
    "\n"
   ]
  },
  {
   "cell_type": "code",
   "execution_count": 45,
   "metadata": {},
   "outputs": [
    {
     "data": {
      "text/plain": [
       "8"
      ]
     },
     "execution_count": 45,
     "metadata": {},
     "output_type": "execute_result"
    }
   ],
   "source": [
    "2 ** 3 "
   ]
  },
  {
   "cell_type": "markdown",
   "metadata": {},
   "source": [
    "$2^3 = 8$"
   ]
  },
  {
   "cell_type": "code",
   "execution_count": 32,
   "metadata": {},
   "outputs": [
    {
     "data": {
      "text/plain": [
       "1.6666666667"
      ]
     },
     "execution_count": 32,
     "metadata": {},
     "output_type": "execute_result"
    }
   ],
   "source": [
    "5/3"
   ]
  },
  {
   "cell_type": "markdown",
   "metadata": {},
   "source": [
    "Division results in a *BigDecimal*."
   ]
  },
  {
   "cell_type": "code",
   "execution_count": 58,
   "metadata": {},
   "outputs": [
    {
     "data": {
      "text/plain": [
       "class java.math.BigDecimal"
      ]
     },
     "execution_count": 58,
     "metadata": {},
     "output_type": "execute_result"
    }
   ],
   "source": [
    "(5/3).class"
   ]
  },
  {
   "cell_type": "code",
   "execution_count": 33,
   "metadata": {},
   "outputs": [
    {
     "data": {
      "text/plain": [
       "2"
      ]
     },
     "execution_count": 33,
     "metadata": {},
     "output_type": "execute_result"
    }
   ],
   "source": [
    "4/2"
   ]
  },
  {
   "cell_type": "code",
   "execution_count": 59,
   "metadata": {},
   "outputs": [
    {
     "data": {
      "text/plain": [
       "class java.math.BigDecimal"
      ]
     },
     "execution_count": 59,
     "metadata": {},
     "output_type": "execute_result"
    }
   ],
   "source": [
    "(4/2).class"
   ]
  },
  {
   "cell_type": "markdown",
   "metadata": {},
   "source": [
    "The above result did not require it a floating point number, however *groovy* uses *BigDecimal* anyway.  The `intdiv` method can be used to return an *Integer*."
   ]
  },
  {
   "cell_type": "code",
   "execution_count": 52,
   "metadata": {},
   "outputs": [
    {
     "data": {
      "text/plain": [
       "2"
      ]
     },
     "execution_count": 52,
     "metadata": {},
     "output_type": "execute_result"
    }
   ],
   "source": [
    "4.intdiv(2)"
   ]
  },
  {
   "cell_type": "code",
   "execution_count": 60,
   "metadata": {},
   "outputs": [
    {
     "data": {
      "text/plain": [
       "class java.lang.Integer"
      ]
     },
     "execution_count": 60,
     "metadata": {},
     "output_type": "execute_result"
    }
   ],
   "source": [
    "(4.intdiv(2)).class"
   ]
  },
  {
   "cell_type": "code",
   "execution_count": 34,
   "metadata": {},
   "outputs": [
    {
     "data": {
      "text/plain": [
       "2"
      ]
     },
     "execution_count": 34,
     "metadata": {},
     "output_type": "execute_result"
    }
   ],
   "source": [
    "5%3"
   ]
  },
  {
   "cell_type": "markdown",
   "metadata": {},
   "source": [
    "### Unary operators\n",
    "\n",
    "A unary operator is one with only a single operand:\n",
    "\n",
    "Operator | Name \n",
    "---|---\n",
    "`-` | negative\n",
    "`+` | positive\n",
    "`~` | complement\n",
    "`++`| Increment\n",
    "`--`| Decrement"
   ]
  },
  {
   "cell_type": "code",
   "execution_count": 30,
   "metadata": {},
   "outputs": [
    {
     "data": {
      "text/plain": [
       "-5"
      ]
     },
     "execution_count": 30,
     "metadata": {},
     "output_type": "execute_result"
    }
   ],
   "source": [
    "def x = 5\n",
    "-x"
   ]
  },
  {
   "cell_type": "code",
   "execution_count": 31,
   "metadata": {},
   "outputs": [
    {
     "data": {
      "text/plain": [
       "-6"
      ]
     },
     "execution_count": 31,
     "metadata": {},
     "output_type": "execute_result"
    }
   ],
   "source": [
    "def x = 5\n",
    "~5"
   ]
  },
  {
   "cell_type": "code",
   "execution_count": 29,
   "metadata": {},
   "outputs": [
    {
     "data": {
      "text/plain": [
       "5"
      ]
     },
     "execution_count": 29,
     "metadata": {},
     "output_type": "execute_result"
    }
   ],
   "source": [
    "def x = 5\n",
    "x++"
   ]
  },
  {
   "cell_type": "markdown",
   "metadata": {},
   "source": [
    "Increment and decriment have pre and post operators:"
   ]
  },
  {
   "cell_type": "code",
   "execution_count": 35,
   "metadata": {},
   "outputs": [
    {
     "name": "stdout",
     "output_type": "stream",
     "text": [
      "56"
     ]
    },
    {
     "data": {
      "text/plain": [
       "null"
      ]
     },
     "execution_count": 35,
     "metadata": {},
     "output_type": "execute_result"
    }
   ],
   "source": [
    "def x = 5\n",
    "print x++\n",
    "print x"
   ]
  },
  {
   "cell_type": "code",
   "execution_count": 37,
   "metadata": {},
   "outputs": [
    {
     "name": "stdout",
     "output_type": "stream",
     "text": [
      "66"
     ]
    },
    {
     "data": {
      "text/plain": [
       "null"
      ]
     },
     "execution_count": 37,
     "metadata": {},
     "output_type": "execute_result"
    }
   ],
   "source": [
    "def x = 5\n",
    "print(++x)\n",
    "print x"
   ]
  },
  {
   "cell_type": "markdown",
   "metadata": {},
   "source": [
    "### Order of Precedence\n",
    "\n",
    "Groovy operators follow and order of precenence as follows:\n",
    "\n",
    "```\n",
    "Unary\n",
    "**\n",
    "* / %\n",
    "+ -\n",
    "```\n",
    "\n",
    "Parenthesis can be used to control the order in which operations are carried our.\n"
   ]
  },
  {
   "cell_type": "code",
   "execution_count": 38,
   "metadata": {},
   "outputs": [
    {
     "data": {
      "text/plain": [
       "35"
      ]
     },
     "execution_count": 38,
     "metadata": {},
     "output_type": "execute_result"
    }
   ],
   "source": [
    "5 + 3 * 10"
   ]
  },
  {
   "cell_type": "code",
   "execution_count": 39,
   "metadata": {},
   "outputs": [
    {
     "data": {
      "text/plain": [
       "80"
      ]
     },
     "execution_count": 39,
     "metadata": {},
     "output_type": "execute_result"
    }
   ],
   "source": [
    "(5 + 3) * 10"
   ]
  },
  {
   "cell_type": "markdown",
   "metadata": {},
   "source": [
    "###  Assignment arithmetic operators\n",
    "The binary arithmetic operators we have seen above are also available in an assignment form:\n",
    "```\n",
    "+=\n",
    "-=\n",
    "*=\n",
    "/=\n",
    "%=\n",
    "**=\n",
    "```\n",
    "Examples:"
   ]
  },
  {
   "cell_type": "code",
   "execution_count": 87,
   "metadata": {},
   "outputs": [
    {
     "data": {
      "text/plain": [
       "7"
      ]
     },
     "execution_count": 87,
     "metadata": {},
     "output_type": "execute_result"
    }
   ],
   "source": [
    "def a = 4\n",
    "a += 3"
   ]
  },
  {
   "cell_type": "code",
   "execution_count": 88,
   "metadata": {},
   "outputs": [
    {
     "data": {
      "text/plain": [
       "2"
      ]
     },
     "execution_count": 88,
     "metadata": {},
     "output_type": "execute_result"
    }
   ],
   "source": [
    "def b = 5\n",
    "b -= 3"
   ]
  },
  {
   "cell_type": "code",
   "execution_count": 89,
   "metadata": {},
   "outputs": [
    {
     "data": {
      "text/plain": [
       "15"
      ]
     },
     "execution_count": 89,
     "metadata": {},
     "output_type": "execute_result"
    }
   ],
   "source": [
    "def c = 5\n",
    "c *= 3"
   ]
  },
  {
   "cell_type": "code",
   "execution_count": 90,
   "metadata": {},
   "outputs": [
    {
     "data": {
      "text/plain": [
       "5"
      ]
     },
     "execution_count": 90,
     "metadata": {},
     "output_type": "execute_result"
    }
   ],
   "source": [
    "def d = 10\n",
    "d /= 2"
   ]
  },
  {
   "cell_type": "code",
   "execution_count": 91,
   "metadata": {},
   "outputs": [
    {
     "data": {
      "text/plain": [
       "1"
      ]
     },
     "execution_count": 91,
     "metadata": {},
     "output_type": "execute_result"
    }
   ],
   "source": [
    "def e = 10\n",
    "e %= 3"
   ]
  },
  {
   "cell_type": "code",
   "execution_count": 92,
   "metadata": {},
   "outputs": [
    {
     "data": {
      "text/plain": [
       "9"
      ]
     },
     "execution_count": 92,
     "metadata": {},
     "output_type": "execute_result"
    }
   ],
   "source": [
    "def f = 3\n",
    "f **= 2"
   ]
  },
  {
   "cell_type": "markdown",
   "metadata": {},
   "source": [
    "## Math Class\n",
    "\n"
   ]
  },
  {
   "cell_type": "code",
   "execution_count": 43,
   "metadata": {},
   "outputs": [
    {
     "data": {
      "text/plain": [
       "3.141592653589793"
      ]
     },
     "execution_count": 43,
     "metadata": {},
     "output_type": "execute_result"
    }
   ],
   "source": [
    "Math.PI"
   ]
  },
  {
   "cell_type": "code",
   "execution_count": 44,
   "metadata": {},
   "outputs": [
    {
     "data": {
      "text/plain": [
       "2.718281828459045"
      ]
     },
     "execution_count": 44,
     "metadata": {},
     "output_type": "execute_result"
    }
   ],
   "source": [
    "Math.E"
   ]
  },
  {
   "cell_type": "code",
   "execution_count": 49,
   "metadata": {},
   "outputs": [
    {
     "data": {
      "text/plain": [
       "1.0"
      ]
     },
     "execution_count": 49,
     "metadata": {},
     "output_type": "execute_result"
    }
   ],
   "source": [
    "Math.cos(0)"
   ]
  },
  {
   "cell_type": "code",
   "execution_count": 52,
   "metadata": {},
   "outputs": [
    {
     "data": {
      "text/plain": [
       "1.0"
      ]
     },
     "execution_count": 52,
     "metadata": {},
     "output_type": "execute_result"
    }
   ],
   "source": [
    "Math.log10(10)"
   ]
  },
  {
   "cell_type": "code",
   "execution_count": 53,
   "metadata": {},
   "outputs": [
    {
     "data": {
      "text/plain": [
       "5"
      ]
     },
     "execution_count": 53,
     "metadata": {},
     "output_type": "execute_result"
    }
   ],
   "source": [
    "Math.round(4.66666)"
   ]
  },
  {
   "cell_type": "code",
   "execution_count": 54,
   "metadata": {},
   "outputs": [
    {
     "data": {
      "text/plain": [
       "4.0"
      ]
     },
     "execution_count": 54,
     "metadata": {},
     "output_type": "execute_result"
    }
   ],
   "source": [
    "Math.floor(4.66666)"
   ]
  },
  {
   "cell_type": "code",
   "execution_count": 55,
   "metadata": {},
   "outputs": [
    {
     "data": {
      "text/plain": [
       "6.0"
      ]
     },
     "execution_count": 55,
     "metadata": {},
     "output_type": "execute_result"
    }
   ],
   "source": [
    "Math.ceil(5.3333)"
   ]
  },
  {
   "cell_type": "markdown",
   "metadata": {},
   "source": [
    "## Random Numbers"
   ]
  },
  {
   "cell_type": "code",
   "execution_count": 56,
   "metadata": {},
   "outputs": [
    {
     "data": {
      "text/plain": [
       "java.util.Random@562270d1"
      ]
     },
     "execution_count": 56,
     "metadata": {},
     "output_type": "execute_result"
    }
   ],
   "source": [
    "new Random()"
   ]
  },
  {
   "cell_type": "code",
   "execution_count": 58,
   "metadata": {},
   "outputs": [
    {
     "data": {
      "text/plain": [
       "9"
      ]
     },
     "execution_count": 58,
     "metadata": {},
     "output_type": "execute_result"
    }
   ],
   "source": [
    "new Random().nextInt(10)"
   ]
  },
  {
   "cell_type": "markdown",
   "metadata": {},
   "source": [
    "\n",
    "\n",
    "# Strings\n",
    "\n",
    "```\n",
    "                -   _- `\n",
    "              (         )\n",
    "          ,    (     ))   )\n",
    "        (                   )\n",
    "       (_      `___ -_   _-\n",
    "                 \\\n",
    "                  \\/\\              %\n",
    "                     \\           %   %   \n",
    "                      \\/        %     %   \n",
    "                                 %   % \n",
    "ejm                            '  % \n",
    "                              `'  +  \n",
    "                              '  ` +\n",
    "                             '    + \n",
    "                            '      +\n",
    "                          '          +\n",
    "                        '                +\n",
    "                      '\n",
    "                   '\n",
    "                '\n",
    "             '\n",
    "          '\n",
    "   c  .'\n",
    "  <\\\\/\n",
    "   |\\\n",
    "  / /\n",
    "```\n",
    "\n",
    "Text literals are represented in the form of chain of characters called strings. Groovy lets you instantiate java.lang.String objects, as well as GStrings (`groovy.lang.GString`) which are also called interpolated strings in other programming languages.\n",
    "\n",
    "## Single-quoted string\n",
    "Single-quoted strings are a series of characters surrounded by single quotes:"
   ]
  },
  {
   "cell_type": "code",
   "execution_count": 40,
   "metadata": {},
   "outputs": [
    {
     "data": {
      "text/plain": [
       "a single-quoted string"
      ]
     },
     "execution_count": 40,
     "metadata": {},
     "output_type": "execute_result"
    }
   ],
   "source": [
    "'a single-quoted string'"
   ]
  },
  {
   "cell_type": "markdown",
   "metadata": {},
   "source": [
    "Single-quoted strings are plain `java.lang.String` and don’t support interpolation.\n",
    "\n",
    "## String operations\n",
    "\n",
    "All the Groovy strings can be concatenated with the `+` operator:"
   ]
  },
  {
   "cell_type": "code",
   "execution_count": 9,
   "metadata": {},
   "outputs": [
    {
     "data": {
      "text/plain": [
       "null"
      ]
     },
     "execution_count": 9,
     "metadata": {},
     "output_type": "execute_result"
    }
   ],
   "source": [
    "assert 'ab' == 'a' + 'b'"
   ]
  },
  {
   "cell_type": "code",
   "execution_count": 61,
   "metadata": {},
   "outputs": [
    {
     "data": {
      "text/plain": [
       "null"
      ]
     },
     "execution_count": 61,
     "metadata": {},
     "output_type": "execute_result"
    }
   ],
   "source": [
    "assert 'a' * 3 == 'aaa'"
   ]
  },
  {
   "cell_type": "markdown",
   "metadata": {},
   "source": [
    "### String indexing\n",
    "\n",
    "Groovy Strings support the index opperator `[]`.  "
   ]
  },
  {
   "cell_type": "code",
   "execution_count": 223,
   "metadata": {},
   "outputs": [
    {
     "data": {
      "text/plain": [
       "h"
      ]
     },
     "execution_count": 223,
     "metadata": {},
     "output_type": "execute_result"
    }
   ],
   "source": [
    "message = 'hello world'\n",
    "\n",
    "message[0]"
   ]
  },
  {
   "cell_type": "code",
   "execution_count": 224,
   "metadata": {},
   "outputs": [
    {
     "data": {
      "text/plain": [
       "e"
      ]
     },
     "execution_count": 224,
     "metadata": {},
     "output_type": "execute_result"
    }
   ],
   "source": [
    "message[1]"
   ]
  },
  {
   "cell_type": "code",
   "execution_count": 225,
   "metadata": {},
   "outputs": [
    {
     "data": {
      "text/plain": [
       "d"
      ]
     },
     "execution_count": 225,
     "metadata": {},
     "output_type": "execute_result"
    }
   ],
   "source": [
    "message[-1]"
   ]
  },
  {
   "cell_type": "markdown",
   "metadata": {},
   "source": [
    "### String slicing\n",
    "\n",
    "A slice is a novel way to obtain a substring."
   ]
  },
  {
   "cell_type": "code",
   "execution_count": 228,
   "metadata": {},
   "outputs": [
    {
     "data": {
      "text/plain": [
       "hello"
      ]
     },
     "execution_count": 228,
     "metadata": {},
     "output_type": "execute_result"
    }
   ],
   "source": [
    "message[0..4] //  A range  of the firts 4 characters"
   ]
  },
  {
   "cell_type": "code",
   "execution_count": 227,
   "metadata": {},
   "outputs": [
    {
     "data": {
      "text/plain": [
       "howl"
      ]
     },
     "execution_count": 227,
     "metadata": {},
     "output_type": "execute_result"
    }
   ],
   "source": [
    "message[0, 4, 6, 9] // Selecting individual characters"
   ]
  },
  {
   "cell_type": "markdown",
   "metadata": {},
   "source": [
    "## String Methods\n",
    "\n",
    "A Groovy string is an instance of `java.lang.String` and thus supports all the methods found in the [java doc](https://docs.oracle.com/javase/8/docs/api/java/lang/String.html#method.summary).  In addition Groovy has added methods for use with closures, covered later."
   ]
  },
  {
   "cell_type": "markdown",
   "metadata": {},
   "source": [
    "##  Triple-single-quoted string\n",
    "Triple-single-quoted strings are a series of characters surrounded by triplets of single quotes:"
   ]
  },
  {
   "cell_type": "code",
   "execution_count": 1,
   "metadata": {},
   "outputs": [
    {
     "data": {
      "text/plain": [
       "a triple-single-quoted string"
      ]
     },
     "execution_count": 1,
     "metadata": {},
     "output_type": "execute_result"
    }
   ],
   "source": [
    "'''a triple-single-quoted string'''"
   ]
  },
  {
   "cell_type": "markdown",
   "metadata": {},
   "source": [
    "Triple-single-quoted strings are plain `java.lang.String` and don’t support interpolation.\n",
    "Triple-single-quoted strings may span multiple lines. The content of the string can cross line boundaries without the need to split the string in several pieces and without concatenation or newline escape characters:"
   ]
  },
  {
   "cell_type": "code",
   "execution_count": 2,
   "metadata": {},
   "outputs": [
    {
     "data": {
      "text/plain": [
       "line one\n",
       "line two\n",
       "line three"
      ]
     },
     "execution_count": 2,
     "metadata": {},
     "output_type": "execute_result"
    }
   ],
   "source": [
    "def aMultilineString = '''line one\n",
    "line two\n",
    "line three'''\n"
   ]
  },
  {
   "cell_type": "markdown",
   "metadata": {},
   "source": [
    "If your code is indented, for example in the body of the method of a class, your string will contain the whitespace of the indentation. The Groovy Development Kit contains methods for stripping out the indentation with the `String#stripIndent()` method, and with the `String#stripMargin()` method that takes a delimiter character to identify the text to remove from the beginning of a string.\n",
    "\n",
    "When creating a string as follows:"
   ]
  },
  {
   "cell_type": "code",
   "execution_count": 4,
   "metadata": {},
   "outputs": [
    {
     "data": {
      "text/plain": [
       "\n",
       "line one\n",
       "line two\n",
       "line three\n"
      ]
     },
     "execution_count": 4,
     "metadata": {},
     "output_type": "execute_result"
    }
   ],
   "source": [
    "\n",
    "def startingAndEndingWithANewline = '''\n",
    "line one\n",
    "line two\n",
    "line three\n",
    "'''"
   ]
  },
  {
   "cell_type": "markdown",
   "metadata": {},
   "source": [
    "You will notice that the resulting string contains a newline character as first character. It is possible to strip that character by escaping the newline with a backslash:"
   ]
  },
  {
   "cell_type": "code",
   "execution_count": 5,
   "metadata": {},
   "outputs": [
    {
     "data": {
      "text/plain": [
       "null"
      ]
     },
     "execution_count": 5,
     "metadata": {},
     "output_type": "execute_result"
    }
   ],
   "source": [
    "def strippedFirstNewline = '''\\\n",
    "line one\n",
    "line two\n",
    "line three\n",
    "'''\n",
    "\n",
    "assert !strippedFirstNewline.startsWith('\\n')"
   ]
  },
  {
   "cell_type": "markdown",
   "metadata": {},
   "source": [
    "### Escaping special characters\n",
    "You can escape single quotes with the backslash character to avoid terminating the string literal:"
   ]
  },
  {
   "cell_type": "code",
   "execution_count": 6,
   "metadata": {},
   "outputs": [
    {
     "data": {
      "text/plain": [
       "an escaped single quote: ' needs a backslash"
      ]
     },
     "execution_count": 6,
     "metadata": {},
     "output_type": "execute_result"
    }
   ],
   "source": [
    "'an escaped single quote: \\' needs a backslash'"
   ]
  },
  {
   "cell_type": "markdown",
   "metadata": {},
   "source": [
    "And you can escape the escape character itself with a double backslash:"
   ]
  },
  {
   "cell_type": "code",
   "execution_count": 7,
   "metadata": {},
   "outputs": [
    {
     "data": {
      "text/plain": [
       "an escaped escape character: \\ needs a double backslash"
      ]
     },
     "execution_count": 7,
     "metadata": {},
     "output_type": "execute_result"
    }
   ],
   "source": [
    "'an escaped escape character: \\\\ needs a double backslash'"
   ]
  },
  {
   "cell_type": "markdown",
   "metadata": {},
   "source": [
    "Some special characters also use the backslash as escape character:\n",
    "\n",
    "\n",
    "Escape sequence | Character\n",
    "---|---\n",
    "`\\t` | tabulation\n",
    "`\\b` | backspace\n",
    "`\\n` | newline\n",
    "`\\r` | carriage return\n",
    "`\\f` | formfeed\n",
    "`\\\\` | backslash\n",
    "`\\'` | single quote within a single-quoted string (and optional for triple-single-quoted and double-quoted strings)\n",
    "`\\\"` | double quote within a double-quoted string (and optional for triple-double-quoted and single-quoted strings)\n",
    "\n",
    "We’ll see some more escaping details when it comes to other types of strings discussed later."
   ]
  },
  {
   "cell_type": "markdown",
   "metadata": {},
   "source": [
    "### Unicode escape sequence\n",
    "\n",
    "For characters that are not present on your keyboard, you can use unicode escape sequences: a backslash, followed by 'u', then 4 hexadecimal digits.\n",
    "\n",
    "For example, the Euro currency symbol can be represented with:"
   ]
  },
  {
   "cell_type": "code",
   "execution_count": 8,
   "metadata": {},
   "outputs": [
    {
     "data": {
      "text/plain": [
       "The Euro currency symbol: €"
      ]
     },
     "execution_count": 8,
     "metadata": {},
     "output_type": "execute_result"
    }
   ],
   "source": [
    "'The Euro currency symbol: \\u20AC'"
   ]
  },
  {
   "cell_type": "markdown",
   "metadata": {},
   "source": [
    "## Double-quoted string\n",
    "\n",
    "Double-quoted strings are a series of characters surrounded by double quotes:"
   ]
  },
  {
   "cell_type": "code",
   "execution_count": 9,
   "metadata": {},
   "outputs": [
    {
     "data": {
      "text/plain": [
       "a double-quoted string"
      ]
     },
     "execution_count": 9,
     "metadata": {},
     "output_type": "execute_result"
    }
   ],
   "source": [
    "\"a double-quoted string\""
   ]
  },
  {
   "cell_type": "markdown",
   "metadata": {},
   "source": [
    "Double-quoted strings are plain java.lang.String if there’s no interpolated expression, but are groovy.lang.GString instances if interpolation is present.\n",
    "To escape a double quote, you can use the backslash character: \"A double quote: \\\"\"."
   ]
  },
  {
   "cell_type": "markdown",
   "metadata": {},
   "source": [
    "### String interpolation\n",
    "\n",
    "Any Groovy expression can be interpolated in all string literals, apart from single and triple-single-quoted strings. Interpolation is the act of replacing a placeholder in the string with its value upon evaluation of the string. The placeholder expressions are surrounded by `${}`. The curly braces may be omitted for unambiguous dotted expressions, i.e. we can use just a `$` prefix in those cases. If the *GString* is ever passed to a method taking a String, the expression value inside the placeholder is evaluated to its string representation (by calling toString() on that expression) and the resulting String is passed to the method.\n",
    "\n",
    "Here, we have a string with a placeholder referencing a local variable:"
   ]
  },
  {
   "cell_type": "code",
   "execution_count": 12,
   "metadata": {},
   "outputs": [
    {
     "name": "stdout",
     "output_type": "stream",
     "text": [
      "Hello Guillaume\n"
     ]
    },
    {
     "data": {
      "text/plain": [
       "null"
      ]
     },
     "execution_count": 12,
     "metadata": {},
     "output_type": "execute_result"
    }
   ],
   "source": [
    "def name = 'Guillaume' // a plain string\n",
    "def greeting = \"Hello ${name}\"\n",
    "println greeting\n",
    "assert greeting.toString() == 'Hello Guillaume'"
   ]
  },
  {
   "cell_type": "markdown",
   "metadata": {},
   "source": [
    "Any Groovy expression is valid, as we can see in this example with an arithmetic expression:"
   ]
  },
  {
   "cell_type": "code",
   "execution_count": 13,
   "metadata": {},
   "outputs": [
    {
     "name": "stdout",
     "output_type": "stream",
     "text": [
      "The sum of 2 and 3 equals 5\n"
     ]
    },
    {
     "data": {
      "text/plain": [
       "null"
      ]
     },
     "execution_count": 13,
     "metadata": {},
     "output_type": "execute_result"
    }
   ],
   "source": [
    "def sum = \"The sum of 2 and 3 equals ${2 + 3}\"\n",
    "println(sum)\n",
    "assert sum.toString() == 'The sum of 2 and 3 equals 5'"
   ]
  },
  {
   "cell_type": "markdown",
   "metadata": {},
   "source": [
    "Not only are expressions allowed in between the `${}` placeholder, but so are statements. However, a statement’s value is just null. So if several statements are inserted in that placeholder, the last one should somehow return a meaningful value to be inserted. \n",
    "\n",
    "For instance:"
   ]
  },
  {
   "cell_type": "code",
   "execution_count": 14,
   "metadata": {},
   "outputs": [
    {
     "data": {
      "text/plain": [
       "The sum of 1 and 2 is equal to 3"
      ]
     },
     "execution_count": 14,
     "metadata": {},
     "output_type": "execute_result"
    }
   ],
   "source": [
    "\"The sum of 1 and 2 is equal to ${def a = 1; def b = 2; a + b}\""
   ]
  },
  {
   "cell_type": "markdown",
   "metadata": {},
   "source": [
    "is supported and works as expected but a good practice is usually to stick to simple expressions inside GString placeholders.\n",
    "In addition to `${}` placeholders, we can also use a lone `$` sign prefixing a dotted expression:"
   ]
  },
  {
   "cell_type": "code",
   "execution_count": 15,
   "metadata": {},
   "outputs": [
    {
     "data": {
      "text/plain": [
       "null"
      ]
     },
     "execution_count": 15,
     "metadata": {},
     "output_type": "execute_result"
    }
   ],
   "source": [
    "def person = [name: 'Guillaume', age: 36] //This is Map object, which will be discussed later.\n",
    "assert \"$person.name is $person.age years old\" == 'Guillaume is 36 years old'"
   ]
  },
  {
   "cell_type": "markdown",
   "metadata": {},
   "source": [
    "But only dotted expressions of the form `a.b`, `a.b.c`, etc, are valid. Expressions containing parentheses like method calls, curly braces for closures, dots which aren’t part of a property expression or arithmetic operators would be invalid. Given the following variable definition of a number:"
   ]
  },
  {
   "cell_type": "code",
   "execution_count": 16,
   "metadata": {},
   "outputs": [
    {
     "data": {
      "text/plain": [
       "3.14"
      ]
     },
     "execution_count": 16,
     "metadata": {},
     "output_type": "execute_result"
    }
   ],
   "source": [
    "def number = 3.14"
   ]
  },
  {
   "cell_type": "markdown",
   "metadata": {},
   "source": [
    "The following statement will throw a groovy.lang.MissingPropertyException because Groovy believes you’re trying to access the toString property of that number, which doesn’t exist:\n",
    "\n",
    "```groovy\n",
    "shouldFail(MissingPropertyException) {\n",
    "    println \"$number.toString()\"\n",
    "}\n",
    "```\n",
    "\n",
    "You can think of `\"$number.toString()\"` as being interpreted by the parser as `\"${number.toString}()\"`.\n",
    "Similarly, if the expression is ambiguous, you need to keep the curly braces:"
   ]
  },
  {
   "cell_type": "code",
   "execution_count": 71,
   "metadata": {},
   "outputs": [
    {
     "data": {
      "application/vnd.jupyter.widget-view+json": {
       "model_id": "771017be-b179-4b21-a082-4837bb3d1b0a",
       "version_major": 2,
       "version_minor": 0
      },
      "method": "display_data"
     },
     "metadata": {},
     "output_type": "display_data"
    }
   ],
   "source": [
    "treasure = ['x' : 1, 'y': 2]"
   ]
  },
  {
   "cell_type": "code",
   "execution_count": 72,
   "metadata": {},
   "outputs": [
    {
     "data": {
      "text/plain": [
       "1"
      ]
     },
     "execution_count": 72,
     "metadata": {},
     "output_type": "execute_result"
    }
   ],
   "source": [
    "\"$treasure.x\""
   ]
  },
  {
   "cell_type": "code",
   "execution_count": 68,
   "metadata": {},
   "outputs": [
    {
     "ename": "groovy.lang.MissingPropertyException",
     "evalue": " No such property",
     "output_type": "error",
     "traceback": [
      "\u001b[1;31mgroovy.lang.MissingPropertyException: No such property: x for class: java.lang.String\u001b[0;0m",
      "\u001b[1;31m\tat this cell line 3\u001b[0;0m",
      "\u001b[0;31m\tat com.twosigma.beakerx.groovy.evaluator.GroovyCodeRunner.runScript(GroovyCodeRunner.java:94)\u001b[0;0m",
      "\u001b[0;31m\tat com.twosigma.beakerx.groovy.evaluator.GroovyCodeRunner.call(GroovyCodeRunner.java:59)\u001b[0;0m",
      "\u001b[0;31m\tat com.twosigma.beakerx.groovy.evaluator.GroovyCodeRunner.call(GroovyCodeRunner.java:32)\u001b[0;0m"
     ]
    }
   ],
   "source": [
    "String thing = 'treasure'\n",
    "assert 'The x-coordinate of the treasure is represented by treasure.x' == \"The x-coordinate of the $thing is represented by $thing.x\"   // <= Not allowed: ambiguous!!\n",
    "assert 'The x-coordinate of the treasure is represented by treasure.x' == \"The x-coordinate of the $thing is represented by ${thing}.x\"  // <= Curly braces required"
   ]
  },
  {
   "cell_type": "markdown",
   "metadata": {},
   "source": [
    "If you need to escape the `$` or `${}` placeholders in a *GString* so they appear as is without interpolation, you just need to use a `\\` backslash character to escape the dollar sign:"
   ]
  },
  {
   "cell_type": "code",
   "execution_count": 18,
   "metadata": {},
   "outputs": [
    {
     "data": {
      "text/plain": [
       "null"
      ]
     },
     "execution_count": 18,
     "metadata": {},
     "output_type": "execute_result"
    }
   ],
   "source": [
    "assert '$5' == \"\\$5\"\n",
    "assert '${name}' == \"\\${name}\""
   ]
  },
  {
   "cell_type": "markdown",
   "metadata": {},
   "source": [
    "### Triple quoted gstring"
   ]
  },
  {
   "cell_type": "code",
   "execution_count": 28,
   "metadata": {},
   "outputs": [
    {
     "data": {
      "text/plain": [
       "hello\n",
       "Fred"
      ]
     },
     "execution_count": 28,
     "metadata": {},
     "output_type": "execute_result"
    }
   ],
   "source": [
    "def name = 'Fred'\n",
    "\"\"\"hello\n",
    "$name\"\"\""
   ]
  },
  {
   "cell_type": "code",
   "execution_count": 55,
   "metadata": {},
   "outputs": [
    {
     "name": "stdout",
     "output_type": "stream",
     "text": [
      "\n",
      "Dear Mr Groovy,\n",
      "\n",
      "You're the winner of the lottery!\n",
      "\n",
      "Yours sincerly,\n",
      "\n",
      "Dave\n",
      "\n"
     ]
    },
    {
     "data": {
      "text/plain": [
       "null"
      ]
     },
     "execution_count": 55,
     "metadata": {},
     "output_type": "execute_result"
    }
   ],
   "source": [
    "def name = 'Groovy'\n",
    "def template = \"\"\"\n",
    "    Dear Mr ${name},\n",
    "\n",
    "    You're the winner of the lottery!\n",
    "\n",
    "    Yours sincerly,\n",
    "\n",
    "    Dave\n",
    "\"\"\"\n",
    "println template\n",
    "assert template.toString().contains('Groovy')"
   ]
  },
  {
   "cell_type": "markdown",
   "metadata": {},
   "source": [
    "# Booleans\n",
    "Boolean is a special data type that is used to represent truth values: true and false. Use this data type for simple flags that track true/false conditions.\n",
    "\n",
    "Boolean values can be stored in variables, assigned into fields, just like any other data type:"
   ]
  },
  {
   "cell_type": "code",
   "execution_count": 73,
   "metadata": {},
   "outputs": [
    {
     "data": {
      "text/plain": [
       "true"
      ]
     },
     "execution_count": 73,
     "metadata": {},
     "output_type": "execute_result"
    }
   ],
   "source": [
    "def myBooleanVariable = true\n",
    "boolean untypedBooleanVar = false\n",
    "booleanField = true"
   ]
  },
  {
   "cell_type": "markdown",
   "metadata": {},
   "source": [
    "`true` and `false` are the only two primitive boolean values. But more complex boolean expressions can be represented using logical operators."
   ]
  },
  {
   "cell_type": "markdown",
   "metadata": {},
   "source": [
    "In addition, Groovy has special rules (often referred to as Groovy Truth) for coercing non-boolean objects to a boolean value."
   ]
  },
  {
   "cell_type": "markdown",
   "metadata": {},
   "source": [
    "## Relational operators\n",
    "Relational operators allow comparisons between objects, to know if two objects are the same or different, or if one is greater than, less than, or equal to the other.\n",
    "\n",
    "The following operators are available:\n",
    "\n",
    "\n",
    "Operator| Purpose\n",
    "---|---\n",
    "`==` | equal\n",
    "`!=` | different\n",
    "`<` | less than\n",
    "`<=` | less than or equal\n",
    "`>` |  greater than\n",
    "`>=` | greater than or equal\n",
    "\n",
    "Here are some examples of simple number comparisons using these operators:"
   ]
  },
  {
   "cell_type": "code",
   "execution_count": 95,
   "metadata": {},
   "outputs": [
    {
     "data": {
      "text/plain": [
       "true"
      ]
     },
     "execution_count": 95,
     "metadata": {},
     "output_type": "execute_result"
    }
   ],
   "source": [
    "1 + 2 == 3"
   ]
  },
  {
   "cell_type": "code",
   "execution_count": 96,
   "metadata": {},
   "outputs": [
    {
     "data": {
      "text/plain": [
       "true"
      ]
     },
     "execution_count": 96,
     "metadata": {},
     "output_type": "execute_result"
    }
   ],
   "source": [
    "3 != 4"
   ]
  },
  {
   "cell_type": "code",
   "execution_count": 97,
   "metadata": {},
   "outputs": [
    {
     "data": {
      "text/plain": [
       "true"
      ]
     },
     "execution_count": 97,
     "metadata": {},
     "output_type": "execute_result"
    }
   ],
   "source": [
    "-2 < 3"
   ]
  },
  {
   "cell_type": "code",
   "execution_count": 98,
   "metadata": {},
   "outputs": [
    {
     "data": {
      "text/plain": [
       "true"
      ]
     },
     "execution_count": 98,
     "metadata": {},
     "output_type": "execute_result"
    }
   ],
   "source": [
    "2 <= 2"
   ]
  },
  {
   "cell_type": "code",
   "execution_count": 99,
   "metadata": {},
   "outputs": [
    {
     "data": {
      "text/plain": [
       "true"
      ]
     },
     "execution_count": 99,
     "metadata": {},
     "output_type": "execute_result"
    }
   ],
   "source": [
    "3 <= 4"
   ]
  },
  {
   "cell_type": "code",
   "execution_count": 100,
   "metadata": {},
   "outputs": [
    {
     "data": {
      "text/plain": [
       "true"
      ]
     },
     "execution_count": 100,
     "metadata": {},
     "output_type": "execute_result"
    }
   ],
   "source": [
    "5 > 1"
   ]
  },
  {
   "cell_type": "code",
   "execution_count": 101,
   "metadata": {},
   "outputs": [
    {
     "data": {
      "text/plain": [
       "true"
      ]
     },
     "execution_count": 101,
     "metadata": {},
     "output_type": "execute_result"
    }
   ],
   "source": [
    "5 >= -2"
   ]
  },
  {
   "cell_type": "markdown",
   "metadata": {},
   "source": [
    "## Logical operators\n",
    "Groovy offers three logical operators for boolean expressions:\n",
    "\n",
    "- `&&` : logical \"and\"\n",
    "\n",
    "- `||`: logical \"or\"\n",
    "\n",
    "- `!`: logical \"not\"\n",
    "\n",
    "Let’s illustrate them with the following examples:"
   ]
  },
  {
   "cell_type": "code",
   "execution_count": 105,
   "metadata": {},
   "outputs": [
    {
     "data": {
      "text/plain": [
       "null"
      ]
     },
     "execution_count": 105,
     "metadata": {},
     "output_type": "execute_result"
    }
   ],
   "source": [
    "assert !false           \n",
    "assert true && true     \n",
    "assert true || false  "
   ]
  },
  {
   "cell_type": "markdown",
   "metadata": {},
   "source": [
    " \"not\" false is true\n",
    "true \"and\" true is true\n",
    "true \"or\" false is true"
   ]
  },
  {
   "cell_type": "markdown",
   "metadata": {},
   "source": [
    "###  Precedence\n",
    "The logical \"not\" has a higher priority than the logical \"and\"."
   ]
  },
  {
   "cell_type": "code",
   "execution_count": 104,
   "metadata": {},
   "outputs": [
    {
     "data": {
      "text/plain": [
       "null"
      ]
     },
     "execution_count": 104,
     "metadata": {},
     "output_type": "execute_result"
    }
   ],
   "source": [
    "assert (!false && false) == false   "
   ]
  },
  {
   "cell_type": "markdown",
   "metadata": {},
   "source": [
    "Here, the assertion is true (as the expression in parentheses is false), because \"not\" has a higher precedence than \"and\", so it only applies to the first \"false\" term; otherwise, it would have applied to the result of the \"and\", turned it into true, and the assertion would have failed\n",
    "The logical \"and\" has a higher priority than the logical \"or\"."
   ]
  },
  {
   "cell_type": "code",
   "execution_count": 103,
   "metadata": {},
   "outputs": [
    {
     "data": {
      "text/plain": [
       "null"
      ]
     },
     "execution_count": 103,
     "metadata": {},
     "output_type": "execute_result"
    }
   ],
   "source": [
    "assert true || true && false        "
   ]
  },
  {
   "cell_type": "markdown",
   "metadata": {},
   "source": [
    "Here, the assertion is true, because \"and\" has a higher precedence than \"or\", therefore the \"or\" is executed last and returns true, having one true argument; otherwise, the \"and\" would have executed last and returned false, having one false argument, and the assertion would have failed"
   ]
  },
  {
   "cell_type": "markdown",
   "metadata": {},
   "source": [
    "### Short-circuiting\n",
    "The logical `||` operator supports short-circuiting: if the left operand is true, it knows that the result will be true in any case, so it won’t evaluate the right operand. The right operand will be evaluated only if the left operand is false.\n",
    "\n",
    "Likewise for the logical `&&` operator: if the left operand is false, it knows that the result will be false in any case, so it won’t evaluate the right operand. The right operand will be evaluated only if the left operand is true."
   ]
  },
  {
   "cell_type": "code",
   "execution_count": 118,
   "metadata": {},
   "outputs": [
    {
     "data": {
      "text/plain": [
       "null"
      ]
     },
     "execution_count": 118,
     "metadata": {},
     "output_type": "execute_result"
    }
   ],
   "source": [
    "boolean checkIfCalled() {   \n",
    "    called = true\n",
    "}\n",
    "\n",
    "called = false\n",
    "true || checkIfCalled()\n",
    "assert !called                \n",
    "\n",
    "called = false\n",
    "false || checkIfCalled()             \n",
    "assert called  \n",
    "\n",
    "called = false\n",
    "false && checkIfCalled()\n",
    "assert !called              \n",
    "\n",
    "called = false\n",
    "true && checkIfCalled()\n",
    "assert called"
   ]
  },
  {
   "cell_type": "markdown",
   "metadata": {},
   "source": [
    "We create a function that sets the called flag to true whenever it’s called\n",
    "In the first case, after resetting the called flag, we confirm that if the left operand to `||` is true, the function is not called, as `||` short-circuits the evaluation of the right operand\n",
    "In the second case, the left operand is false and so the function is called, as indicated by the fact our flag is now true\n",
    "Likewise for `&&`, we confirm that the function is not called with a false left operand\n",
    "But the function is called with a true left operand"
   ]
  },
  {
   "cell_type": "markdown",
   "metadata": {},
   "source": [
    "## The Groovy Truth\n",
    "\n",
    "```\n",
    "               ,,ggddY888Ybbgg,,\n",
    "          ,agd8\"\"'   .d8888888888bga,\n",
    "       ,gdP\"\"'     .d88888888888888888g,\n",
    "     ,dP\"        ,d888888888888888888888b,\n",
    "   ,dP\"         ,8888888888888888888888888b,\n",
    "  ,8\"          ,8888888P\"\"\"88888888888888888,\n",
    " ,8'           I888888I    )88888888888888888,\n",
    ",8'            `8888888booo8888888888888888888,\n",
    "d'              `88888888888888888888888888888b\n",
    "8                `\"8888888888888888888888888888\n",
    "8                  `\"88888888888888888888888888\n",
    "8                      `\"8888888888888888888888\n",
    "Y,                        `8888888888888888888P\n",
    "`8,                         `88888888888888888'\n",
    " `8,              .oo.       `888888888888888'\n",
    "  `8a             8888        88888888888888'\n",
    "   `Yba           `\"\"'       ,888888888888P'\n",
    "     \"Yba                   ,88888888888'\n",
    "       `\"Yba,             ,8888888888P\"'                \n",
    "          `\"Y8baa,      ,d88888888P\"'\n",
    "               ``\"\"YYba8888P888\"'\n",
    "```\n",
    "\n",
    "Groovy decides whether a expression is true or false by applying the rules given below.\n",
    "\n",
    "### Boolean expressions\n",
    "\n",
    "True if the corresponding Boolean value is true."
   ]
  },
  {
   "cell_type": "code",
   "execution_count": 75,
   "metadata": {},
   "outputs": [
    {
     "data": {
      "text/plain": [
       "null"
      ]
     },
     "execution_count": 75,
     "metadata": {},
     "output_type": "execute_result"
    }
   ],
   "source": [
    "assert true == !false"
   ]
  },
  {
   "cell_type": "markdown",
   "metadata": {},
   "source": [
    "### Collections and Arrays\n",
    "\n",
    "Non-empty Collections and arrays are true."
   ]
  },
  {
   "cell_type": "code",
   "execution_count": 76,
   "metadata": {},
   "outputs": [
    {
     "data": {
      "text/plain": [
       "null"
      ]
     },
     "execution_count": 76,
     "metadata": {},
     "output_type": "execute_result"
    }
   ],
   "source": [
    "assert [1, 2, 3]\n",
    "assert ![]"
   ]
  },
  {
   "cell_type": "markdown",
   "metadata": {},
   "source": [
    "### Maps\n",
    "\n",
    "Non-empty Maps are evaluated to true."
   ]
  },
  {
   "cell_type": "code",
   "execution_count": 77,
   "metadata": {},
   "outputs": [
    {
     "data": {
      "text/plain": [
       "null"
      ]
     },
     "execution_count": 77,
     "metadata": {},
     "output_type": "execute_result"
    }
   ],
   "source": [
    "assert ['one' : 1]\n",
    "assert ![:]"
   ]
  },
  {
   "cell_type": "markdown",
   "metadata": {},
   "source": [
    "### Strings\n",
    "Non-empty Strings, GStrings and CharSequences are coerced to true."
   ]
  },
  {
   "cell_type": "code",
   "execution_count": 78,
   "metadata": {},
   "outputs": [
    {
     "data": {
      "text/plain": [
       "null"
      ]
     },
     "execution_count": 78,
     "metadata": {},
     "output_type": "execute_result"
    }
   ],
   "source": [
    "assert 'a'\n",
    "assert !''\n",
    "def nonEmpty = 'a'\n",
    "assert \"$nonEmpty\"\n",
    "def empty = ''\n",
    "assert !\"$empty\""
   ]
  },
  {
   "cell_type": "markdown",
   "metadata": {},
   "source": [
    "### Numbers\n",
    "Non-zero numbers are true."
   ]
  },
  {
   "cell_type": "code",
   "execution_count": 79,
   "metadata": {},
   "outputs": [
    {
     "data": {
      "text/plain": [
       "null"
      ]
     },
     "execution_count": 79,
     "metadata": {},
     "output_type": "execute_result"
    }
   ],
   "source": [
    "assert 1\n",
    "assert 3.5\n",
    "assert !0"
   ]
  },
  {
   "cell_type": "markdown",
   "metadata": {},
   "source": [
    "### Object References\n",
    "Non-null object references are coerced to true."
   ]
  },
  {
   "cell_type": "code",
   "execution_count": 80,
   "metadata": {},
   "outputs": [
    {
     "data": {
      "text/plain": [
       "null"
      ]
     },
     "execution_count": 80,
     "metadata": {},
     "output_type": "execute_result"
    }
   ],
   "source": [
    "assert new Object()\n",
    "assert !null"
   ]
  },
  {
   "cell_type": "markdown",
   "metadata": {},
   "source": [
    "# Conditional Execution\n",
    "\n",
    "\n",
    "```\n",
    "+-----------+\n",
    "|           |\n",
    "|           |\n",
    "+-----+-----+\n",
    "      |\n",
    "      v\n",
    "      X            Yes\n",
    "   X     X     +-----------+\n",
    "X          X+->+           |\n",
    "   X    X      |           |\n",
    "      X        +-----------+\n",
    "      +\n",
    "      |   No\n",
    "      v\n",
    "+-----+------+\n",
    "|            |\n",
    "|            |\n",
    "+------------+\n",
    "```\n",
    "\n",
    "## `if .. else`\n",
    "\n",
    "The `if .. else` statement in groovy works exaclty the same way as the in java, except that the condition referred to below does not have to be a boolean expression.\n",
    "\n",
    "```groovy\n",
    "if (condition) statement or {}\n",
    "else statement or {}\n",
    "```\n",
    "\n"
   ]
  },
  {
   "cell_type": "code",
   "execution_count": 235,
   "metadata": {},
   "outputs": [
    {
     "name": "stdout",
     "output_type": "stream",
     "text": [
      "You can get a drivers licence\n"
     ]
    },
    {
     "data": {
      "text/plain": [
       "null"
      ]
     },
     "execution_count": 235,
     "metadata": {},
     "output_type": "execute_result"
    }
   ],
   "source": [
    "// age = System.console().readLine('What is your name? ').toInteger()  // console object not available in Jupyter\n",
    "age = 33\n",
    "if (age > 18) println \"You can get a drivers licence\"\n",
    "else println \"You are too young\""
   ]
  },
  {
   "cell_type": "markdown",
   "metadata": {},
   "source": [
    "More complex `if .. else1` statements nest `if`."
   ]
  },
  {
   "cell_type": "code",
   "execution_count": 236,
   "metadata": {},
   "outputs": [
    {
     "name": "stdout",
     "output_type": "stream",
     "text": [
      "adult\n"
     ]
    },
    {
     "data": {
      "text/plain": [
       "null"
      ]
     },
     "execution_count": 236,
     "metadata": {},
     "output_type": "execute_result"
    }
   ],
   "source": [
    "if (age <=0) println \"invalid age\"\n",
    "else if (age <=1) println \"baby\"\n",
    "else if (age <=13) println \"child\"\n",
    "else if (age <=18) println \"teen\"\n",
    "else if (age <=120) println \"adult\"\n",
    "else  println \" I don't believe you\""
   ]
  },
  {
   "cell_type": "markdown",
   "metadata": {},
   "source": [
    "### Ternary and elvis\n",
    "\n",
    "Groovy supports the ternary or conditional opperator.\n",
    "\n",
    "```groovy\n",
    "condition ? expression_when_true : expression_when_false\n",
    "```"
   ]
  },
  {
   "cell_type": "code",
   "execution_count": 241,
   "metadata": {},
   "outputs": [
    {
     "name": "stdout",
     "output_type": "stream",
     "text": [
      "You can drive\n"
     ]
    },
    {
     "data": {
      "text/plain": [
       "null"
      ]
     },
     "execution_count": 241,
     "metadata": {},
     "output_type": "execute_result"
    }
   ],
   "source": [
    "println(age > 18 ? 'You can drive' : 'you are too young')"
   ]
  },
  {
   "cell_type": "markdown",
   "metadata": {},
   "source": [
    "A common use for the ternary is to assign a default value to a variable when a user supplied variable may not be available or in a suitable range."
   ]
  },
  {
   "cell_type": "code",
   "execution_count": 250,
   "metadata": {},
   "outputs": [
    {
     "data": {
      "text/plain": [
       "5"
      ]
     },
     "execution_count": 250,
     "metadata": {},
     "output_type": "execute_result"
    }
   ],
   "source": [
    "def len = 5\n",
    "range = (len != null) ? len : 10"
   ]
  },
  {
   "cell_type": "code",
   "execution_count": 251,
   "metadata": {},
   "outputs": [
    {
     "data": {
      "text/plain": [
       "10"
      ]
     },
     "execution_count": 251,
     "metadata": {},
     "output_type": "execute_result"
    }
   ],
   "source": [
    "range = (len != null) ? len : 10"
   ]
  },
  {
   "cell_type": "markdown",
   "metadata": {},
   "source": [
    "```\n",
    "                       /`  `'-.\n",
    "                      |     _  `\\\n",
    "                      \\'-,'` \\   |\n",
    "                       /a a  |  /\n",
    "                       |/_   //)\n",
    "                       \\ __, `/\n",
    "                     .'`\\___.'('-.__\n",
    "                    /__ ;    /_   \\ `\\\n",
    "```\n",
    "\n",
    "\n",
    "\n",
    "\n",
    "The elvis operator `?:` is a shortcut for this usage.  It simply leaves out the null check."
   ]
  },
  {
   "cell_type": "code",
   "execution_count": 252,
   "metadata": {},
   "outputs": [
    {
     "data": {
      "text/plain": [
       "5"
      ]
     },
     "execution_count": 252,
     "metadata": {},
     "output_type": "execute_result"
    }
   ],
   "source": [
    "def len = 5\n",
    "range = len ?: 10"
   ]
  },
  {
   "cell_type": "code",
   "execution_count": 253,
   "metadata": {},
   "outputs": [
    {
     "data": {
      "text/plain": [
       "10"
      ]
     },
     "execution_count": 253,
     "metadata": {},
     "output_type": "execute_result"
    }
   ],
   "source": [
    "range = len ?: 10"
   ]
  },
  {
   "cell_type": "markdown",
   "metadata": {},
   "source": [
    "## Switch\n",
    "The switch statement in Groovy is backwards compatible with Java code; so you can fall through cases sharing the same code for multiple matches.\n",
    "One difference though is that the Groovy switch statement can handle any kind of switch value and different kinds of matching can be performed.\n",
    "\n",
    "```groovy\n",
    "switch (expression) {\n",
    "    case MATCH:\n",
    "        statements 'to do if expr matches MATCH' \n",
    "        break\n",
    "    \n",
    "    case MATCH2:\n",
    "        statements 'to do if expr matches MATCH2'\n",
    "        break\n",
    "    \n",
    "    default:\n",
    "        statemenst 'to do if none of the cases matched'\n",
    "}\n",
    "       \n",
    "```"
   ]
  },
  {
   "cell_type": "code",
   "execution_count": 254,
   "metadata": {},
   "outputs": [
    {
     "data": {
      "text/plain": [
       "null"
      ]
     },
     "execution_count": 254,
     "metadata": {},
     "output_type": "execute_result"
    }
   ],
   "source": [
    "def x = 1.23\n",
    "def result = \"\"\n",
    "\n",
    "switch ( x ) {\n",
    "    case \"foo\":\n",
    "        result = \"found foo\"\n",
    "        // lets fall through\n",
    "\n",
    "    case \"bar\":\n",
    "        result += \"bar\"\n",
    "\n",
    "    case [4, 5, 6, 'inList']:\n",
    "        result = \"list\"\n",
    "        break\n",
    "\n",
    "    case 12..30:\n",
    "        result = \"range\"\n",
    "        break\n",
    "\n",
    "    case Integer:\n",
    "        result = \"integer\"\n",
    "        break\n",
    "\n",
    "    case Number:\n",
    "        result = \"number\"\n",
    "        break\n",
    "\n",
    "    case ~/fo*/: // toString() representation of x matches the pattern?\n",
    "        result = \"foo regex\"\n",
    "        break\n",
    "\n",
    "    case { it < 0 }: // or { x < 0 }\n",
    "        result = \"negative\"\n",
    "        break\n",
    "\n",
    "    default:\n",
    "        result = \"default\"\n",
    "}\n",
    "\n",
    "assert result == \"number\""
   ]
  },
  {
   "cell_type": "markdown",
   "metadata": {},
   "source": [
    "Switch supports the following kinds of comparisons:\n",
    "- Class case values match if the switch value is an instance of the class\n",
    "- Regular expression case values match if the toString() representation of the switch value matches the regex\n",
    "- Collection case values match if the switch value is contained in the collection. This also includes ranges (since they are Lists)\n",
    "- Closure case values match if the calling the closure returns a result which is true according to the Groovy truth\n",
    "\n",
    "If none of the above are used then the case value matches if the case value equals the switch value\n",
    "When using a closure case value, the default it parameter is actually the switch value (in our example, variable x)."
   ]
  },
  {
   "cell_type": "markdown",
   "metadata": {},
   "source": [
    "# Lists\n",
    "\n",
    "```\n",
    "    _,aaaaaaaaaaaaaaaaaaa,_                _,aaaaaaaaaaaaaaaaaaa,_\n",
    "  ,P\"                     \"Y,            ,P\"                     \"Y,\n",
    " d'    ,aaaaaaaaaaaaaaa,    `b          d'    ,aaaaaaaaaaaaaaa,    `b\n",
    "d'   ,d\"            ,aaabaaaa8aaaaaaaaaa8aaaadaaa,            \"b,   `b\n",
    "I    I              I                            I              I    I\n",
    "Y,   `Y,            `aaaaaaaaaaaaaaaaaaaaaaaaaaaa'            ,P'   ,P\n",
    " Y,   `baaaaaaaaaaaaaaad'   ,P          Y,   `baaaaaaaaaaaaaad'   ,P\n",
    "  `b,                     ,d'            `b,                     ,d'\n",
    "    `baaaaaaaaaaaaaaaaaaad'                `baaaaaaaaaaaaaaaaaaad'\n",
    "                                                            \n",
    "```\n",
    "\n",
    "Groovy uses a comma-separated list of values, surrounded by square brackets, to denote lists. Groovy lists are plain JDK java.util.List, as Groovy doesn’t define its own collection classes. The concrete list implementation used when defining list literals are java.util.ArrayList by default, unless you decide to specify otherwise, as we shall see later on.\n",
    "\n",
    "## List Creation"
   ]
  },
  {
   "cell_type": "code",
   "execution_count": 119,
   "metadata": {},
   "outputs": [
    {
     "data": {
      "text/plain": [
       "[1, 2, 3]"
      ]
     },
     "execution_count": 119,
     "metadata": {},
     "output_type": "execute_result"
    }
   ],
   "source": [
    "numbers = [1, 2, 3]         "
   ]
  },
  {
   "cell_type": "code",
   "execution_count": 120,
   "metadata": {},
   "outputs": [
    {
     "data": {
      "text/plain": [
       "class java.util.ArrayList"
      ]
     },
     "execution_count": 120,
     "metadata": {},
     "output_type": "execute_result"
    }
   ],
   "source": [
    "numbers.class"
   ]
  },
  {
   "cell_type": "code",
   "execution_count": 121,
   "metadata": {},
   "outputs": [
    {
     "data": {
      "text/plain": [
       "3"
      ]
     },
     "execution_count": 121,
     "metadata": {},
     "output_type": "execute_result"
    }
   ],
   "source": [
    "numbers.size()"
   ]
  },
  {
   "cell_type": "markdown",
   "metadata": {},
   "source": [
    "We define a list numbers delimited by commas and surrounded by square brackets, and we assign that list into a variable\n",
    "The list is an instance of Java’s java.util.List interface\n",
    "The size of the list can be queried with the size() method, and shows our list contains 3 elements\n",
    "In the above example, we used a homogeneous list, but you can also create lists containing values of heterogeneous types:"
   ]
  },
  {
   "cell_type": "code",
   "execution_count": 122,
   "metadata": {},
   "outputs": [
    {
     "data": {
      "text/plain": [
       "[1, a, true]"
      ]
     },
     "execution_count": 122,
     "metadata": {},
     "output_type": "execute_result"
    }
   ],
   "source": [
    "heterogeneous = [1, \"a\", true]  "
   ]
  },
  {
   "cell_type": "markdown",
   "metadata": {},
   "source": [
    "Our list here contains a number, a string and a boolean value\n",
    "We mentioned that by default, list literals are actually instances of java.util.ArrayList, but it is possible to use a different backing type for our lists, thanks to using type coercion with the as operator, or with explicit type declaration for your variables:"
   ]
  },
  {
   "cell_type": "code",
   "execution_count": 139,
   "metadata": {},
   "outputs": [
    {
     "data": {
      "text/plain": [
       "null"
      ]
     },
     "execution_count": 139,
     "metadata": {},
     "output_type": "execute_result"
    }
   ],
   "source": [
    "def arrayList = [1, 2, 3]\n",
    "assert arrayList instanceof java.util.ArrayList"
   ]
  },
  {
   "cell_type": "code",
   "execution_count": 140,
   "metadata": {},
   "outputs": [
    {
     "data": {
      "text/plain": [
       "null"
      ]
     },
     "execution_count": 140,
     "metadata": {},
     "output_type": "execute_result"
    }
   ],
   "source": [
    "def linkedList = [2, 3, 4] as LinkedList    \n",
    "assert linkedList instanceof java.util.LinkedList"
   ]
  },
  {
   "cell_type": "code",
   "execution_count": 141,
   "metadata": {},
   "outputs": [
    {
     "data": {
      "text/plain": [
       "null"
      ]
     },
     "execution_count": 141,
     "metadata": {},
     "output_type": "execute_result"
    }
   ],
   "source": [
    "LinkedList otherLinked = [3, 4, 5]          \n",
    "assert otherLinked instanceof java.util.LinkedList"
   ]
  },
  {
   "cell_type": "markdown",
   "metadata": {},
   "source": [
    "We use coercion with the as operator to explicitly request a `java.util.LinkedList` implementation\n",
    "We can say that the variable holding the list literal is of type `java.util.LinkedList`\n",
    "You can access elements of the list with the `[]` subscript operator (both for reading and setting values) with positive indices or negative indices to access elements from the end of the list, as well as with ranges, and use the `<<` leftShift operator to append elements to a list:"
   ]
  },
  {
   "cell_type": "markdown",
   "metadata": {},
   "source": [
    "### Lists from ranges"
   ]
  },
  {
   "cell_type": "code",
   "execution_count": 230,
   "metadata": {},
   "outputs": [
    {
     "data": {
      "text/plain": [
       "[0, 1, 2, 3, 4, 5, 6, 7, 8, 9, 10]"
      ]
     },
     "execution_count": 230,
     "metadata": {},
     "output_type": "execute_result"
    }
   ],
   "source": [
    "0..10"
   ]
  },
  {
   "cell_type": "code",
   "execution_count": 231,
   "metadata": {},
   "outputs": [
    {
     "data": {
      "text/plain": [
       "[a, b, c, d, e, f, g, h, i, j]"
      ]
     },
     "execution_count": 231,
     "metadata": {},
     "output_type": "execute_result"
    }
   ],
   "source": [
    "'a'..'j'"
   ]
  },
  {
   "cell_type": "code",
   "execution_count": 232,
   "metadata": {},
   "outputs": [
    {
     "data": {
      "text/plain": [
       "[aa, ab, ac]"
      ]
     },
     "execution_count": 232,
     "metadata": {},
     "output_type": "execute_result"
    }
   ],
   "source": [
    "'aa'..'ac'"
   ]
  },
  {
   "cell_type": "markdown",
   "metadata": {},
   "source": [
    "## List indexes"
   ]
  },
  {
   "cell_type": "code",
   "execution_count": 142,
   "metadata": {},
   "outputs": [
    {
     "data": {
      "text/plain": [
       "[a, b, c, d]"
      ]
     },
     "execution_count": 142,
     "metadata": {},
     "output_type": "execute_result"
    }
   ],
   "source": [
    "letters = ['a', 'b', 'c', 'd']"
   ]
  },
  {
   "cell_type": "code",
   "execution_count": 143,
   "metadata": {},
   "outputs": [
    {
     "data": {
      "text/plain": [
       "a"
      ]
     },
     "execution_count": 143,
     "metadata": {},
     "output_type": "execute_result"
    }
   ],
   "source": [
    "letters[0]"
   ]
  },
  {
   "cell_type": "code",
   "execution_count": 144,
   "metadata": {},
   "outputs": [
    {
     "data": {
      "text/plain": [
       "c"
      ]
     },
     "execution_count": 144,
     "metadata": {},
     "output_type": "execute_result"
    }
   ],
   "source": [
    "letters[2]"
   ]
  },
  {
   "cell_type": "markdown",
   "metadata": {},
   "source": [
    "### Negative index\n",
    "Access the last element of the list with a negative index: -1 is the first element from the end of the list"
   ]
  },
  {
   "cell_type": "code",
   "execution_count": 145,
   "metadata": {},
   "outputs": [
    {
     "data": {
      "text/plain": [
       "d"
      ]
     },
     "execution_count": 145,
     "metadata": {},
     "output_type": "execute_result"
    }
   ],
   "source": [
    "letters[-1]"
   ]
  },
  {
   "cell_type": "code",
   "execution_count": 146,
   "metadata": {},
   "outputs": [
    {
     "data": {
      "text/plain": [
       "c"
      ]
     },
     "execution_count": 146,
     "metadata": {},
     "output_type": "execute_result"
    }
   ],
   "source": [
    "letters[-2]"
   ]
  },
  {
   "cell_type": "markdown",
   "metadata": {},
   "source": [
    "### Index assignment\n",
    "\n",
    "Use an assignment to set a new value for the third element of the list"
   ]
  },
  {
   "cell_type": "code",
   "execution_count": 147,
   "metadata": {},
   "outputs": [
    {
     "data": {
      "text/plain": [
       "C"
      ]
     },
     "execution_count": 147,
     "metadata": {},
     "output_type": "execute_result"
    }
   ],
   "source": [
    "letters[2] = 'C'"
   ]
  },
  {
   "cell_type": "markdown",
   "metadata": {},
   "source": [
    "## Appending a list\n",
    "\n",
    "Use the `<<` leftShift operator to append an element at the end of the list"
   ]
  },
  {
   "cell_type": "code",
   "execution_count": 148,
   "metadata": {},
   "outputs": [
    {
     "data": {
      "text/plain": [
       "e"
      ]
     },
     "execution_count": 148,
     "metadata": {},
     "output_type": "execute_result"
    }
   ],
   "source": [
    "letters << 'e'               \n",
    "letters[ 4]"
   ]
  },
  {
   "cell_type": "code",
   "execution_count": 149,
   "metadata": {},
   "outputs": [
    {
     "data": {
      "text/plain": [
       "null"
      ]
     },
     "execution_count": 149,
     "metadata": {},
     "output_type": "execute_result"
    }
   ],
   "source": [
    "assert letters[-1] == 'e'"
   ]
  },
  {
   "cell_type": "markdown",
   "metadata": {},
   "source": [
    "Using the `ArrayList.add()` method."
   ]
  },
  {
   "cell_type": "code",
   "execution_count": 150,
   "metadata": {},
   "outputs": [
    {
     "data": {
      "text/plain": [
       "f"
      ]
     },
     "execution_count": 150,
     "metadata": {},
     "output_type": "execute_result"
    }
   ],
   "source": [
    "letters.add('f')               \n",
    "letters[5]"
   ]
  },
  {
   "cell_type": "markdown",
   "metadata": {},
   "source": [
    "## Slicing a List"
   ]
  },
  {
   "cell_type": "markdown",
   "metadata": {},
   "source": [
    "### Select individual members\n",
    "Access two elements at once, returning a new list containing those two elements"
   ]
  },
  {
   "cell_type": "code",
   "execution_count": 151,
   "metadata": {},
   "outputs": [
    {
     "data": {
      "text/plain": [
       "[b, d]"
      ]
     },
     "execution_count": 151,
     "metadata": {},
     "output_type": "execute_result"
    }
   ],
   "source": [
    "letters[1, 3]"
   ]
  },
  {
   "cell_type": "markdown",
   "metadata": {},
   "source": [
    "### Select a range\n",
    "Use a range to access a range of values from the list, from a start to an end element position"
   ]
  },
  {
   "cell_type": "code",
   "execution_count": 152,
   "metadata": {},
   "outputs": [
    {
     "data": {
      "text/plain": [
       "[C, d, e]"
      ]
     },
     "execution_count": 152,
     "metadata": {},
     "output_type": "execute_result"
    }
   ],
   "source": [
    "letters[2..4]"
   ]
  },
  {
   "cell_type": "markdown",
   "metadata": {},
   "source": [
    "## Multi dimensional\n",
    "\n",
    "As lists can be heterogeneous in nature, lists can also contain other lists to create multi-dimensional lists:"
   ]
  },
  {
   "cell_type": "code",
   "execution_count": 153,
   "metadata": {},
   "outputs": [
    {
     "data": {
      "text/plain": [
       "null"
      ]
     },
     "execution_count": 153,
     "metadata": {},
     "output_type": "execute_result"
    }
   ],
   "source": [
    "def multi = [[0, 1], [2, 3]]     \n",
    "assert multi[1][0] == 2          "
   ]
  },
  {
   "cell_type": "markdown",
   "metadata": {},
   "source": [
    "Define a list of list of numbers\n",
    "Access the second element of the top-most list, and the first element of the inner list"
   ]
  },
  {
   "cell_type": "markdown",
   "metadata": {},
   "source": [
    "# Arrays\n",
    "Groovy reuses the list notation for arrays, but to make such literals arrays, you need to explicitely define the type of the array through coercion or type declaration."
   ]
  },
  {
   "cell_type": "code",
   "execution_count": 154,
   "metadata": {},
   "outputs": [
    {
     "data": {
      "text/plain": [
       "null"
      ]
     },
     "execution_count": 154,
     "metadata": {},
     "output_type": "execute_result"
    }
   ],
   "source": [
    "String[] arrStr = ['Ananas', 'Banana', 'Kiwi']  \n",
    "\n",
    "assert arrStr instanceof String[]    \n",
    "assert !(arrStr instanceof List)"
   ]
  },
  {
   "cell_type": "code",
   "execution_count": 155,
   "metadata": {},
   "outputs": [
    {
     "data": {
      "text/plain": [
       "null"
      ]
     },
     "execution_count": 155,
     "metadata": {},
     "output_type": "execute_result"
    }
   ],
   "source": [
    "def numArr = [1, 2, 3] as int[]      \n",
    "\n",
    "assert numArr instanceof int[]       \n",
    "assert numArr.size() == 3"
   ]
  },
  {
   "cell_type": "markdown",
   "metadata": {},
   "source": [
    "Define an array of strings using explicit variable type declaration\n",
    "Assert that we created an array of strings\n",
    "Create an array of ints with the as operator\n",
    "Assert that we created an array of primitive ints\n",
    "You can also create multi-dimensional arrays:"
   ]
  },
  {
   "cell_type": "code",
   "execution_count": 156,
   "metadata": {},
   "outputs": [
    {
     "data": {
      "text/plain": [
       "null"
      ]
     },
     "execution_count": 156,
     "metadata": {},
     "output_type": "execute_result"
    }
   ],
   "source": [
    "def matrix3 = new Integer[3][3]         \n",
    "assert matrix3.size() == 3"
   ]
  },
  {
   "cell_type": "code",
   "execution_count": 157,
   "metadata": {},
   "outputs": [
    {
     "data": {
      "text/plain": [
       "null"
      ]
     },
     "execution_count": 157,
     "metadata": {},
     "output_type": "execute_result"
    }
   ],
   "source": [
    "Integer[][] matrix2                     \n",
    "matrix2 = [[1, 2], [3, 4]]\n",
    "assert matrix2 instanceof Integer[][]"
   ]
  },
  {
   "cell_type": "markdown",
   "metadata": {},
   "source": [
    "You can define the bounds of a new array\n",
    "Or declare an array without specifying its bounds\n",
    "Access to elements of an array follows the same notation as for lists:"
   ]
  },
  {
   "cell_type": "code",
   "execution_count": 160,
   "metadata": {},
   "outputs": [
    {
     "data": {
      "text/plain": [
       "null"
      ]
     },
     "execution_count": 160,
     "metadata": {},
     "output_type": "execute_result"
    }
   ],
   "source": [
    "String[] names = ['Cédric', 'Guillaume', 'Jochen', 'Paul']\n",
    "assert names[0] == 'Cédric'     \n",
    "\n",
    "names[2] = 'Blackdrag'          \n",
    "assert names[2] == 'Blackdrag'"
   ]
  },
  {
   "cell_type": "markdown",
   "metadata": {},
   "source": [
    "Retrieve the first element of the array\n",
    "Set the value of the third element of the array to a new value\n",
    "Java’s array initializer notation is not supported by Groovy, as the curly braces can be misinterpreted with the notation of Groovy closures."
   ]
  },
  {
   "cell_type": "markdown",
   "metadata": {},
   "source": [
    "# Maps\n",
    "\n",
    "\n",
    "```\n",
    " 180   150W  120W  90W   60W   30W   000   30E   60E   90E   120E  150E  180\n",
    "    |     |     |     |     |     |     |     |     |     |     |     |     |\n",
    "90N-+-----+-----+-----+-----+-----+-----+-----+-----+-----+-----+-----+-----+-90N\n",
    "    |           . _..::__:  ,-\"-\"._        |7       ,     _,.__             |\n",
    "    |   _.___ _ _<_>`!(._`.`-.    /         _._     `_ ,_/  '  '-._.---.-.__|\n",
    "    |>.{     \" \" `-==,',._\\{  \\  / {)      / _ \">_,-' `                mt-2_|\n",
    "60N-+  \\_.:--.       `._ )`^-. \"'       , [_/(                       __,/-' +-60N\n",
    "    | '\"'     \\         \"    _L        oD_,--'                )     /. (|   |\n",
    "    |          |           ,'          _)_.\\\\._<> 6              _,' /  '   |\n",
    "    |          `.         /           [_/_'` `\"(                <'}  )      |\n",
    "30N-+           \\\\    .-. )           /   `-'\"..' `:._          _)  '       +-30N\n",
    "    |    `        \\  (  `(           /         `:\\  > \\  ,-^.  /' '         |\n",
    "    |              `._,   \"\"         |           \\`'   \\|   ?_)  {\\         |\n",
    "    |                 `=.---.        `._._       ,'     \"`  |' ,- '.        |\n",
    "000-+                   |    `-._         |     /          `:`<_|h--._      +-000\n",
    "    |                   (        >        .     | ,          `=.__.`-'\\     |\n",
    "    |                    `.     /         |     |{|              ,-.,\\     .|\n",
    "    |                     |   ,'           \\   / `'            ,\"     \\     |\n",
    "30S-+                     |  /              |_'                |  __  /     +-30S\n",
    "    |                     | |                                  '-'  `-'   \\.|\n",
    "    |                     |/                                         \"    / |\n",
    "    |                     \\.                                             '  |\n",
    "60S-+                                                                       +-60S\n",
    "    |                      ,/            ______._.--._ _..---.---------._   |\n",
    "    |     ,-----\"-..?----_/ )      __,-'\"             \"                  (  |\n",
    "    |-.._(                  `-----'                                       `-|\n",
    "90S-+-----+-----+-----+-----+-----+-----+-----+-----+-----+-----+-----+-----+-90S\n",
    "    Map 1998 Matthew Thomas.|Freely usable as long as this|line is included.|\n",
    "    |     |     |     |     |     |     |     |     |     |     |     |     |\n",
    "   180   150W  120W  90W   60W   30W   000   30E   60E   90E   120E  150E  180\n",
    "```\n",
    "\n",
    "Sometimes called dictionaries or associative arrays in other languages, Groovy features maps. Maps associate keys to values, separating keys and values with colons, and each key/value pairs with commas, and the whole keys and values surrounded by square brackets."
   ]
  },
  {
   "cell_type": "code",
   "execution_count": 161,
   "metadata": {},
   "outputs": [
    {
     "data": {
      "application/vnd.jupyter.widget-view+json": {
       "model_id": "fd350ef8-758e-42a6-96f8-b744a16455ab",
       "version_major": 2,
       "version_minor": 0
      },
      "method": "display_data"
     },
     "metadata": {},
     "output_type": "display_data"
    }
   ],
   "source": [
    "colors = [red: '#FF0000', green: '#00FF00', blue: '#0000FF']   "
   ]
  },
  {
   "cell_type": "code",
   "execution_count": 162,
   "metadata": {},
   "outputs": [
    {
     "data": {
      "text/plain": [
       "#FF0000"
      ]
     },
     "execution_count": 162,
     "metadata": {},
     "output_type": "execute_result"
    }
   ],
   "source": [
    "colors['red']"
   ]
  },
  {
   "cell_type": "code",
   "execution_count": 163,
   "metadata": {},
   "outputs": [
    {
     "data": {
      "text/plain": [
       "#00FF00"
      ]
     },
     "execution_count": 163,
     "metadata": {},
     "output_type": "execute_result"
    }
   ],
   "source": [
    "colors.green  "
   ]
  },
  {
   "cell_type": "code",
   "execution_count": 164,
   "metadata": {},
   "outputs": [
    {
     "data": {
      "text/plain": [
       "#FFFF00"
      ]
     },
     "execution_count": 164,
     "metadata": {},
     "output_type": "execute_result"
    }
   ],
   "source": [
    "colors['pink'] = '#FF00FF'           \n",
    "colors.yellow  = '#FFFF00'           "
   ]
  },
  {
   "cell_type": "code",
   "execution_count": 165,
   "metadata": {},
   "outputs": [
    {
     "data": {
      "application/vnd.jupyter.widget-view+json": {
       "model_id": "408eccbf-fbae-480e-81f9-4d40b0c998df",
       "version_major": 2,
       "version_minor": 0
      },
      "method": "display_data"
     },
     "metadata": {},
     "output_type": "display_data"
    }
   ],
   "source": [
    "colors"
   ]
  },
  {
   "cell_type": "code",
   "execution_count": 167,
   "metadata": {},
   "outputs": [
    {
     "data": {
      "text/plain": [
       "class java.util.LinkedHashMap"
      ]
     },
     "execution_count": 167,
     "metadata": {},
     "output_type": "execute_result"
    }
   ],
   "source": [
    "colors.getClass()"
   ]
  },
  {
   "cell_type": "markdown",
   "metadata": {},
   "source": [
    "We define a map of string color names, associated with their hexadecimal-coded html colors\n",
    "We use the subscript notation to check the content associated with the red key\n",
    "We can also use the property notation to assert the color green’s hexadecimal representation\n",
    "Similarly, we can use the subscript notation to add a new key/value pair\n",
    "Or the property notation, to add the yellow color\n",
    "When using names for the keys, we actually define string keys in the map.\n",
    "Groovy creates maps that are actually instances of [`java.util.LinkedHashMap`](https://docs.oracle.com/javase/8/docs/api/java/util/LinkedHashMap.html).\n",
    "\n",
    "If you try to access a key which is not present in the map:"
   ]
  },
  {
   "cell_type": "code",
   "execution_count": 168,
   "metadata": {},
   "outputs": [
    {
     "data": {
      "text/plain": [
       "null"
      ]
     },
     "execution_count": 168,
     "metadata": {},
     "output_type": "execute_result"
    }
   ],
   "source": [
    "colors.unknown"
   ]
  },
  {
   "cell_type": "markdown",
   "metadata": {},
   "source": [
    "You will retrieve a null result.\n",
    "\n",
    "In the examples above, we used string keys, but you can also use values of other types as keys:"
   ]
  },
  {
   "cell_type": "code",
   "execution_count": 169,
   "metadata": {},
   "outputs": [
    {
     "data": {
      "text/plain": [
       "null"
      ]
     },
     "execution_count": 169,
     "metadata": {},
     "output_type": "execute_result"
    }
   ],
   "source": [
    "def numbers = [1: 'one', 2: 'two']\n",
    "\n",
    "assert numbers[1] == 'one'"
   ]
  },
  {
   "cell_type": "markdown",
   "metadata": {},
   "source": [
    "Here, we used numbers as keys, as numbers can unambiguously be recognized as numbers, so Groovy will not create a string key like in our previous examples. But consider the case you want to pass a variable in lieu of the key, to have the value of that variable become the key:"
   ]
  },
  {
   "cell_type": "code",
   "execution_count": 174,
   "metadata": {},
   "outputs": [
    {
     "data": {
      "application/vnd.jupyter.widget-view+json": {
       "model_id": "0190b9db-a472-4187-8d5e-8aab7a60b6fe",
       "version_major": 2,
       "version_minor": 0
      },
      "method": "display_data"
     },
     "metadata": {},
     "output_type": "display_data"
    }
   ],
   "source": [
    "key = 'name'\n",
    "person = [key: 'Guillaume']     "
   ]
  },
  {
   "cell_type": "code",
   "execution_count": 175,
   "metadata": {},
   "outputs": [
    {
     "data": {
      "text/plain": [
       "null"
      ]
     },
     "execution_count": 175,
     "metadata": {},
     "output_type": "execute_result"
    }
   ],
   "source": [
    "assert !person.containsKey('name')   \n",
    "assert person.containsKey('key')     "
   ]
  },
  {
   "cell_type": "markdown",
   "metadata": {},
   "source": [
    "The key associated with the 'Guillaume' name will actually be the \"key\" string, not the value associated with the key variable\n",
    "The map doesn’t contain the 'name' key\n",
    "Instead, the map contains a 'key' key\n",
    "You can also pass quoted strings as well as keys: `[\"name\": \"Guillaume\"]`. This is mandatory if your key string isn’t a valid identifier, for example if you wanted to create a string key containing a hash like in: `[\"street-name\": \"Main street\"]`.\n",
    "When you need to pass variable values as keys in your map definitions, you must surround the variable or expression with parentheses:"
   ]
  },
  {
   "cell_type": "code",
   "execution_count": 178,
   "metadata": {},
   "outputs": [
    {
     "data": {
      "application/vnd.jupyter.widget-view+json": {
       "model_id": "e7dbe212-4a19-40ed-bc14-6eef85cb2c80",
       "version_major": 2,
       "version_minor": 0
      },
      "method": "display_data"
     },
     "metadata": {},
     "output_type": "display_data"
    }
   ],
   "source": [
    "person = [(key): 'Guillaume']"
   ]
  },
  {
   "cell_type": "code",
   "execution_count": 179,
   "metadata": {},
   "outputs": [
    {
     "data": {
      "text/plain": [
       "null"
      ]
     },
     "execution_count": 179,
     "metadata": {},
     "output_type": "execute_result"
    }
   ],
   "source": [
    "assert person.containsKey('name')    "
   ]
  },
  {
   "cell_type": "markdown",
   "metadata": {},
   "source": [
    "This time, we surround the key variable with parentheses, to instruct the parser we are passing a variable rather than defining a string key\n",
    "The map does contain the name key\n",
    "But the map doesn’t contain the key key as before"
   ]
  },
  {
   "cell_type": "markdown",
   "metadata": {},
   "source": [
    "### Quoted identifiers\n",
    "\n",
    "Quoted identifiers appear after the dot of a dotted expression. For instance, the name part of the person.name expression can be quoted with person.\"name\" or person.'name'. This is particularly interesting when certain identifiers contain illegal characters that are forbidden by the Java Language Specification, but which are allowed by Groovy when quoted. For example, characters like a dash, a space, an exclamation mark, etc."
   ]
  },
  {
   "cell_type": "code",
   "execution_count": 180,
   "metadata": {},
   "outputs": [
    {
     "data": {
      "text/plain": [
       "null"
      ]
     },
     "execution_count": 180,
     "metadata": {},
     "output_type": "execute_result"
    }
   ],
   "source": [
    "map = [:]\n",
    "\n",
    "map.\"an identifier with a space and double quotes\" = \"ALLOWED\"\n",
    "map.'with-dash-signs-and-single-quotes' = \"ALLOWED\"\n",
    "\n",
    "assert map.\"an identifier with a space and double quotes\" == \"ALLOWED\"\n",
    "assert map.'with-dash-signs-and-single-quotes' == \"ALLOWED\""
   ]
  },
  {
   "cell_type": "markdown",
   "metadata": {},
   "source": [
    "As we shall see in the following section on strings, Groovy provides different string literals. All kind of strings are actually allowed after the dot:"
   ]
  },
  {
   "cell_type": "code",
   "execution_count": 184,
   "metadata": {},
   "outputs": [
    {
     "data": {
      "application/vnd.jupyter.widget-view+json": {
       "model_id": "18eeca5f-dfa9-40e4-b90c-49020812eec2",
       "version_major": 2,
       "version_minor": 0
      },
      "method": "display_data"
     },
     "metadata": {},
     "output_type": "display_data"
    }
   ],
   "source": [
    "map.'single quote' = 1\n",
    "map.\"double quote\" = 1\n",
    "map.'''triple single quote''' = 1\n",
    "map.\"\"\"triple double quote\"\"\" = 1\n",
    "map./slashy string/ = 1    //We will discuss slashy strings under regular expressions\n",
    "map.$/dollar slashy string/$ = 1 \n",
    "map"
   ]
  },
  {
   "cell_type": "markdown",
   "metadata": {},
   "source": [
    "There’s a difference between plain character strings and Groovy’s GStrings (interpolated strings), as in that the latter case, the interpolated values are inserted in the final string for evaluating the whole identifier:"
   ]
  },
  {
   "cell_type": "code",
   "execution_count": 185,
   "metadata": {},
   "outputs": [
    {
     "data": {
      "text/plain": [
       "Homer Simpson"
      ]
     },
     "execution_count": 185,
     "metadata": {},
     "output_type": "execute_result"
    }
   ],
   "source": [
    "def firstname = \"Homer\"\n",
    "map.\"Simpson-${firstname}\" = \"Homer Simpson\"\n",
    "map.'Simpson-Homer'"
   ]
  },
  {
   "cell_type": "markdown",
   "metadata": {},
   "source": [
    "# Loops\n",
    "\n",
    "\n",
    "```\n",
    "         _.-\"\"\"-._\n",
    "    _.-\"\"         \"\"-._\n",
    "  :\"-.               .-\":\n",
    "  '\"-_\"-._       _.-\".-\"'\n",
    "    ||T+._\"-._.-\"_.-\"|\n",
    "    ||:   \"-.|.-\" : ||\n",
    "    || .   ' :|  .  ||\n",
    "    ||  .   '|| .   ||\n",
    "    ||   ';.:||'    ||\n",
    "    ||    '::||     ||\n",
    "    ||      )||     ||\n",
    "    ||     ':||     ||\n",
    "    ||   .' :||.    ||\n",
    "    ||  ' . :||.'   ||\n",
    "    ||.'-  .:|| -'._||\n",
    "  .-'\": .::::||:. : \"'-.\n",
    "  :\"-.'::::::||::'  .-\":\n",
    "   \"-.\"-._\"--:\"  .-\".-\"\n",
    "      \"-._\"-._.-\".-\"         grp\n",
    "          \"-.|.-\"\n",
    "```\n",
    "\n",
    "## while loop\n",
    "Groovy supports the classic while loop, like Java escept that the condition also does not need to be expressly boolean:\n",
    "\n",
    "```groovy\n",
    "while (condition) statement or {}\n",
    "```"
   ]
  },
  {
   "cell_type": "code",
   "execution_count": 256,
   "metadata": {},
   "outputs": [
    {
     "name": "stdout",
     "output_type": "stream",
     "text": [
      "0123456789"
     ]
    },
    {
     "data": {
      "text/plain": [
       "null"
      ]
     },
     "execution_count": 256,
     "metadata": {},
     "output_type": "execute_result"
    }
   ],
   "source": [
    "def n = 0\n",
    "while (n < 10) print n++"
   ]
  },
  {
   "cell_type": "code",
   "execution_count": 255,
   "metadata": {},
   "outputs": [
    {
     "data": {
      "text/plain": [
       "null"
      ]
     },
     "execution_count": 255,
     "metadata": {},
     "output_type": "execute_result"
    }
   ],
   "source": [
    "def x = 0\n",
    "def y = 5\n",
    "\n",
    "while ( y-- > 0 ) {\n",
    "    x++\n",
    "}\n",
    "\n",
    "assert x == 5"
   ]
  },
  {
   "cell_type": "markdown",
   "metadata": {},
   "source": [
    "## For loop\n",
    "Groovy supports the standard Java / C for loop:\n",
    " \n",
    " ```groovy\n",
    "for (init; condition; post) statement or {}\n",
    "```\n",
    "\n",
    "Where *init* is executed once before the loop, but in the same scope, the *condition* must be true for the loop to continue and *post* is executed after the loop body."
   ]
  },
  {
   "cell_type": "code",
   "execution_count": 257,
   "metadata": {},
   "outputs": [
    {
     "name": "stdout",
     "output_type": "stream",
     "text": [
      "0123456789"
     ]
    },
    {
     "data": {
      "text/plain": [
       "null"
      ]
     },
     "execution_count": 257,
     "metadata": {},
     "output_type": "execute_result"
    }
   ],
   "source": [
    "for (int n; n < 10; n++) print n"
   ]
  },
  {
   "cell_type": "markdown",
   "metadata": {},
   "source": [
    "The following *while* is the equivalent."
   ]
  },
  {
   "cell_type": "code",
   "execution_count": 1,
   "metadata": {},
   "outputs": [
    {
     "name": "stdout",
     "output_type": "stream",
     "text": [
      "0123456789"
     ]
    },
    {
     "data": {
      "text/plain": [
       "null"
      ]
     },
     "execution_count": 1,
     "metadata": {},
     "output_type": "execute_result"
    }
   ],
   "source": [
    "FOR: {int n; while (n<10) {print n; n++}}"
   ]
  },
  {
   "cell_type": "markdown",
   "metadata": {},
   "source": [
    "The labelled block emulates the *scoping* effect of the for loop, that is `n` does not exist outside the FOR block.\n",
    "\n",
    "Examples:"
   ]
  },
  {
   "cell_type": "code",
   "execution_count": 2,
   "metadata": {},
   "outputs": [
    {
     "data": {
      "text/plain": [
       "null"
      ]
     },
     "execution_count": 2,
     "metadata": {},
     "output_type": "execute_result"
    }
   ],
   "source": [
    "String message = ''\n",
    "for (int i = 0; i < 5; i++) {\n",
    "    message += 'Hi '\n",
    "}\n",
    "assert message == 'Hi Hi Hi Hi Hi '"
   ]
  },
  {
   "cell_type": "markdown",
   "metadata": {},
   "source": [
    "## for in loop\n",
    "The for loop in Groovy is much simpler and works with any kind of array, collection, Map, etc."
   ]
  },
  {
   "cell_type": "markdown",
   "metadata": {},
   "source": [
    "### Iterate over a range"
   ]
  },
  {
   "cell_type": "code",
   "execution_count": 12,
   "metadata": {},
   "outputs": [
    {
     "name": "stdout",
     "output_type": "stream",
     "text": [
      "0123456789"
     ]
    },
    {
     "data": {
      "text/plain": [
       "null"
      ]
     },
     "execution_count": 12,
     "metadata": {},
     "output_type": "execute_result"
    }
   ],
   "source": [
    "for ( i in 0..9 ) {\n",
    "    print i\n",
    " }"
   ]
  },
  {
   "cell_type": "markdown",
   "metadata": {},
   "source": [
    "### Iterate over a list"
   ]
  },
  {
   "cell_type": "code",
   "execution_count": 13,
   "metadata": {},
   "outputs": [
    {
     "name": "stdout",
     "output_type": "stream",
     "text": [
      "01234"
     ]
    },
    {
     "data": {
      "text/plain": [
       "null"
      ]
     },
     "execution_count": 13,
     "metadata": {},
     "output_type": "execute_result"
    }
   ],
   "source": [
    "for ( i in [0, 1, 2, 3, 4] ) {\n",
    "    print i\n",
    "}"
   ]
  },
  {
   "cell_type": "markdown",
   "metadata": {},
   "source": [
    "### Iterate over an array"
   ]
  },
  {
   "cell_type": "code",
   "execution_count": 14,
   "metadata": {},
   "outputs": [
    {
     "name": "stdout",
     "output_type": "stream",
     "text": [
      "01234"
     ]
    },
    {
     "data": {
      "text/plain": [
       "null"
      ]
     },
     "execution_count": 14,
     "metadata": {},
     "output_type": "execute_result"
    }
   ],
   "source": [
    "def array = (0..4).toArray()\n",
    "for ( i in array ) {\n",
    "    print i\n",
    "}"
   ]
  },
  {
   "cell_type": "markdown",
   "metadata": {},
   "source": [
    "### Iterate over a map"
   ]
  },
  {
   "cell_type": "code",
   "execution_count": 21,
   "metadata": {},
   "outputs": [
    {
     "name": "stdout",
     "output_type": "stream",
     "text": [
      "abc, 1\n",
      "def, 2\n",
      "xyz, 3\n"
     ]
    },
    {
     "data": {
      "text/plain": [
       "null"
      ]
     },
     "execution_count": 21,
     "metadata": {},
     "output_type": "execute_result"
    }
   ],
   "source": [
    "map = ['abc':1, 'def':2, 'xyz':3]\n",
    "for ( e in map ) {\n",
    "    println \"$e.key, $e.value\"\n",
    "}"
   ]
  },
  {
   "cell_type": "markdown",
   "metadata": {},
   "source": [
    "### Iterate over the characters in a string"
   ]
  },
  {
   "cell_type": "code",
   "execution_count": 22,
   "metadata": {},
   "outputs": [
    {
     "data": {
      "text/plain": [
       "[a, b, c]"
      ]
     },
     "execution_count": 22,
     "metadata": {},
     "output_type": "execute_result"
    }
   ],
   "source": [
    "def text = \"abc\"\n",
    "def list = []\n",
    "for (c in text) {\n",
    "    list.add(c)\n",
    "}\n",
    "list"
   ]
  },
  {
   "cell_type": "markdown",
   "metadata": {},
   "source": [
    "Groovy also supports the Java colon variation with colons: \n",
    "```groovy\n",
    "for (char c : text) {}\n",
    "```\n",
    "where the type of the variable is mandatory."
   ]
  },
  {
   "cell_type": "markdown",
   "metadata": {},
   "source": [
    "# Methods\n",
    "\n",
    "```\n",
    "                        .=\"=.\n",
    "                      _/.-.-.\\_     _\n",
    "                     ( ( o o ) )    ))\n",
    "                      |/  \"  \\|    //\n",
    "      .-------.        \\'---'/    //\n",
    "     _|~~ ~~  |_       /`\"\"\"`\\\\  ((\n",
    "   =(_|_______|_)=    / /_,_\\ \\\\  \\\\\n",
    "     |:::::::::|      \\_\\\\_'__/ \\  ))\n",
    "     |:::::::[]|       /`  /`~\\  |//\n",
    "     |o=======.|      /   /    \\  /\n",
    " jgs `\"\"\"\"\"\"\"\"\"`  ,--`,--'\\/\\    /\n",
    "                   '-- \"--'  '--'\n",
    "```\n",
    "\n",
    "Groovy methods are quite similar to other languages. Some peculiarities will be shown in the next subsections.\n",
    "\n",
    "## Method definition\n",
    "A method is defined with a return type or with the def keyword, to make the return type untyped. A method can also receive any number of arguments, which may not have their types explicitly declared. Java modifiers can be used normally, and if no visibility modifier is provided, the method is public.\n",
    "\n",
    "Methods in Groovy always return some value. If no return statement is provided, the value evaluated in the last line executed will be returned. For instance, note that none of the following methods uses the return keyword."
   ]
  },
  {
   "cell_type": "code",
   "execution_count": 197,
   "metadata": {},
   "outputs": [
    {
     "data": {
      "text/plain": [
       "null"
      ]
     },
     "execution_count": 197,
     "metadata": {},
     "output_type": "execute_result"
    }
   ],
   "source": [
    "def someMethod() { 'method called' }                           \n",
    "String anotherMethod() { 'another method called' }             \n",
    "def thirdMethod(param1) { \"$param1 passed\" }                   \n",
    "static String fourthMethod(String param1) { \"$param1 passed\" } "
   ]
  },
  {
   "cell_type": "markdown",
   "metadata": {},
   "source": [
    " 1. Method with no return type declared and no parameter\n",
    " 1. Method with explicit return type and no parameter\n",
    " 1. Method with a parameter with no type defined\n",
    " 1. Static method with a String parameter"
   ]
  },
  {
   "cell_type": "code",
   "execution_count": 198,
   "metadata": {},
   "outputs": [
    {
     "name": "stdout",
     "output_type": "stream",
     "text": [
      "hello\n"
     ]
    },
    {
     "data": {
      "text/plain": [
       "null"
      ]
     },
     "execution_count": 198,
     "metadata": {},
     "output_type": "execute_result"
    }
   ],
   "source": [
    "def greeter(){ println 'hello'}\n",
    "\n",
    "greeter()"
   ]
  },
  {
   "cell_type": "markdown",
   "metadata": {},
   "source": [
    "##  Parameters\n",
    "\n",
    "Methods can be called with positional parameters."
   ]
  },
  {
   "cell_type": "code",
   "execution_count": 199,
   "metadata": {},
   "outputs": [
    {
     "name": "stdout",
     "output_type": "stream",
     "text": [
      "hello fred\n"
     ]
    },
    {
     "data": {
      "text/plain": [
       "null"
      ]
     },
     "execution_count": 199,
     "metadata": {},
     "output_type": "execute_result"
    }
   ],
   "source": [
    "def greeter(name){ println \"hello $name\"}\n",
    "\n",
    "greeter('fred')"
   ]
  },
  {
   "cell_type": "markdown",
   "metadata": {},
   "source": [
    "Groovy does not require that a parameter be passed, if none is passed the parameter will default to `null`."
   ]
  },
  {
   "cell_type": "code",
   "execution_count": 200,
   "metadata": {},
   "outputs": [
    {
     "name": "stdout",
     "output_type": "stream",
     "text": [
      "hello null\n"
     ]
    },
    {
     "data": {
      "text/plain": [
       "null"
      ]
     },
     "execution_count": 200,
     "metadata": {},
     "output_type": "execute_result"
    }
   ],
   "source": [
    "def greeter(name){ println \"hello $name\"}\n",
    "\n",
    "greeter()"
   ]
  },
  {
   "cell_type": "markdown",
   "metadata": {},
   "source": [
    "Alternatively, a default value can be assigned to a paramter."
   ]
  },
  {
   "cell_type": "code",
   "execution_count": 201,
   "metadata": {},
   "outputs": [
    {
     "name": "stdout",
     "output_type": "stream",
     "text": [
      "hello \n"
     ]
    },
    {
     "data": {
      "text/plain": [
       "null"
      ]
     },
     "execution_count": 201,
     "metadata": {},
     "output_type": "execute_result"
    }
   ],
   "source": [
    "def greeter(name=''){ println \"hello $name\"}\n",
    "\n",
    "greeter()"
   ]
  },
  {
   "cell_type": "markdown",
   "metadata": {},
   "source": [
    "Multiple parameters may be passed."
   ]
  },
  {
   "cell_type": "code",
   "execution_count": 203,
   "metadata": {},
   "outputs": [
    {
     "name": "stdout",
     "output_type": "stream",
     "text": [
      "hello Fred Basset\n",
      "hello Fred \n"
     ]
    },
    {
     "data": {
      "text/plain": [
       "null"
      ]
     },
     "execution_count": 203,
     "metadata": {},
     "output_type": "execute_result"
    }
   ],
   "source": [
    "def greeter(name, surname=''){ println \"hello $name $surname\"}\n",
    "greeter('Fred', 'Basset')\n",
    "greeter('Fred')"
   ]
  },
  {
   "cell_type": "markdown",
   "metadata": {},
   "source": [
    "### Named parameters\n",
    "\n",
    "Methods can also be called with named parameters. To support this notation, a convention is used where the first argument to the method is a Map. In the method body, the parameter values can be accessed as in normal maps (map.key). If the method has just a single Map argument, all supplied parameters must be named."
   ]
  },
  {
   "cell_type": "code",
   "execution_count": 204,
   "metadata": {},
   "outputs": [
    {
     "data": {
      "text/plain": [
       "Marie: 1"
      ]
     },
     "execution_count": 204,
     "metadata": {},
     "output_type": "execute_result"
    }
   ],
   "source": [
    "def foo(Map args) { \"${args.name}: ${args.age}\" }\n",
    "foo(name: 'Marie', age: 1)"
   ]
  },
  {
   "cell_type": "markdown",
   "metadata": {},
   "source": [
    "**Mixing named and positional parameters**\n",
    "\n",
    "Named parameters can be mixed with positional parameters. The same convention applies, in this case, in addition to the Map argument as the first argument, the method in question will have additional positional arguments as needed. Supplied positional parameters when calling the method must be in order. The named parameters can be in any position. They are grouped into the map and supplied as the first parameter automatically."
   ]
  },
  {
   "cell_type": "code",
   "execution_count": 205,
   "metadata": {},
   "outputs": [
    {
     "data": {
      "text/plain": [
       "Marie: 1, and the number is 23"
      ]
     },
     "execution_count": 205,
     "metadata": {},
     "output_type": "execute_result"
    }
   ],
   "source": [
    "def foo(Map args, Integer number) { \"${args.name}: ${args.age}, and the number is ${number}\" }\n",
    "foo(name: 'Marie', age: 1, 23)  \n",
    "foo(23, name: 'Marie', age: 1)  "
   ]
  },
  {
   "cell_type": "markdown",
   "metadata": {},
   "source": [
    " 2. Method call with additional number argument of Integer type\n",
    " 3. Method call with changed order of arguments\n",
    "\n",
    "If we don’t have the Map as the first argument, then a Map must be supplied for that argument instead of named parameters. Failure to do so will lead to `groovy.lang.MissingMethodException`:"
   ]
  },
  {
   "cell_type": "code",
   "execution_count": 206,
   "metadata": {},
   "outputs": [
    {
     "ename": "groovy.lang.MissingMethodException",
     "evalue": " No signature of method",
     "output_type": "error",
     "traceback": [
      "\u001b[1;31mgroovy.lang.MissingMethodException: No signature of method: script1575315369805.foo() is applicable for argument types: (java.util.LinkedHashMap, java.lang.Integer) values: [[name:Marie, age:1], 23]\u001b[0;0m",
      "\u001b[1;31mPossible solutions: foo(java.lang.Integer, java.util.Map), run(), run(), any(), find(), wait()\u001b[0;0m",
      "\u001b[1;31m\tat this cell line 2\u001b[0;0m",
      "\u001b[0;31m\tat com.twosigma.beakerx.groovy.evaluator.GroovyCodeRunner.runScript(GroovyCodeRunner.java:94)\u001b[0;0m",
      "\u001b[0;31m\tat com.twosigma.beakerx.groovy.evaluator.GroovyCodeRunner.call(GroovyCodeRunner.java:59)\u001b[0;0m",
      "\u001b[0;31m\tat com.twosigma.beakerx.groovy.evaluator.GroovyCodeRunner.call(GroovyCodeRunner.java:32)\u001b[0;0m"
     ]
    }
   ],
   "source": [
    "def foo(Integer number, Map args) { \"${args.name}: ${args.age}, and the number is ${number}\" }\n",
    "foo(name: 'Marie', age: 1, 23)  "
   ]
  },
  {
   "cell_type": "markdown",
   "metadata": {},
   "source": [
    "because the named argument Map parameter is not defined as the first argument\n",
    "Above exception can be avoided if we replace named arguments with an explicit Map argument:"
   ]
  },
  {
   "cell_type": "code",
   "execution_count": 207,
   "metadata": {},
   "outputs": [
    {
     "data": {
      "text/plain": [
       "Marie: 1, and the number is 23"
      ]
     },
     "execution_count": 207,
     "metadata": {},
     "output_type": "execute_result"
    }
   ],
   "source": [
    "def foo(Integer number, Map args) { \"${args.name}: ${args.age}, and the number is ${number}\" }\n",
    "foo(23, [name: 'Marie', age: 1])  "
   ]
  },
  {
   "cell_type": "markdown",
   "metadata": {},
   "source": [
    "Explicit Map argument in place of named arguments makes invocation valid.\n",
    "Although Groovy allows you to mix named and positional parameters, it can lead to unnecessary confusion. Mix named and positional arguments with caution."
   ]
  },
  {
   "cell_type": "markdown",
   "metadata": {},
   "source": [
    "### Varargs\n",
    "Groovy supports methods with a variable number of arguments. They are defined like this: def foo(p1, …​, pn, T…​ args). Here foo supports n arguments by default, but also an unspecified number of further arguments exceeding n."
   ]
  },
  {
   "cell_type": "code",
   "execution_count": 208,
   "metadata": {},
   "outputs": [
    {
     "data": {
      "text/plain": [
       "null"
      ]
     },
     "execution_count": 208,
     "metadata": {},
     "output_type": "execute_result"
    }
   ],
   "source": [
    "def foo(Object... args) { args.length }\n",
    "assert foo() == 0\n",
    "assert foo(1) == 1\n",
    "assert foo(1, 2) == 2"
   ]
  },
  {
   "cell_type": "markdown",
   "metadata": {},
   "source": [
    "This example defines a method foo, that can take any number of arguments, including no arguments at all. args.length will return the number of arguments given. Groovy allows T[] as a alternative notation to T…​. That means any method with an array as last parameter is seen by Groovy as a method that can take a variable number of arguments."
   ]
  },
  {
   "cell_type": "code",
   "execution_count": 209,
   "metadata": {},
   "outputs": [
    {
     "data": {
      "text/plain": [
       "null"
      ]
     },
     "execution_count": 209,
     "metadata": {},
     "output_type": "execute_result"
    }
   ],
   "source": [
    "def foo(Object[] args) { args.length }\n",
    "assert foo() == 0\n",
    "assert foo(1) == 1\n",
    "assert foo(1, 2) == 2"
   ]
  },
  {
   "cell_type": "markdown",
   "metadata": {},
   "source": [
    "If a method with varargs is called with null as the vararg parameter, then the argument will be null and not an array of length one with null as the only element."
   ]
  },
  {
   "cell_type": "code",
   "execution_count": 210,
   "metadata": {},
   "outputs": [
    {
     "data": {
      "text/plain": [
       "null"
      ]
     },
     "execution_count": 210,
     "metadata": {},
     "output_type": "execute_result"
    }
   ],
   "source": [
    "def foo(Object... args) { args }\n",
    "assert foo(null) == null"
   ]
  },
  {
   "cell_type": "markdown",
   "metadata": {},
   "source": [
    "If a varargs method is called with an array as an argument, then the argument will be that array instead of an array of length one containing the given array as the only element."
   ]
  },
  {
   "cell_type": "code",
   "execution_count": 211,
   "metadata": {},
   "outputs": [
    {
     "data": {
      "text/plain": [
       "null"
      ]
     },
     "execution_count": 211,
     "metadata": {},
     "output_type": "execute_result"
    }
   ],
   "source": [
    "def foo(Object... args) { args }\n",
    "Integer[] ints = [1, 2]\n",
    "assert foo(ints) == [1, 2]"
   ]
  },
  {
   "cell_type": "markdown",
   "metadata": {},
   "source": [
    "Another important point are varargs in combination with method overloading. In case of method overloading Groovy will select the most specific method. For example if a method foo takes a varargs argument of type T and another method foo also takes one argument of type T, the second method is preferred."
   ]
  },
  {
   "cell_type": "code",
   "execution_count": 212,
   "metadata": {},
   "outputs": [
    {
     "data": {
      "text/plain": [
       "null"
      ]
     },
     "execution_count": 212,
     "metadata": {},
     "output_type": "execute_result"
    }
   ],
   "source": [
    "def foo(Object... args) { 1 }\n",
    "def foo(Object x) { 2 }\n",
    "assert foo() == 1\n",
    "assert foo(1) == 2\n",
    "assert foo(1, 2) == 1"
   ]
  },
  {
   "cell_type": "markdown",
   "metadata": {},
   "source": [
    "### Method Overloading\n",
    "Groovy supports method overloading."
   ]
  },
  {
   "cell_type": "code",
   "execution_count": 220,
   "metadata": {},
   "outputs": [
    {
     "name": "stdout",
     "output_type": "stream",
     "text": [
      "hello Fred\n",
      "hello Fred Basset\n"
     ]
    },
    {
     "data": {
      "text/plain": [
       "null"
      ]
     },
     "execution_count": 220,
     "metadata": {},
     "output_type": "execute_result"
    }
   ],
   "source": [
    "def greeter(name){ println \"hello $name\"}\n",
    "def greeter(name, surname){ println \"hello $name $surname\"}\n",
    "\n",
    "greeter('Fred')\n",
    "greeter('Fred', 'Basset')"
   ]
  },
  {
   "cell_type": "markdown",
   "metadata": {},
   "source": [
    "### Method Return\n",
    "\n",
    "In Groovy all methods return a value. In the above case the greeter method returns `null`.  The `return` keyword can be used to explicitly return a value, otherwise the value of the last statement is used."
   ]
  },
  {
   "cell_type": "code",
   "execution_count": 221,
   "metadata": {},
   "outputs": [
    {
     "name": "stdout",
     "output_type": "stream",
     "text": [
      "16\n"
     ]
    },
    {
     "data": {
      "text/plain": [
       "null"
      ]
     },
     "execution_count": 221,
     "metadata": {},
     "output_type": "execute_result"
    }
   ],
   "source": [
    "def square(x) { x**2}\n",
    "\n",
    "println square(4)"
   ]
  },
  {
   "cell_type": "markdown",
   "metadata": {},
   "source": [
    "Is exacly the same as:"
   ]
  },
  {
   "cell_type": "code",
   "execution_count": 222,
   "metadata": {},
   "outputs": [
    {
     "name": "stdout",
     "output_type": "stream",
     "text": [
      "16\n"
     ]
    },
    {
     "data": {
      "text/plain": [
       "null"
      ]
     },
     "execution_count": 222,
     "metadata": {},
     "output_type": "execute_result"
    }
   ],
   "source": [
    "def square(x) { return x**2}\n",
    "\n",
    "println square(4)"
   ]
  },
  {
   "cell_type": "markdown",
   "metadata": {},
   "source": [
    "# Closures\n",
    "\n",
    "```\n",
    "       .-\"-.            .-\"-.            .-\"-.           .-\"-.\n",
    "     _/_-.-_\\_        _/.-.-.\\_        _/.-.-.\\_       _/.-.-.\\_\n",
    "    / __} {__ \\      /|( o o )|\\      ( ( o o ) )     ( ( o o ) )\n",
    "   / //  \"  \\\\ \\    | //  \"  \\\\ |      |/  \"  \\|       |/  \"  \\|\n",
    "  / / \\'---'/ \\ \\  / / \\'---'/ \\ \\      \\'/^\\'/         \\ .-. /\n",
    "  \\ \\_/`\"\"\"`\\_/ /  \\ \\_/`\"\"\"`\\_/ /      /`\\ /`\\         /`\"\"\"`\\\n",
    "   \\           /    \\           /      /  /|\\  \\       /       \\\n",
    "\n",
    "```\n",
    "\n",
    "A closure in Groovy is an open, anonymous, block of code that can take arguments, return a value and be assigned to a variable. A closure may reference variables declared in its surrounding scope. In opposition to the formal definition of a closure, Closure in the Groovy language can also contain free variables which are defined outside of its surrounding scope. While breaking the formal concept of a closure, it offers a variety of advantages which are described in this chapter.\n",
    "\n",
    "## Syntax\n",
    "\n",
    "### Defining a closure\n",
    "A closure definition follows this syntax:\n",
    "\n",
    "```groovy\n",
    "{ [closureParameters -> ] statements }\n",
    "```\n",
    "Where `[closureParameters->]` is an optional comma-delimited list of parameters, and statements are 0 or more Groovy statements. The parameters look similar to a method parameter list, and these parameters may be typed or untyped.\n",
    "\n",
    "When a parameter list is specified, the `->` character is required and serves to separate the arguments from the closure body. The statements portion consists of 0, 1, or many Groovy statements.\n",
    "\n",
    "Some examples of valid closure definitions:"
   ]
  },
  {
   "cell_type": "markdown",
   "metadata": {},
   "source": [
    "A closure referencing a variable named item"
   ]
  },
  {
   "cell_type": "code",
   "execution_count": 26,
   "metadata": {},
   "outputs": [
    {
     "data": {
      "text/plain": [
       "5"
      ]
     },
     "execution_count": 26,
     "metadata": {},
     "output_type": "execute_result"
    }
   ],
   "source": [
    "item = 0\n",
    "5.times{ item++ }\n",
    "item"
   ]
  },
  {
   "cell_type": "markdown",
   "metadata": {},
   "source": [
    "It is possible to explicitly separate closure parameters from code by adding an arrow (->)"
   ]
  },
  {
   "cell_type": "code",
   "execution_count": null,
   "metadata": {},
   "outputs": [],
   "source": [
    "{ -> item++ }                                       "
   ]
  },
  {
   "cell_type": "markdown",
   "metadata": {},
   "source": [
    "A closure using an implicit parameter (it)"
   ]
  },
  {
   "cell_type": "code",
   "execution_count": 29,
   "metadata": {},
   "outputs": [
    {
     "name": "stdout",
     "output_type": "stream",
     "text": [
      "0 1 2 3 4 "
     ]
    },
    {
     "data": {
      "text/plain": [
       "null"
      ]
     },
     "execution_count": 29,
     "metadata": {},
     "output_type": "execute_result"
    }
   ],
   "source": [
    "5.times{ it -> print it + ' ' }                                "
   ]
  },
  {
   "cell_type": "code",
   "execution_count": 31,
   "metadata": {},
   "outputs": [
    {
     "name": "stdout",
     "output_type": "stream",
     "text": [
      "0 1 2 3 4 "
     ]
    },
    {
     "data": {
      "text/plain": [
       "null"
      ]
     },
     "execution_count": 31,
     "metadata": {},
     "output_type": "execute_result"
    }
   ],
   "source": [
    "5.times{ print it + ' ' }                                      "
   ]
  },
  {
   "cell_type": "code",
   "execution_count": 34,
   "metadata": {},
   "outputs": [
    {
     "name": "stdout",
     "output_type": "stream",
     "text": [
      "abc\n",
      "def\n",
      "efg\n"
     ]
    },
    {
     "data": {
      "text/plain": [
       "null"
      ]
     },
     "execution_count": 34,
     "metadata": {},
     "output_type": "execute_result"
    }
   ],
   "source": [
    "['abc', 'def', 'efg'].forEach{ name -> println name }                            "
   ]
  },
  {
   "cell_type": "markdown",
   "metadata": {},
   "source": [
    "A closure accepting two typed parameters"
   ]
  },
  {
   "cell_type": "code",
   "execution_count": 35,
   "metadata": {},
   "outputs": [
    {
     "data": {
      "text/plain": [
       "script1575371890179$_run_closure1@2ac78c63"
      ]
     },
     "execution_count": 35,
     "metadata": {},
     "output_type": "execute_result"
    }
   ],
   "source": [
    "{ String x, int y ->                                \n",
    "    println \"hey ${x} the value is ${y}\"\n",
    "}"
   ]
  },
  {
   "cell_type": "markdown",
   "metadata": {},
   "source": [
    "A closure can contain multiple statements"
   ]
  },
  {
   "cell_type": "code",
   "execution_count": 36,
   "metadata": {},
   "outputs": [
    {
     "data": {
      "text/plain": [
       "script1575371902707$_run_closure1@5f285797"
      ]
     },
     "execution_count": 36,
     "metadata": {},
     "output_type": "execute_result"
    }
   ],
   "source": [
    "{ reader ->                                         \n",
    "    def line = reader.readLine()\n",
    "    line.trim()\n",
    "}"
   ]
  },
  {
   "cell_type": "markdown",
   "metadata": {},
   "source": [
    "## Closures as an object\n",
    "A closure is an instance of the groovy.lang.Closure class, making it assignable to a variable or a field as any other variable, despite being a block of code:"
   ]
  },
  {
   "cell_type": "code",
   "execution_count": 38,
   "metadata": {},
   "outputs": [
    {
     "data": {
      "text/plain": [
       "script1575372127987$_run_closure3@2fdbbb59"
      ]
     },
     "execution_count": 38,
     "metadata": {},
     "output_type": "execute_result"
    }
   ],
   "source": [
    "def listener = { e -> println \"Clicked on $e.source\" }      \n",
    "assert listener instanceof Closure\n",
    "Closure callback = { println 'Done!' }                      \n",
    "Closure<Boolean> isTextFile = {\n",
    "    File it -> it.name.endsWith('.txt')                     \n",
    "}"
   ]
  },
  {
   "cell_type": "markdown",
   "metadata": {},
   "source": [
    "You can assign a closure to a variable, and it is an instance of groovy.lang.Closure\n",
    "If not using def, you can assign a closure to a variable of type groovy.lang.Closure\n",
    "Optionally, you can specify the return type of the closure by using the generic type of groovy.lang.Closure"
   ]
  },
  {
   "cell_type": "markdown",
   "metadata": {},
   "source": [
    "## Calling a closure\n",
    "A closure, as an anonymous block of code, can be called like any other method. If you define a closure which takes no argument like this:"
   ]
  },
  {
   "cell_type": "code",
   "execution_count": 37,
   "metadata": {},
   "outputs": [
    {
     "data": {
      "text/plain": [
       "script1575372072715$_run_closure1@589c28ad"
      ]
     },
     "execution_count": 37,
     "metadata": {},
     "output_type": "execute_result"
    }
   ],
   "source": [
    "code = { 123 }"
   ]
  },
  {
   "cell_type": "markdown",
   "metadata": {},
   "source": [
    "Then the code inside the closure will only be executed when you call the closure, which can be done by using the variable as if it was a regular method:"
   ]
  },
  {
   "cell_type": "code",
   "execution_count": 39,
   "metadata": {},
   "outputs": [
    {
     "data": {
      "text/plain": [
       "null"
      ]
     },
     "execution_count": 39,
     "metadata": {},
     "output_type": "execute_result"
    }
   ],
   "source": [
    "assert code() == 123"
   ]
  },
  {
   "cell_type": "markdown",
   "metadata": {},
   "source": [
    "Alternatively, you can be explicit and use the call method:"
   ]
  },
  {
   "cell_type": "code",
   "execution_count": 40,
   "metadata": {},
   "outputs": [
    {
     "data": {
      "text/plain": [
       "null"
      ]
     },
     "execution_count": 40,
     "metadata": {},
     "output_type": "execute_result"
    }
   ],
   "source": [
    "assert code.call() == 123"
   ]
  },
  {
   "cell_type": "markdown",
   "metadata": {},
   "source": [
    "The principle is the same if the closure accepts arguments:"
   ]
  },
  {
   "cell_type": "markdown",
   "metadata": {},
   "source": [
    "define a closure which accepts an int as a parameter"
   ]
  },
  {
   "cell_type": "code",
   "execution_count": 43,
   "metadata": {},
   "outputs": [
    {
     "data": {
      "text/plain": [
       "script1575372357968$_run_closure1@390b88d8"
      ]
     },
     "execution_count": 43,
     "metadata": {},
     "output_type": "execute_result"
    }
   ],
   "source": [
    "isOdd = { int i -> i%2 != 0 } "
   ]
  },
  {
   "cell_type": "markdown",
   "metadata": {},
   "source": [
    "it can be called directly"
   ]
  },
  {
   "cell_type": "code",
   "execution_count": 44,
   "metadata": {},
   "outputs": [
    {
     "data": {
      "text/plain": [
       "null"
      ]
     },
     "execution_count": 44,
     "metadata": {},
     "output_type": "execute_result"
    }
   ],
   "source": [
    "assert isOdd(3) == true                                     "
   ]
  },
  {
   "cell_type": "markdown",
   "metadata": {},
   "source": [
    "or using the call method"
   ]
  },
  {
   "cell_type": "code",
   "execution_count": 45,
   "metadata": {},
   "outputs": [
    {
     "data": {
      "text/plain": [
       "null"
      ]
     },
     "execution_count": 45,
     "metadata": {},
     "output_type": "execute_result"
    }
   ],
   "source": [
    "assert isOdd.call(2) == false                               "
   ]
  },
  {
   "cell_type": "markdown",
   "metadata": {},
   "source": [
    "same goes for a closure with an implicit argument (it)"
   ]
  },
  {
   "cell_type": "code",
   "execution_count": 46,
   "metadata": {},
   "outputs": [
    {
     "data": {
      "text/plain": [
       "script1575372364697$_run_closure1@6c3a7b1a"
      ]
     },
     "execution_count": 46,
     "metadata": {},
     "output_type": "execute_result"
    }
   ],
   "source": [
    "isEven = { it%2 == 0 }                                  "
   ]
  },
  {
   "cell_type": "markdown",
   "metadata": {},
   "source": [
    "which can be called directly using (arg)"
   ]
  },
  {
   "cell_type": "code",
   "execution_count": 47,
   "metadata": {},
   "outputs": [
    {
     "data": {
      "text/plain": [
       "null"
      ]
     },
     "execution_count": 47,
     "metadata": {},
     "output_type": "execute_result"
    }
   ],
   "source": [
    "assert isEven(3) == false                                   "
   ]
  },
  {
   "cell_type": "markdown",
   "metadata": {},
   "source": [
    "or using call"
   ]
  },
  {
   "cell_type": "code",
   "execution_count": 48,
   "metadata": {},
   "outputs": [
    {
     "data": {
      "text/plain": [
       "null"
      ]
     },
     "execution_count": 48,
     "metadata": {},
     "output_type": "execute_result"
    }
   ],
   "source": [
    "assert isEven.call(2) == true                               "
   ]
  },
  {
   "cell_type": "markdown",
   "metadata": {},
   "source": [
    "Unlike a method, a closure always returns a value when called. The next section discusses how to declare closure arguments, when to use them and what is the implicit \"it\" parameter."
   ]
  },
  {
   "cell_type": "markdown",
   "metadata": {},
   "source": [
    "## Parameters\n",
    "### Normal parameters\n",
    "Parameters of closures follow the same principle as parameters of regular methods:\n",
    "- an optional type\n",
    "- a name\n",
    "- an optional default value\n",
    "- Parameters are separated with commas:"
   ]
  },
  {
   "cell_type": "code",
   "execution_count": 49,
   "metadata": {},
   "outputs": [
    {
     "data": {
      "text/plain": [
       "null"
      ]
     },
     "execution_count": 49,
     "metadata": {},
     "output_type": "execute_result"
    }
   ],
   "source": [
    "def closureWithOneArg = { str -> str.toUpperCase() }\n",
    "assert closureWithOneArg('groovy') == 'GROOVY'"
   ]
  },
  {
   "cell_type": "code",
   "execution_count": 50,
   "metadata": {},
   "outputs": [
    {
     "data": {
      "text/plain": [
       "null"
      ]
     },
     "execution_count": 50,
     "metadata": {},
     "output_type": "execute_result"
    }
   ],
   "source": [
    "def closureWithOneArgAndExplicitType = { String str -> str.toUpperCase() }\n",
    "assert closureWithOneArgAndExplicitType('groovy') == 'GROOVY'"
   ]
  },
  {
   "cell_type": "code",
   "execution_count": 51,
   "metadata": {},
   "outputs": [
    {
     "data": {
      "text/plain": [
       "null"
      ]
     },
     "execution_count": 51,
     "metadata": {},
     "output_type": "execute_result"
    }
   ],
   "source": [
    "def closureWithTwoArgs = { a,b -> a+b }\n",
    "assert closureWithTwoArgs(1,2) == 3"
   ]
  },
  {
   "cell_type": "code",
   "execution_count": 52,
   "metadata": {},
   "outputs": [
    {
     "data": {
      "text/plain": [
       "null"
      ]
     },
     "execution_count": 52,
     "metadata": {},
     "output_type": "execute_result"
    }
   ],
   "source": [
    "def closureWithTwoArgsAndExplicitTypes = { int a, int b -> a+b }\n",
    "assert closureWithTwoArgsAndExplicitTypes(1,2) == 3"
   ]
  },
  {
   "cell_type": "code",
   "execution_count": 53,
   "metadata": {},
   "outputs": [
    {
     "data": {
      "text/plain": [
       "null"
      ]
     },
     "execution_count": 53,
     "metadata": {},
     "output_type": "execute_result"
    }
   ],
   "source": [
    "def closureWithTwoArgsAndOptionalTypes = { a, int b -> a+b }\n",
    "assert closureWithTwoArgsAndOptionalTypes(1,2) == 3"
   ]
  },
  {
   "cell_type": "code",
   "execution_count": 54,
   "metadata": {},
   "outputs": [
    {
     "data": {
      "text/plain": [
       "null"
      ]
     },
     "execution_count": 54,
     "metadata": {},
     "output_type": "execute_result"
    }
   ],
   "source": [
    "def closureWithTwoArgAndDefaultValue = { int a, int b=2 -> a+b }\n",
    "assert closureWithTwoArgAndDefaultValue(1) == 3"
   ]
  },
  {
   "cell_type": "markdown",
   "metadata": {},
   "source": [
    "### Implicit parameter\n",
    "When a closure does not explicitly define a parameter list (using ->), a closure always defines an implicit parameter, named it. This means that this code:"
   ]
  },
  {
   "cell_type": "code",
   "execution_count": 55,
   "metadata": {},
   "outputs": [
    {
     "data": {
      "text/plain": [
       "null"
      ]
     },
     "execution_count": 55,
     "metadata": {},
     "output_type": "execute_result"
    }
   ],
   "source": [
    "def greeting = { \"Hello, $it!\" }\n",
    "assert greeting('Patrick') == 'Hello, Patrick!'"
   ]
  },
  {
   "cell_type": "markdown",
   "metadata": {},
   "source": [
    "is stricly equivalent to this one:"
   ]
  },
  {
   "cell_type": "code",
   "execution_count": 56,
   "metadata": {},
   "outputs": [
    {
     "data": {
      "text/plain": [
       "null"
      ]
     },
     "execution_count": 56,
     "metadata": {},
     "output_type": "execute_result"
    }
   ],
   "source": [
    "def greeting = { it -> \"Hello, $it!\" }\n",
    "assert greeting('Patrick') == 'Hello, Patrick!'"
   ]
  },
  {
   "cell_type": "markdown",
   "metadata": {},
   "source": [
    "If you want to declare a closure which accepts no argument and must be restricted to calls without arguments, then you must declare it with an explicit empty argument list:"
   ]
  },
  {
   "cell_type": "code",
   "execution_count": 57,
   "metadata": {},
   "outputs": [
    {
     "data": {
      "text/plain": [
       "script1575372513030$_run_closure1@5895e2f0"
      ]
     },
     "execution_count": 57,
     "metadata": {},
     "output_type": "execute_result"
    }
   ],
   "source": [
    "def magicNumber = { -> 42 }"
   ]
  },
  {
   "cell_type": "code",
   "execution_count": 58,
   "metadata": {},
   "outputs": [
    {
     "ename": "groovy.lang.MissingMethodException",
     "evalue": " No signature of method",
     "output_type": "error",
     "traceback": [
      "\u001b[1;31mgroovy.lang.MissingMethodException: No signature of method: script1575372514869.magicNumber() is applicable for argument types: (java.lang.Integer) values: [11]\u001b[0;0m",
      "\u001b[1;31m\tat this cell line 2\u001b[0;0m",
      "\u001b[0;31m\tat com.twosigma.beakerx.groovy.evaluator.GroovyCodeRunner.runScript(GroovyCodeRunner.java:94)\u001b[0;0m",
      "\u001b[0;31m\tat com.twosigma.beakerx.groovy.evaluator.GroovyCodeRunner.call(GroovyCodeRunner.java:59)\u001b[0;0m",
      "\u001b[0;31m\tat com.twosigma.beakerx.groovy.evaluator.GroovyCodeRunner.call(GroovyCodeRunner.java:32)\u001b[0;0m"
     ]
    }
   ],
   "source": [
    "// this call will fail because the closure doesn't accept any argument\n",
    "magicNumber(11)"
   ]
  },
  {
   "cell_type": "markdown",
   "metadata": {},
   "source": [
    "### Varargs\n",
    "It is possible for a closure to declare variable arguments like any other method. Vargs methods are methods that can accept a variable number of arguments if the last parameter is of variable length (or an array) like in the next examples:"
   ]
  },
  {
   "cell_type": "code",
   "execution_count": 59,
   "metadata": {},
   "outputs": [
    {
     "data": {
      "text/plain": [
       "null"
      ]
     },
     "execution_count": 59,
     "metadata": {},
     "output_type": "execute_result"
    }
   ],
   "source": [
    "def concat1 = { String... args -> args.join('') }           \n",
    "assert concat1('abc','def') == 'abcdef'                     "
   ]
  },
  {
   "cell_type": "code",
   "execution_count": 60,
   "metadata": {},
   "outputs": [
    {
     "data": {
      "text/plain": [
       "null"
      ]
     },
     "execution_count": 60,
     "metadata": {},
     "output_type": "execute_result"
    }
   ],
   "source": [
    "def concat2 = { String[] args -> args.join('') }            \n",
    "assert concat2('abc', 'def') == 'abcdef'"
   ]
  },
  {
   "cell_type": "code",
   "execution_count": 61,
   "metadata": {},
   "outputs": [
    {
     "data": {
      "text/plain": [
       "null"
      ]
     },
     "execution_count": 61,
     "metadata": {},
     "output_type": "execute_result"
    }
   ],
   "source": [
    "def multiConcat = { int n, String... args ->                \n",
    "    args.join('')*n\n",
    "}\n",
    "assert multiConcat(2, 'abc','def') == 'abcdefabcdef'"
   ]
  },
  {
   "cell_type": "markdown",
   "metadata": {},
   "source": [
    "A closure accepting a variable number of strings as first parameter\n",
    "It may be called using any number of arguments without having to explicitly wrap them into an array\n",
    "The same behavior is directly available if the args parameter is declared as an array\n",
    "As long as the last parameter is an array or an explicit vargs type"
   ]
  },
  {
   "cell_type": "markdown",
   "metadata": {},
   "source": [
    "## Closures and Iterables\n",
    "\n",
    "Groovy has many methods that allow easier manipulation of *iterable* objects, which includes: Maps, Lists and in some cases arrays, and Strings:\n",
    "\n",
    "Groovy provides native support for various collection types, including lists, maps or ranges. Most of those are based on the Java collection types and decorated with additional methods found in the Groovy development kit.\n",
    "\n",
    "### Lists\n",
    "\n",
    "#### `each`\n",
    "Iterating on elements of a list is usually done calling the each and eachWithIndex methods, which execute code on each item of a list:"
   ]
  },
  {
   "cell_type": "code",
   "execution_count": 93,
   "metadata": {},
   "outputs": [
    {
     "name": "stdout",
     "output_type": "stream",
     "text": [
      "Item: 1\n",
      "Item: 2\n",
      "Item: 3\n"
     ]
    },
    {
     "data": {
      "text/plain": [
       "[1, 2, 3]"
      ]
     },
     "execution_count": 93,
     "metadata": {},
     "output_type": "execute_result"
    }
   ],
   "source": [
    "[1, 2, 3].each {\n",
    "    println \"Item: $it\" // `it` is an implicit parameter corresponding to the current element\n",
    "}"
   ]
  },
  {
   "cell_type": "code",
   "execution_count": 94,
   "metadata": {},
   "outputs": [
    {
     "name": "stdout",
     "output_type": "stream",
     "text": [
      "0: a\n",
      "1: b\n",
      "2: c\n"
     ]
    },
    {
     "data": {
      "text/plain": [
       "[a, b, c]"
      ]
     },
     "execution_count": 94,
     "metadata": {},
     "output_type": "execute_result"
    }
   ],
   "source": [
    "['a', 'b', 'c'].eachWithIndex { it, i -> // `it` is the current element, while `i` is the index\n",
    "    println \"$i: $it\"\n",
    "}"
   ]
  },
  {
   "cell_type": "markdown",
   "metadata": {},
   "source": [
    "#### `collect`\n",
    "In addition to iterating, it is often useful to create a new list by transforming each of its elements into something else. This operation, often called mapping, is done in Groovy thanks to the collect method:"
   ]
  },
  {
   "cell_type": "code",
   "execution_count": 95,
   "metadata": {},
   "outputs": [
    {
     "data": {
      "text/plain": [
       "null"
      ]
     },
     "execution_count": 95,
     "metadata": {},
     "output_type": "execute_result"
    }
   ],
   "source": [
    "assert [1, 2, 3].collect { it * 2 } == [2, 4, 6]"
   ]
  },
  {
   "cell_type": "code",
   "execution_count": 96,
   "metadata": {},
   "outputs": [
    {
     "data": {
      "text/plain": [
       "null"
      ]
     },
     "execution_count": 96,
     "metadata": {},
     "output_type": "execute_result"
    }
   ],
   "source": [
    "// shortcut syntax instead of collect\n",
    "assert [1, 2, 3]*.multiply(2) == [1, 2, 3].collect { it.multiply(2) }"
   ]
  },
  {
   "cell_type": "code",
   "execution_count": 97,
   "metadata": {},
   "outputs": [
    {
     "data": {
      "text/plain": [
       "null"
      ]
     },
     "execution_count": 97,
     "metadata": {},
     "output_type": "execute_result"
    }
   ],
   "source": [
    "def list = [0]\n",
    "// it is possible to give `collect` the list which collects the elements\n",
    "assert [1, 2, 3].collect(list) { it * 2 } == [0, 2, 4, 6]\n",
    "assert list == [0, 2, 4, 6]"
   ]
  },
  {
   "cell_type": "markdown",
   "metadata": {},
   "source": [
    "### Manipulating lists\n",
    "#### `find[ all | indexOf | lastIndexOf]`\n",
    "The Groovy development kit contains a lot of methods on collections that enhance the standard collections with pragmatic methods, some of which are illustrated here:\n",
    "\n",
    "Find 1st element matching criteria"
   ]
  },
  {
   "cell_type": "code",
   "execution_count": 98,
   "metadata": {},
   "outputs": [
    {
     "data": {
      "text/plain": [
       "2"
      ]
     },
     "execution_count": 98,
     "metadata": {},
     "output_type": "execute_result"
    }
   ],
   "source": [
    "[1, 2, 3].find { it > 1 }"
   ]
  },
  {
   "cell_type": "markdown",
   "metadata": {},
   "source": [
    "find all elements matching critieria"
   ]
  },
  {
   "cell_type": "code",
   "execution_count": 99,
   "metadata": {},
   "outputs": [
    {
     "data": {
      "text/plain": [
       "[2, 3]"
      ]
     },
     "execution_count": 99,
     "metadata": {},
     "output_type": "execute_result"
    }
   ],
   "source": [
    "[1, 2, 3].findAll { it > 1 }"
   ]
  },
  {
   "cell_type": "markdown",
   "metadata": {},
   "source": [
    "Find index of 1st element matching criteria"
   ]
  },
  {
   "cell_type": "code",
   "execution_count": 100,
   "metadata": {},
   "outputs": [
    {
     "data": {
      "text/plain": [
       "2"
      ]
     },
     "execution_count": 100,
     "metadata": {},
     "output_type": "execute_result"
    }
   ],
   "source": [
    "['a', 'b', 'c', 'd', 'e'].findIndexOf {      \n",
    "    it in ['c', 'e', 'g']\n",
    "}"
   ]
  },
  {
   "cell_type": "markdown",
   "metadata": {},
   "source": [
    "Index returned"
   ]
  },
  {
   "cell_type": "code",
   "execution_count": 101,
   "metadata": {},
   "outputs": [
    {
     "data": {
      "text/plain": [
       "2"
      ]
     },
     "execution_count": 101,
     "metadata": {},
     "output_type": "execute_result"
    }
   ],
   "source": [
    "['a', 'b', 'c', 'd', 'c'].indexOf('c')"
   ]
  },
  {
   "cell_type": "markdown",
   "metadata": {},
   "source": [
    "Index -1 means value not in list"
   ]
  },
  {
   "cell_type": "code",
   "execution_count": 102,
   "metadata": {},
   "outputs": [
    {
     "data": {
      "text/plain": [
       "-1"
      ]
     },
     "execution_count": 102,
     "metadata": {},
     "output_type": "execute_result"
    }
   ],
   "source": [
    "['a', 'b', 'c', 'd', 'c'].indexOf('z')"
   ]
  },
  {
   "cell_type": "code",
   "execution_count": 103,
   "metadata": {},
   "outputs": [
    {
     "data": {
      "text/plain": [
       "4"
      ]
     },
     "execution_count": 103,
     "metadata": {},
     "output_type": "execute_result"
    }
   ],
   "source": [
    "['a', 'b', 'c', 'd', 'c'].lastIndexOf('c')"
   ]
  },
  {
   "cell_type": "markdown",
   "metadata": {},
   "source": [
    "Returns true if all elements match the predicate"
   ]
  },
  {
   "cell_type": "code",
   "execution_count": 104,
   "metadata": {},
   "outputs": [
    {
     "data": {
      "text/plain": [
       "true"
      ]
     },
     "execution_count": 104,
     "metadata": {},
     "output_type": "execute_result"
    }
   ],
   "source": [
    "[1, 2, 3].every { it < 5 }"
   ]
  },
  {
   "cell_type": "code",
   "execution_count": 105,
   "metadata": {},
   "outputs": [
    {
     "data": {
      "text/plain": [
       "true"
      ]
     },
     "execution_count": 105,
     "metadata": {},
     "output_type": "execute_result"
    }
   ],
   "source": [
    "[1, 2, 3].any { it > 2 }                 // returns true if any element matches the predicate"
   ]
  },
  {
   "cell_type": "markdown",
   "metadata": {},
   "source": [
    "### sum min max"
   ]
  },
  {
   "cell_type": "code",
   "execution_count": 107,
   "metadata": {},
   "outputs": [
    {
     "data": {
      "text/plain": [
       "21"
      ]
     },
     "execution_count": 107,
     "metadata": {},
     "output_type": "execute_result"
    }
   ],
   "source": [
    "[1, 2, 3, 4, 5, 6].sum()       // sum anything with a plus() method"
   ]
  },
  {
   "cell_type": "code",
   "execution_count": 108,
   "metadata": {},
   "outputs": [
    {
     "data": {
      "text/plain": [
       "null"
      ]
     },
     "execution_count": 108,
     "metadata": {},
     "output_type": "execute_result"
    }
   ],
   "source": [
    "def list = [9, 4, 2, 10, 5]\n",
    "assert list.max() == 10\n",
    "assert list.min() == 2"
   ]
  },
  {
   "cell_type": "markdown",
   "metadata": {},
   "source": [
    "### join inject"
   ]
  },
  {
   "cell_type": "code",
   "execution_count": 109,
   "metadata": {},
   "outputs": [
    {
     "data": {
      "text/plain": [
       "null"
      ]
     },
     "execution_count": 109,
     "metadata": {},
     "output_type": "execute_result"
    }
   ],
   "source": [
    "assert [1, 2, 3].join('-') == '1-2-3'           // String joining\n",
    "assert [1, 2, 3].inject('counting: ') {\n",
    "    str, item -> str + item                     // reduce operation\n",
    "} == 'counting: 123'\n",
    "assert [1, 2, 3].inject(0) { count, item ->\n",
    "    count + item\n",
    "} == 6"
   ]
  },
  {
   "cell_type": "markdown",
   "metadata": {},
   "source": [
    "### Sorting\n",
    "Working with collections often implies sorting. Groovy offers a variety of options to sort lists, from using closures to comparators, as in the following examples:"
   ]
  },
  {
   "cell_type": "code",
   "execution_count": 112,
   "metadata": {},
   "outputs": [
    {
     "data": {
      "text/plain": [
       "null"
      ]
     },
     "execution_count": 112,
     "metadata": {},
     "output_type": "execute_result"
    }
   ],
   "source": [
    "assert [6, 3, 9, 2, 7, 1, 5].sort() == [1, 2, 3, 5, 6, 7, 9]\n",
    "\n",
    "list = ['abc', 'z', 'xyzuvw', 'Hello', '321']\n",
    "assert list.sort {\n",
    "    it.size()\n",
    "} == ['z', 'abc', '321', 'Hello', 'xyzuvw']\n",
    "\n",
    "list2 = [7, 4, -6, -1, 11, 2, 3, -9, 5, -13]\n",
    "assert list2.sort { a, b -> a == b ? 0 : Math.abs(a) < Math.abs(b) ? -1 : 1 } ==\n",
    "        [-1, 2, 3, 4, 5, -6, 7, -9, 11, -13]"
   ]
  },
  {
   "cell_type": "code",
   "execution_count": 114,
   "metadata": {},
   "outputs": [
    {
     "data": {
      "text/plain": [
       "[-1, 2, 3, 4, 5, -6, 7, -9, 11, -13]"
      ]
     },
     "execution_count": 114,
     "metadata": {},
     "output_type": "execute_result"
    }
   ],
   "source": [
    "Comparator mc = { a, b -> a == b ? 0 : Math.abs(a) < Math.abs(b) ? -1 : 1 }\n",
    "\n",
    "list2.sort(mc)\n",
    "list2"
   ]
  },
  {
   "cell_type": "code",
   "execution_count": 115,
   "metadata": {},
   "outputs": [
    {
     "data": {
      "text/plain": [
       "[-7, -3, 1, 2, 5, 6, 9]"
      ]
     },
     "execution_count": 115,
     "metadata": {},
     "output_type": "execute_result"
    }
   ],
   "source": [
    "list3 = [6, -3, 9, 2, -7, 1, 5]\n",
    "\n",
    "Collections.sort(list3)\n",
    "list3"
   ]
  },
  {
   "cell_type": "markdown",
   "metadata": {},
   "source": [
    "## Maps\n",
    "\n",
    "In As usual in the Groovy development kit, idiomatic iteration on maps makes use of the each and eachWithIndex methods. It’s worth noting that maps created using the map literal notation are ordered, that is to say that if you iterate on map entries, it is guaranteed that the entries will be returned in the same order they were added in the map."
   ]
  },
  {
   "cell_type": "code",
   "execution_count": 106,
   "metadata": {},
   "outputs": [
    {
     "name": "stdout",
     "output_type": "stream",
     "text": [
      "Name: Bob Age: 42\n",
      "Name: Alice Age: 54\n",
      "Name: Max Age: 33\n",
      "0 - Name: Bob Age: 42\n",
      "1 - Name: Alice Age: 54\n",
      "2 - Name: Max Age: 33\n",
      "Name: Bob Age: 42\n",
      "Name: Alice Age: 54\n",
      "Name: Max Age: 33\n",
      "0 - Name: Bob Age: 42\n",
      "1 - Name: Alice Age: 54\n",
      "2 - Name: Max Age: 33\n"
     ]
    },
    {
     "data": {
      "application/vnd.jupyter.widget-view+json": {
       "model_id": "a28bb261-5d79-4418-83c7-766687c65130",
       "version_major": 2,
       "version_minor": 0
      },
      "method": "display_data"
     },
     "metadata": {},
     "output_type": "display_data"
    }
   ],
   "source": [
    "def map = [\n",
    "        Bob  : 42,\n",
    "        Alice: 54,\n",
    "        Max  : 33\n",
    "]\n",
    "\n",
    "// `entry` is a map entry\n",
    "map.each { entry ->\n",
    "    println \"Name: $entry.key Age: $entry.value\"\n",
    "}\n",
    "\n",
    "// `entry` is a map entry, `i` the index in the map\n",
    "map.eachWithIndex { entry, i ->\n",
    "    println \"$i - Name: $entry.key Age: $entry.value\"\n",
    "}\n",
    "\n",
    "// Alternatively you can use key and value directly\n",
    "map.each { key, value ->\n",
    "    println \"Name: $key Age: $value\"\n",
    "}\n",
    "\n",
    "// Key, value and i as the index in the map\n",
    "map.eachWithIndex { key, value, i ->\n",
    "    println \"$i - Name: $key Age: $value\"\n",
    "}"
   ]
  },
  {
   "cell_type": "markdown",
   "metadata": {},
   "source": [
    "## Closures in GStrings\n",
    "Take the following code:"
   ]
  },
  {
   "cell_type": "code",
   "execution_count": 86,
   "metadata": {},
   "outputs": [
    {
     "data": {
      "text/plain": [
       "null"
      ]
     },
     "execution_count": 86,
     "metadata": {},
     "output_type": "execute_result"
    }
   ],
   "source": [
    "x = 1\n",
    "gs = \"x = ${x}\"\n",
    "assert gs == 'x = 1'"
   ]
  },
  {
   "cell_type": "markdown",
   "metadata": {},
   "source": [
    "The code behaves as you would expect, but what happens if you add:"
   ]
  },
  {
   "cell_type": "code",
   "execution_count": 87,
   "metadata": {},
   "outputs": [
    {
     "ename": "Assertion failed",
     "evalue": " ",
     "output_type": "error",
     "traceback": [
      "\u001b[1;31mAssertion failed: \u001b[0;0m",
      "\u001b[1;31m\u001b[0;0m",
      "\u001b[1;31massert gs == 'x = 2'\u001b[0;0m",
      "\u001b[1;31m       |  |\u001b[0;0m",
      "\u001b[1;31m       |  false\u001b[0;0m",
      "\u001b[1;31m       x = 1\u001b[0;0m",
      "\u001b[1;31m\u001b[0;0m",
      "\u001b[1;31m\tat this cell line 2\u001b[0;0m",
      "\u001b[0;31m\tat com.twosigma.beakerx.groovy.evaluator.GroovyCodeRunner.runScript(GroovyCodeRunner.java:94)\u001b[0;0m",
      "\u001b[0;31m\tat com.twosigma.beakerx.groovy.evaluator.GroovyCodeRunner.call(GroovyCodeRunner.java:59)\u001b[0;0m",
      "\u001b[0;31m\tat com.twosigma.beakerx.groovy.evaluator.GroovyCodeRunner.call(GroovyCodeRunner.java:32)\u001b[0;0m"
     ]
    }
   ],
   "source": [
    "x = 2\n",
    "assert gs == 'x = 2'"
   ]
  },
  {
   "cell_type": "markdown",
   "metadata": {},
   "source": [
    "You will see that the assert fails! There are two reasons for this:\n",
    "\n",
    "a *GString* only evaluates *lazily* the *toString* representation of values\n",
    "\n",
    "the syntax `${x}` in a *GString* does not represent a closure but an expression to `$x`, evaluated when the *GString* is created.\n",
    "\n",
    "In our example, the *GString* is created with an expression referencing `x`. When the *GString* is created, the value of `x` is `1`, so the *GString* is created with a value of `1`. When the assert is triggered, the *GString* is evaluated and `1` is converted to a *String* using *toString*. When we change `x` to `2`, we did change the value of `x`, but it is a different object, and the *GString* still references the old one.\n",
    "\n",
    "A *GString* will only change its toString representation if the values it references are mutating. If the references change, nothing will happen.\n",
    "If you need a real closure in a *GString* and for example enforce *lazy* evaluation of variables, you need to use the alternate syntax `${→ x}` like in the fixed example:"
   ]
  },
  {
   "cell_type": "code",
   "execution_count": 88,
   "metadata": {},
   "outputs": [
    {
     "data": {
      "text/plain": [
       "null"
      ]
     },
     "execution_count": 88,
     "metadata": {},
     "output_type": "execute_result"
    }
   ],
   "source": [
    "def x = 1\n",
    "def gs = \"x = ${-> x}\"\n",
    "assert gs == 'x = 1'\n",
    "\n",
    "x = 2\n",
    "assert gs == 'x = 2'"
   ]
  },
  {
   "cell_type": "markdown",
   "metadata": {},
   "source": [
    "# Program structure\n",
    "\n",
    "```\n",
    ".__    __    __    __    __    __    __    __    __    __\n",
    "/  \\__/  \\__/  \\__/  \\__/  \\__/  \\__/  \\__/  \\__/  \\__/  \\\n",
    "\\__/   __    __/     /   __   \\  /     /   __    __      /\n",
    "/   __/  \\__/   __/  \\  /  \\  /  \\  /   __/   __/  \\__/  \\\n",
    "\\  /     /   __/   __/  \\     \\  /  \\__/   __/  \\__   \\  /\n",
    "/  \\  /   __/   __/     /  \\__/  \\__   \\  /   __   \\__   \\\n",
    "\\  /  \\__/  \\  /   __/  \\  /   __/   __/   __/   __/  \\  /\n",
    "/   __/     /   __/  \\  /  \\  /   __/  \\__/   __/   __   \\\n",
    "\\  /   __/  \\__/     /  \\  /   __/   __/   __/   __/  \\__/\n",
    "/  \\  /  \\     \\  /   __/   __/   __   \\  /   __/   __   \\\n",
    "\\__/  \\  /  \\__/  \\__/  \\__    __/  \\  /  \\__    __/   __/\n",
    "/   __/  \\__    __/   __   \\__/   __/  \\     \\__/   __/  \\\n",
    "\\  /   __   \\__/   __/   __/   __/   __/  \\  /   __/     /\n",
    "/  \\__   \\__   \\  /   __/   __/   __/   __/  \\__   \\  /  \\\n",
    "\\  /  \\__   \\__   \\__    __/   __/   __/   __/  \\  /  \\  /\n",
    "/  \\     \\__   \\__/  \\__/  \\__   \\  /   __/   __   \\__/  \\\n",
    "\\  /  \\__   \\  /     /   __   \\  /  \\  /  \\__   \\__/   __/\n",
    "/   __/  \\  /  \\  /   __/   __/  \\  /   __   \\__    __/  \\\n",
    "\\__/     /  \\  /  \\__/   __/  \\  /  \\__/  \\__   \\__/     /\n",
    "/   __/   __/  \\  /   __/   __/  \\     \\     \\__/   __/  \\\n",
    "\\  /  \\  /     /  \\  /   __    __/  \\__   \\  /   __/  \\  /\n",
    "/  \\  /  \\  /  \\  /  \\  /  \\  /   __/  \\__/   __/   __/  \\\n",
    "\\  /  \\  /  \\  /  \\__   \\     \\__/   __   \\__/     /  \\  /\n",
    "/   __/  \\__/  \\  /   __/  \\__    __/  \\__    __/  \\     \\\n",
    "\\__/   __   \\  /  \\__/  \\__/  \\__/     /  \\__/  \\__/  \\__/\n",
    "/  \\__   \\__   \\__    __    __    __/   __    __   \\__   \\\n",
    "\\        /  \\__/  \\__/  \\__/  \\__/  \\__/  \\__/  \\__/     /\n",
    "/  Start \\                                         \\ end \\\n",
    "\\__    __/                                         /   __/\n",
    "   \\__/                                            \\__/\n",
    "```\n",
    "\n",
    "The program structure of the Groovy programming language.\n",
    "\n",
    "## Package names\n",
    "Package names play exactly the same role as in Java. They allows us to separate the code base without any conflicts. Groovy classes must specify their package before the class definition, else the default package is assumed.\n",
    "\n",
    "Defining a package is very similar to Java:"
   ]
  },
  {
   "cell_type": "code",
   "execution_count": 62,
   "metadata": {},
   "outputs": [
    {
     "data": {
      "text/plain": [
       "null"
      ]
     },
     "execution_count": 62,
     "metadata": {},
     "output_type": "execute_result"
    }
   ],
   "source": [
    "// defining a package named com.yoursite\n",
    "package com.yoursite"
   ]
  },
  {
   "cell_type": "markdown",
   "metadata": {},
   "source": [
    "To refer to some class Foo in the com.yoursite.com package you will need to use the fully qualified name com.yoursite.com.Foo, or else you can use an import statement as we’ll see below."
   ]
  },
  {
   "cell_type": "markdown",
   "metadata": {},
   "source": [
    "## Imports\n",
    "In order to refer to any class you need a qualified reference to its package. Groovy follows Java’s notion of allowing import statement to resolve class references.\n",
    "\n",
    "For example, Groovy provides several builder classes, such as MarkupBuilder. MarkupBuilder is inside the package groovy.xml so in order to use this class, you need to import it as shown:"
   ]
  },
  {
   "cell_type": "code",
   "execution_count": 63,
   "metadata": {},
   "outputs": [
    {
     "data": {
      "text/plain": [
       "null"
      ]
     },
     "execution_count": 63,
     "metadata": {},
     "output_type": "execute_result"
    }
   ],
   "source": [
    "// importing the class MarkupBuilder\n",
    "import groovy.xml.MarkupBuilder\n",
    "\n",
    "// using the imported class to create an object\n",
    "def xml = new MarkupBuilder()\n",
    "\n",
    "assert xml != null"
   ]
  },
  {
   "cell_type": "markdown",
   "metadata": {},
   "source": [
    "## Default imports\n",
    "Default imports are the imports that Groovy language provides by default. For example look at the following code:"
   ]
  },
  {
   "cell_type": "code",
   "execution_count": 64,
   "metadata": {},
   "outputs": [
    {
     "data": {
      "text/plain": [
       "Tue Dec 03 11:46:43 UTC 2019"
      ]
     },
     "execution_count": 64,
     "metadata": {},
     "output_type": "execute_result"
    }
   ],
   "source": [
    "new Date()"
   ]
  },
  {
   "cell_type": "markdown",
   "metadata": {},
   "source": [
    "The same code in Java needs an import statement to Date class like this: import java.util.Date. Groovy by default imports these classes for you.\n",
    "\n",
    "The below imports are added by groovy for you:\n",
    "\n",
    "```groovy\n",
    "import java.lang.*\n",
    "import java.util.*\n",
    "import java.io.*\n",
    "import java.net.*\n",
    "import groovy.lang.*\n",
    "import groovy.util.*\n",
    "import java.math.BigInteger\n",
    "import java.math.BigDecimal\n",
    "```\n",
    "\n",
    "This is done because the classes from these packages are most commonly used. By importing these boilerplate code is reduced."
   ]
  },
  {
   "cell_type": "markdown",
   "metadata": {},
   "source": [
    "### Simple import\n",
    "A simple import is an import statement where you fully define the class name along with the package. For example the import statement import groovy.xml.MarkupBuilder in the code below is a simple import which directly refers to a class inside a package."
   ]
  },
  {
   "cell_type": "code",
   "execution_count": 65,
   "metadata": {},
   "outputs": [
    {
     "data": {
      "text/plain": [
       "null"
      ]
     },
     "execution_count": 65,
     "metadata": {},
     "output_type": "execute_result"
    }
   ],
   "source": [
    "// importing the class MarkupBuilder\n",
    "import groovy.xml.MarkupBuilder\n",
    "\n",
    "// using the imported class to create an object\n",
    "def xml = new MarkupBuilder()\n",
    "\n",
    "assert xml != null"
   ]
  },
  {
   "cell_type": "markdown",
   "metadata": {},
   "source": [
    "### Star import\n",
    "Groovy, like Java, provides a special way to import all classes from a package using `*`, the so called star import. *MarkupBuilder* is a class which is in package *groovy.xml*, alongside another class called *StreamingMarkupBuilder*. In case you need to use both classes, you can do:"
   ]
  },
  {
   "cell_type": "code",
   "execution_count": 66,
   "metadata": {},
   "outputs": [
    {
     "data": {
      "text/plain": [
       "null"
      ]
     },
     "execution_count": 66,
     "metadata": {},
     "output_type": "execute_result"
    }
   ],
   "source": [
    "import groovy.xml.MarkupBuilder\n",
    "import groovy.xml.StreamingMarkupBuilder\n",
    "\n",
    "def markupBuilder = new MarkupBuilder()\n",
    "\n",
    "assert markupBuilder != null\n",
    "\n",
    "assert new StreamingMarkupBuilder() != null"
   ]
  },
  {
   "cell_type": "markdown",
   "metadata": {},
   "source": [
    "That’s perfectly valid code. But with a * import, we can achieve the same effect with just one line. The star imports all the classes under package groovy.xml:"
   ]
  },
  {
   "cell_type": "code",
   "execution_count": 67,
   "metadata": {},
   "outputs": [
    {
     "data": {
      "text/plain": [
       "null"
      ]
     },
     "execution_count": 67,
     "metadata": {},
     "output_type": "execute_result"
    }
   ],
   "source": [
    "import groovy.xml.*\n",
    "\n",
    "def markupBuilder = new MarkupBuilder()\n",
    "\n",
    "assert markupBuilder != null\n",
    "\n",
    "assert new StreamingMarkupBuilder() != null"
   ]
  },
  {
   "cell_type": "markdown",
   "metadata": {},
   "source": [
    "One problem with * imports is that they can clutter your local namespace. But with the kinds of aliasing provided by Groovy, this can be solved easily."
   ]
  },
  {
   "cell_type": "markdown",
   "metadata": {},
   "source": [
    "### Static import\n",
    "Groovy’s static import capability allows you to reference imported classes as if they were static methods in your own class:"
   ]
  },
  {
   "cell_type": "code",
   "execution_count": 76,
   "metadata": {},
   "outputs": [
    {
     "data": {
      "text/plain": [
       "null"
      ]
     },
     "execution_count": 76,
     "metadata": {},
     "output_type": "execute_result"
    }
   ],
   "source": [
    "import static Boolean.FALSE\n",
    "\n",
    "assert !FALSE //use directly, without Boolean prefix!"
   ]
  },
  {
   "cell_type": "markdown",
   "metadata": {},
   "source": [
    "This is similar to Java’s static import capability but is a more dynamic than Java in that it allows you to define methods with the same name as an imported method as long as you have different types:"
   ]
  },
  {
   "cell_type": "code",
   "execution_count": 68,
   "metadata": {},
   "outputs": [
    {
     "data": {
      "text/plain": [
       "null"
      ]
     },
     "execution_count": 68,
     "metadata": {},
     "output_type": "execute_result"
    }
   ],
   "source": [
    "import static java.lang.String.format  //static import of method\n",
    "\n",
    "class SomeClass {\n",
    "\n",
    "    String format(Integer i) { // declaration of method with same name as method statically imported above, \n",
    "                               // but with a different parameter type\n",
    "        i.toString()\n",
    "    }\n",
    "\n",
    "    static void main(String[] args) {\n",
    "        assert format('String') == 'String' // compile error in java, but is valid groovy code \n",
    "        assert new SomeClass().format(Integer.valueOf(1)) == '1'\n",
    "    }\n",
    "}"
   ]
  },
  {
   "cell_type": "markdown",
   "metadata": {},
   "source": [
    "If you have the same types, the imported class takes precedence."
   ]
  },
  {
   "cell_type": "markdown",
   "metadata": {},
   "source": [
    "###. Static import aliasing\n",
    "Static imports with the as keyword provide an elegant solution to namespace problems. Suppose you want to get a Calendar instance, using its getInstance() method. It’s a static method, so we can use a static import. But instead of calling getInstance() every time, which can be misleading when separated from its class name, we can import it with an alias, to increase code readability:"
   ]
  },
  {
   "cell_type": "code",
   "execution_count": 69,
   "metadata": {},
   "outputs": [
    {
     "data": {
      "text/plain": [
       "null"
      ]
     },
     "execution_count": 69,
     "metadata": {},
     "output_type": "execute_result"
    }
   ],
   "source": [
    "import static Calendar.getInstance as now\n",
    "\n",
    "assert now().class == Calendar.getInstance().class"
   ]
  },
  {
   "cell_type": "markdown",
   "metadata": {},
   "source": [
    "Now, that’s clean!"
   ]
  },
  {
   "cell_type": "markdown",
   "metadata": {},
   "source": [
    "### Static star import\n",
    "A static star import is very similar to the regular star import. It will import all the static methods from the given class.\n",
    "\n",
    "For example, lets say we need to calculate sines and cosines for our application. The class java.lang.Math has static methods named sin and cos which fit our need. With the help of a static star import, we can do:"
   ]
  },
  {
   "cell_type": "code",
   "execution_count": 70,
   "metadata": {},
   "outputs": [
    {
     "data": {
      "text/plain": [
       "null"
      ]
     },
     "execution_count": 70,
     "metadata": {},
     "output_type": "execute_result"
    }
   ],
   "source": [
    "import static java.lang.Math.*\n",
    "\n",
    "assert sin(0) == 0.0\n",
    "assert cos(0) == 1.0"
   ]
  },
  {
   "cell_type": "markdown",
   "metadata": {},
   "source": [
    "As you can see, we were able to access the methods sin and cos directly, without the Math. prefix."
   ]
  },
  {
   "cell_type": "markdown",
   "metadata": {},
   "source": [
    "### Import aliasing\n",
    "With type aliasing, we can refer to a fully qualified class name using a name of our choice. This can be done with the as keyword, as before.\n",
    "\n",
    "For example we can import java.sql.Date as SQLDate and use it in the same file as java.util.Date without having to use the fully qualified name of either class:"
   ]
  },
  {
   "cell_type": "code",
   "execution_count": 71,
   "metadata": {},
   "outputs": [
    {
     "data": {
      "text/plain": [
       "null"
      ]
     },
     "execution_count": 71,
     "metadata": {},
     "output_type": "execute_result"
    }
   ],
   "source": [
    "import java.util.Date\n",
    "import java.sql.Date as SQLDate\n",
    "\n",
    "Date utilDate = new Date(1000L)\n",
    "SQLDate sqlDate = new SQLDate(1000L)\n",
    "\n",
    "assert utilDate instanceof java.util.Date\n",
    "assert sqlDate instanceof java.sql.Date"
   ]
  },
  {
   "cell_type": "markdown",
   "metadata": {},
   "source": [
    "## Scripts versus classes\n",
    "### public static void main vs script\n",
    "Groovy supports both scripts and classes. Take the following code for example:"
   ]
  },
  {
   "cell_type": "code",
   "execution_count": 73,
   "metadata": {},
   "outputs": [
    {
     "data": {
      "text/plain": [
       "null"
      ]
     },
     "execution_count": 73,
     "metadata": {},
     "output_type": "execute_result"
    }
   ],
   "source": [
    "// Main.groovy\n",
    "class Main {                                    \n",
    "    static void main(String... args) {          \n",
    "        println 'Groovy world!'                 \n",
    "    }\n",
    "}"
   ]
  },
  {
   "cell_type": "markdown",
   "metadata": {},
   "source": [
    "define a Main class, the name is arbitrary\n",
    "\n",
    "3. the public static void main(`String[]`) method is usable as the main method of the class\n",
    "4. the main body of the method\n",
    "This is typical code that you would find coming from Java, where code has to be embedded into a class to be executable. Groovy makes it easier, the following code is equivalent:"
   ]
  },
  {
   "cell_type": "code",
   "execution_count": 74,
   "metadata": {},
   "outputs": [
    {
     "name": "stdout",
     "output_type": "stream",
     "text": [
      "Groovy world!\n"
     ]
    },
    {
     "data": {
      "text/plain": [
       "null"
      ]
     },
     "execution_count": 74,
     "metadata": {},
     "output_type": "execute_result"
    }
   ],
   "source": [
    "//Main.groovy\n",
    "println 'Groovy world!'"
   ]
  },
  {
   "cell_type": "markdown",
   "metadata": {},
   "source": [
    "A script can be considered as a class without needing to declare it, with some differences."
   ]
  },
  {
   "cell_type": "markdown",
   "metadata": {},
   "source": [
    "### Script class\n",
    "A script is always compiled into a class. The Groovy compiler will compile the class for you, with the body of the script copied into a run method. The previous example is therefore compiled as if it was the following:"
   ]
  },
  {
   "cell_type": "code",
   "execution_count": 75,
   "metadata": {},
   "outputs": [
    {
     "name": "stdout",
     "output_type": "stream",
     "text": [
      "Groovy world!\n"
     ]
    },
    {
     "data": {
      "text/plain": [
       "null"
      ]
     },
     "execution_count": 75,
     "metadata": {},
     "output_type": "execute_result"
    }
   ],
   "source": [
    "// Main.groovy\n",
    "import org.codehaus.groovy.runtime.InvokerHelper\n",
    "class Main extends Script {                     \n",
    "    def run() {                                 \n",
    "        println 'Groovy world!'                 \n",
    "    }\n",
    "    static void main(String[] args) {           \n",
    "        InvokerHelper.runScript(Main, args)     \n",
    "    }\n",
    "}"
   ]
  },
  {
   "cell_type": "markdown",
   "metadata": {},
   "source": [
    "3. The Main class extends the groovy.lang.Script class\n",
    "4. `groovy.lang.Script` requires a run method returning a value\n",
    "5. the script body goes into the run method\n",
    "\n",
    "The main method is automatically generated\n",
    "and delegates the execution of the script on the run method\n",
    "If the script is in a file, then the base name of the file is used to determine the name of the generated script class. In this example, if the name of the file is Main.groovy, then the script class is going to be Main."
   ]
  },
  {
   "cell_type": "markdown",
   "metadata": {},
   "source": [
    "## Classes\n",
    "Groovy classes are very similar to Java classes, and are compatible with Java ones at JVM level. They may have methods, fields and properties (think JavaBean properties but with less boilerplate). Classes and class members can have the same modifiers (public, protected, private, static, etc) as in Java with some minor differences at the source level which are explained shortly.\n",
    "\n",
    "The key differences between Groovy classes and their Java counterparts are:\n",
    " - Classes or methods with no visibility modifier are automatically public (a special annotation can be used to achieve package private visibility).\n",
    " - Fields with no visibility modifier are turned into properties automatically, which results in less verbose code, since explicit getter and setter methods aren’t needed. More on this aspect will be covered in the fields and properties section.\n",
    " - Classes do not need to have the same base name as their source file definitions but it is highly recommended in most scenarios (see also the next point about scripts).\n",
    " - One source file may contain one or more classes (but if a file contains any code not in a class, it is considered a script). Scripts are just classes with some special conventions and will have the same name as their source file (so don’t include a class definition within a script having the same name as the script source file).\n",
    "\n",
    "The following code presents an example class."
   ]
  },
  {
   "cell_type": "code",
   "execution_count": 116,
   "metadata": {},
   "outputs": [
    {
     "data": {
      "text/plain": [
       "null"
      ]
     },
     "execution_count": 116,
     "metadata": {},
     "output_type": "execute_result"
    }
   ],
   "source": [
    "class Person {                  // class beginning, with the name Person\n",
    "\n",
    "    String name                // string field and property named name            \n",
    "    Integer age\n",
    "\n",
    "    def increaseAge(Integer years) { // method definition\n",
    "        this.age += years\n",
    "    }\n",
    "}"
   ]
  },
  {
   "cell_type": "markdown",
   "metadata": {},
   "source": [
    "Classes are by default *public*, fields are by default *private* however a property is automatically created for the field.\n",
    "Classes are instantiated by calling their constructors, using the new keyword, as in the following snippet."
   ]
  },
  {
   "cell_type": "code",
   "execution_count": 117,
   "metadata": {},
   "outputs": [
    {
     "data": {
      "text/plain": [
       "Person@76308271"
      ]
     },
     "execution_count": 117,
     "metadata": {},
     "output_type": "execute_result"
    }
   ],
   "source": [
    "p = new Person()"
   ]
  },
  {
   "cell_type": "markdown",
   "metadata": {},
   "source": [
    "Person property actually calls the implicit method `setName`"
   ]
  },
  {
   "cell_type": "code",
   "execution_count": 119,
   "metadata": {},
   "outputs": [
    {
     "data": {
      "text/plain": [
       "Fred"
      ]
     },
     "execution_count": 119,
     "metadata": {},
     "output_type": "execute_result"
    }
   ],
   "source": [
    "p.name = 'Fred' "
   ]
  },
  {
   "cell_type": "markdown",
   "metadata": {},
   "source": [
    "Person property actually calls `getName`"
   ]
  },
  {
   "cell_type": "code",
   "execution_count": 120,
   "metadata": {},
   "outputs": [
    {
     "data": {
      "text/plain": [
       "Fred"
      ]
     },
     "execution_count": 120,
     "metadata": {},
     "output_type": "execute_result"
    }
   ],
   "source": [
    "p.name "
   ]
  },
  {
   "cell_type": "markdown",
   "metadata": {},
   "source": [
    "### Interface\n",
    "An interface defines a contract that a class needs to conform to. An interface only defines a list of methods that need to be implemented, but does not define the methods implementation."
   ]
  },
  {
   "cell_type": "code",
   "execution_count": 121,
   "metadata": {},
   "outputs": [
    {
     "ename": "java.lang.InstantiationException",
     "evalue": " Greeter",
     "output_type": "error",
     "traceback": [
      "\u001b[1;31mjava.lang.InstantiationException: Greeter\u001b[0;0m",
      "\u001b[0;31m\tat com.twosigma.beakerx.groovy.evaluator.GroovyCodeRunner.call(GroovyCodeRunner.java:57)\u001b[0;0m",
      "\u001b[0;31m\tat com.twosigma.beakerx.groovy.evaluator.GroovyCodeRunner.call(GroovyCodeRunner.java:32)\u001b[0;0m",
      "\u001b[0;31mCaused by: java.lang.NoSuchMethodException: Greeter.<init>()\u001b[0;0m",
      "\u001b[0;31m\tat java.lang.Class.getConstructor0(Class.java:3082)\u001b[0;0m",
      "\u001b[0;31m\tat java.lang.Class.newInstance(Class.java:412)\u001b[0;0m",
      "\u001b[0;31m\tat com.twosigma.beakerx.groovy.evaluator.GroovyCodeRunner.call(GroovyCodeRunner.java:57)\u001b[0;0m",
      "\u001b[0;31m\tat com.twosigma.beakerx.groovy.evaluator.GroovyCodeRunner.call(GroovyCodeRunner.java:32)\u001b[0;0m",
      "\u001b[0;31m\tat java.util.concurrent.FutureTask.run(FutureTask.java:266)\u001b[0;0m",
      "\u001b[0;31m\tat java.util.concurrent.ThreadPoolExecutor.runWorker(ThreadPoolExecutor.java:1142)\u001b[0;0m",
      "\u001b[0;31m\tat java.util.concurrent.ThreadPoolExecutor$Worker.run(ThreadPoolExecutor.java:617)\u001b[0;0m",
      "\u001b[0;31m\tat java.lang.Thread.run(Thread.java:745)\u001b[0;0m"
     ]
    }
   ],
   "source": [
    "interface Greeter {                                         \n",
    "    void greet(String name)                                 \n",
    "}"
   ]
  },
  {
   "cell_type": "markdown",
   "metadata": {},
   "source": [
    "- an interface needs to be declared using the interface keyword\n",
    "- an interface only defines method signatures\n",
    "- Methods of an interface are always public. It is an error to use protected or private methods in interfaces:"
   ]
  },
  {
   "cell_type": "code",
   "execution_count": 122,
   "metadata": {},
   "outputs": [
    {
     "ename": "Method 'greet' is protected but should be public in interface 'Greeter'. @ line 2, column 1.",
     "evalue": "Method 'greet' is protected but should be public in interface 'Greeter'. @ line 2, column 1.",
     "output_type": "error",
     "traceback": [
      "\u001b[1;31mMethod 'greet' is protected but should be public in interface 'Greeter'. @ line 2, column 1.\u001b[0;0m",
      "\u001b[1;31m   protected void greet(String name)\u001b[0;0m",
      "\u001b[1;31m   ^\u001b[0;0m",
      "\u001b[1;31m\u001b[0;0m",
      "\u001b[1;31m1 error\u001b[0;0m",
      "\u001b[1;31m\u001b[0;0m",
      "\u001b[0;31m\tat com.twosigma.beakerx.groovy.evaluator.GroovyCodeRunner.call(GroovyCodeRunner.java:55)\u001b[0;0m",
      "\u001b[0;31m\tat com.twosigma.beakerx.groovy.evaluator.GroovyCodeRunner.call(GroovyCodeRunner.java:32)\u001b[0;0m"
     ]
    }
   ],
   "source": [
    "interface Greeter {\n",
    "    protected void greet(String name)           \n",
    "}"
   ]
  },
  {
   "cell_type": "markdown",
   "metadata": {},
   "source": [
    "Using protected is a compile-time error\n",
    "A class implements an interface if it defines the interface in its implements list or if any of its superclasses does:"
   ]
  },
  {
   "cell_type": "code",
   "execution_count": 123,
   "metadata": {},
   "outputs": [
    {
     "data": {
      "text/plain": [
       "null"
      ]
     },
     "execution_count": 123,
     "metadata": {},
     "output_type": "execute_result"
    }
   ],
   "source": [
    "class SystemGreeter implements Greeter {                    \n",
    "    void greet(String name) {                               \n",
    "        println \"Hello $name\"\n",
    "    }\n",
    "}\n",
    "\n",
    "def greeter = new SystemGreeter()\n",
    "assert greeter instanceof Greeter                           "
   ]
  },
  {
   "cell_type": "markdown",
   "metadata": {},
   "source": [
    "- The SystemGreeter declares the Greeter interface using the implements keyword\n",
    "- Then implements the required greet method\n",
    "\n",
    "Any instance of SystemGreeter is also an instance of the Greeter interface\n",
    "An interface can extend another interface:"
   ]
  },
  {
   "cell_type": "code",
   "execution_count": 124,
   "metadata": {},
   "outputs": [
    {
     "ename": "java.lang.InstantiationException",
     "evalue": " ExtendedGreeter",
     "output_type": "error",
     "traceback": [
      "\u001b[1;31mjava.lang.InstantiationException: ExtendedGreeter\u001b[0;0m",
      "\u001b[0;31m\tat com.twosigma.beakerx.groovy.evaluator.GroovyCodeRunner.call(GroovyCodeRunner.java:57)\u001b[0;0m",
      "\u001b[0;31m\tat com.twosigma.beakerx.groovy.evaluator.GroovyCodeRunner.call(GroovyCodeRunner.java:32)\u001b[0;0m",
      "\u001b[0;31mCaused by: java.lang.NoSuchMethodException: ExtendedGreeter.<init>()\u001b[0;0m",
      "\u001b[0;31m\tat java.lang.Class.getConstructor0(Class.java:3082)\u001b[0;0m",
      "\u001b[0;31m\tat java.lang.Class.newInstance(Class.java:412)\u001b[0;0m",
      "\u001b[0;31m\tat com.twosigma.beakerx.groovy.evaluator.GroovyCodeRunner.call(GroovyCodeRunner.java:57)\u001b[0;0m",
      "\u001b[0;31m\tat com.twosigma.beakerx.groovy.evaluator.GroovyCodeRunner.call(GroovyCodeRunner.java:32)\u001b[0;0m",
      "\u001b[0;31m\tat java.util.concurrent.FutureTask.run(FutureTask.java:266)\u001b[0;0m",
      "\u001b[0;31m\tat java.util.concurrent.ThreadPoolExecutor.runWorker(ThreadPoolExecutor.java:1142)\u001b[0;0m",
      "\u001b[0;31m\tat java.util.concurrent.ThreadPoolExecutor$Worker.run(ThreadPoolExecutor.java:617)\u001b[0;0m",
      "\u001b[0;31m\tat java.lang.Thread.run(Thread.java:745)\u001b[0;0m"
     ]
    }
   ],
   "source": [
    "interface ExtendedGreeter extends Greeter {                 \n",
    "    void sayBye(String name)\n",
    "}"
   ]
  },
  {
   "cell_type": "markdown",
   "metadata": {},
   "source": [
    "the *ExtendedGreeter* interface extends the Greeter interface using the extends keyword\n",
    "It is worth noting that for a class to be an instance of an interface, it has to be explicit. For example, the following class defines the greet method as it is declared in the Greeter interface, but does not declare Greeter in its interfaces:"
   ]
  },
  {
   "cell_type": "code",
   "execution_count": 125,
   "metadata": {},
   "outputs": [
    {
     "data": {
      "text/plain": [
       "null"
      ]
     },
     "execution_count": 125,
     "metadata": {},
     "output_type": "execute_result"
    }
   ],
   "source": [
    "class DefaultGreeter {\n",
    "    void greet(String name) { println \"Hello\" }\n",
    "}\n",
    "\n",
    "greeter = new DefaultGreeter()\n",
    "assert !(greeter instanceof Greeter)"
   ]
  },
  {
   "cell_type": "markdown",
   "metadata": {},
   "source": [
    "In other words, Groovy does not define structural typing. It is however possible to make an instance of an object implement an interface at runtime, using the as coercion operator:"
   ]
  },
  {
   "cell_type": "code",
   "execution_count": 126,
   "metadata": {},
   "outputs": [
    {
     "data": {
      "text/plain": [
       "null"
      ]
     },
     "execution_count": 126,
     "metadata": {},
     "output_type": "execute_result"
    }
   ],
   "source": [
    "greeter = new DefaultGreeter()                              \n",
    "coerced = greeter as Greeter                                \n",
    "assert coerced instanceof Greeter                           "
   ]
  },
  {
   "cell_type": "markdown",
   "metadata": {},
   "source": [
    "- create an instance of DefaultGreeter that does not implement the interface\n",
    "- coerce the instance into a Greeter at runtime\n",
    "\n",
    "the coerced instance implements the Greeter interface\n",
    "You can see that there are two distinct objects: one is the source object, a DefaultGreeter instance, which does not implement the interface. The other is an instance of Greeter that delegates to the coerced object.\n",
    "\n",
    "Groovy interfaces do not support default implementation like Java 8 interfaces. If you are looking for something similar (but not equal), traits are close to interfaces, but allow default implementation as well as other important features described in this manual."
   ]
  },
  {
   "cell_type": "markdown",
   "metadata": {},
   "source": [
    "### Constructors\n",
    "Constructors are special methods used to initialize an object with a specific state. As with normal methods, it is possible for a class to declare more than one constructor, so long as each constructor has a unique type signature. If an object doesn’t require any parameters during construction, it may use a no-arg constructor. If no constructors are supplied, an empty no-arg constructor will be provided by the Groovy compiler.\n",
    "\n",
    "Groovy supports two invocation styles:\n",
    "- positional parameters are used in a similar to how you would use Java constructors\n",
    "- named parameters allow you to specify parameter names when invoking the constructor.\n",
    "\n",
    "#### Using Params\n",
    "To create an object by using positional parameters, the respective class needs to declare one or more constructors. In the case of multiple constructors, each must have a unique type signature. The constructors can also added to the class using the groovy.transform.TupleConstructor annotation.\n",
    "\n",
    "Typically, once at least one constructor is declared, the class can only be instantiated by having one of its constructors called. It is worth noting that, in this case, you can’t normally create the class with named parameters. Groovy does support named parameters so long as the class contains a no-arg constructor or provides a constructor which takes a Map argument as the first (and potentially only) argument - see the next section for details.\n",
    "\n",
    "There are three forms of using a declared constructor. The first one is the normal Java way, with the new keyword. The others rely on coercion of lists into the desired types. In this case, it is possible to coerce with the as keyword and by statically typing the variable."
   ]
  },
  {
   "cell_type": "code",
   "execution_count": 127,
   "metadata": {},
   "outputs": [
    {
     "data": {
      "text/plain": [
       "PersonConstructor@30767ac6"
      ]
     },
     "execution_count": 127,
     "metadata": {},
     "output_type": "execute_result"
    }
   ],
   "source": [
    "class PersonConstructor {\n",
    "    String name\n",
    "    Integer age\n",
    "\n",
    "    PersonConstructor(name, age) {   // Constructor declaration\n",
    "        this.name = name\n",
    "        this.age = age\n",
    "    }\n",
    "}\n",
    "\n",
    "def person1 = new PersonConstructor('Marie', 1)  // Constructor invocation, classic Java way\n",
    "def person2 = ['Marie', 2] as PersonConstructor  // Constructor usage, using coercion with as keyword\n",
    "PersonConstructor person3 = ['Marie', 3]         // Constructor usage, using coercion in assignment"
   ]
  },
  {
   "cell_type": "markdown",
   "metadata": {},
   "source": [
    "### Exception declaration\n",
    "Groovy automatically allows you to treat checked exceptions like unchecked exceptions. This means that you don’t need to declare any checked exceptions that a method may throw as shown in the following example which can throw a FileNotFoundException if the file isn’t found:"
   ]
  },
  {
   "cell_type": "code",
   "execution_count": 213,
   "metadata": {},
   "outputs": [
    {
     "ename": "groovy.lang.MissingMethodException",
     "evalue": " No signature of method",
     "output_type": "error",
     "traceback": [
      "\u001b[1;31mgroovy.lang.MissingMethodException: No signature of method: script1575315647580.shouldFail() is applicable for argument types: (java.lang.Class, script1575315647580$_run_closure1) values: [class java.io.FileNotFoundException, script1575315647580$_run_closure1@4f1c50db]\u001b[0;0m",
      "\u001b[1;31m\tat this cell line 5\u001b[0;0m",
      "\u001b[0;31m\tat com.twosigma.beakerx.groovy.evaluator.GroovyCodeRunner.runScript(GroovyCodeRunner.java:94)\u001b[0;0m",
      "\u001b[0;31m\tat com.twosigma.beakerx.groovy.evaluator.GroovyCodeRunner.call(GroovyCodeRunner.java:59)\u001b[0;0m",
      "\u001b[0;31m\tat com.twosigma.beakerx.groovy.evaluator.GroovyCodeRunner.call(GroovyCodeRunner.java:32)\u001b[0;0m"
     ]
    }
   ],
   "source": [
    "def badRead() {\n",
    "    new File('doesNotExist.txt').text\n",
    "}\n",
    "\n",
    "shouldFail(FileNotFoundException) {\n",
    "    badRead()\n",
    "}"
   ]
  },
  {
   "cell_type": "markdown",
   "metadata": {},
   "source": [
    "Nor will you be required to surround the call to the badRead method in the previous example within a try/catch block - though you are free to do so if you wish.\n",
    "\n",
    "If you wish to declare any exceptions that your code might throw (checked or otherwise) you are free to do so. Adding exceptions won’t change how the code is used from any other Groovy code but can be seen as documentation for the human reader of your code. The exceptions will become part of the method declaration in the bytecode, so if your code might be called from Java, it might be useful to include them. Using an explicit checked exception declaration is illustrated in the following example:"
   ]
  },
  {
   "cell_type": "code",
   "execution_count": 214,
   "metadata": {},
   "outputs": [
    {
     "data": {
      "text/plain": [
       "null"
      ]
     },
     "execution_count": 214,
     "metadata": {},
     "output_type": "execute_result"
    }
   ],
   "source": [
    "def badRead() throws FileNotFoundException {\n",
    "    new File('doesNotExist.txt').text\n",
    "}"
   ]
  },
  {
   "cell_type": "code",
   "execution_count": 215,
   "metadata": {},
   "outputs": [
    {
     "ename": "groovy.lang.MissingMethodException",
     "evalue": " No signature of method",
     "output_type": "error",
     "traceback": [
      "\u001b[1;31mgroovy.lang.MissingMethodException: No signature of method: script1575315700301.shouldFail() is applicable for argument types: (java.lang.Class, script1575315700301$_run_closure1) values: [class java.io.FileNotFoundException, script1575315700301$_run_closure1@293ab4e]\u001b[0;0m",
      "\u001b[1;31m\tat this cell line 1\u001b[0;0m",
      "\u001b[0;31m\tat com.twosigma.beakerx.groovy.evaluator.GroovyCodeRunner.runScript(GroovyCodeRunner.java:94)\u001b[0;0m",
      "\u001b[0;31m\tat com.twosigma.beakerx.groovy.evaluator.GroovyCodeRunner.call(GroovyCodeRunner.java:59)\u001b[0;0m",
      "\u001b[0;31m\tat com.twosigma.beakerx.groovy.evaluator.GroovyCodeRunner.call(GroovyCodeRunner.java:32)\u001b[0;0m"
     ]
    }
   ],
   "source": [
    "shouldFail(FileNotFoundException) {\n",
    "    badRead()\n",
    "}"
   ]
  },
  {
   "cell_type": "markdown",
   "metadata": {},
   "source": [
    "# GPath expressions\n",
    "GPath is a path expression language integrated into Groovy which allows parts of nested structured data to be identified. In this sense, it has similar aims and scope as XPath does for XML. GPath is often used in the context of processing XML, but it really applies to any object graph. Where XPath uses a filesystem-like path notation, a tree hierarchy with parts separated by a slash /, GPath use a dot-object notation to perform object navigation.\n",
    "\n",
    "As an example, you can specify a path to an object or element of interest:\n",
    "\n",
    "`a.b.c → for XML`, yields all the c elements inside b inside a\n",
    "\n",
    "`a.b.c → for POJOs`, yields the c properties for all the b properties of a (sort of like `a.getB().getC()` in JavaBeans)\n",
    "\n",
    "In both cases, the GPath expression can be viewed as a query on an object graph. For POJOs, the object graph is most often built by the program being written through object instantiation and composition; for XML processing, the object graph is the result of parsing the XML text, most often with classes like XmlParser or XmlSlurper. See Processing XML for more in-depth details on consuming XML in Groovy.\n",
    "\n",
    "When querying the object graph generated from *XmlParser* or *XmlSlurper*, a *GPath* expression can refer to attributes defined on elements with the `@` notation:\n",
    "\n",
    "`a[\"@href\"] → `map-like notation : the href attribute of all the a elements\n",
    "\n",
    "a.'@href' → property notation : an alternative way of expressing this\n",
    "\n",
    "a.@href → direct notation : yet another alternative way of expressing this\n",
    "\n",
    "2.1.1. Object navigation\n",
    "Let’s see an example of a GPath expression on a simple object graph, the one obtained using java reflection. Suppose you are in a non-static method of a class having another method named aMethodFoo\n",
    "\n",
    "void aMethodFoo() { println \"This is aMethodFoo.\" } \n",
    "the following GPath expression will get the name of that method:\n",
    "\n",
    "assert ['aMethodFoo'] == this.class.methods.name.grep(~/.*Foo/)\n",
    "More precisely, the above GPath expression produces a list of String, each being the name of an existing method on this where that name ends with Foo.\n",
    "\n",
    "Now, given the following methods also defined in that class:\n",
    "\n",
    "void aMethodBar() { println \"This is aMethodBar.\" } \n",
    "void anotherFooMethod() { println \"This is anotherFooMethod.\" } \n",
    "void aSecondMethodBar() { println \"This is aSecondMethodBar.\" } \n",
    "then the following GPath expression will get the names of (1) and (3), but not (2) or (0):\n",
    "\n",
    "assert ['aMethodBar', 'aSecondMethodBar'] as Set == this.class.methods.name.grep(~/.*Bar/) as Set\n",
    "2.1.2. Expression Deconstruction\n",
    "We can decompose the expression this.class.methods.name.grep(~/.*Bar/) to get an idea of how a GPath is evaluated:\n",
    "\n",
    "this.class\n",
    "property accessor, equivalent to this.getClass() in Java, yields a Class object.\n",
    "\n",
    "this.class.methods\n",
    "property accessor, equivalent to this.getClass().getMethods(), yields an array of Method objects.\n",
    "\n",
    "this.class.methods.name\n",
    "apply a property accessor on each element of an array and produce a list of the results.\n",
    "\n",
    "this.class.methods.name.grep(…​)\n",
    "call method grep on each element of the list yielded by this.class.methods.name and produce a list of the results.\n",
    "\n",
    "A sub-expression like this.class.methods yields an array because this is what calling this.getClass().getMethods() in Java would produce. GPath expressions do not have a convention where a s means a list or anything like that.\n",
    "One powerful feature of GPath expression is that property access on a collection is converted to a property access on each element of the collection with the results collected into a collection. Therefore, the expression this.class.methods.name could be expressed as follows in Java:\n",
    "\n",
    "List<String> methodNames = new ArrayList<String>();\n",
    "for (Method method : this.getClass().getMethods()) {\n",
    "   methodNames.add(method.getName());\n",
    "}\n",
    "return methodNames;\n",
    "Array access notation can also be used in a GPath expression where a collection is present :\n",
    "\n",
    "assert 'aSecondMethodBar' == this.class.methods.name.grep(~/.*Bar/).sort()[1]\n",
    "array access are zero-based in GPath expressions\n",
    "2.1.3. GPath for XML navigation\n",
    "Here is an example with a XML document and various form of GPath expressions:\n",
    "\n",
    "def xmlText = \"\"\"\n",
    "              | <root>\n",
    "              |   <level>\n",
    "              |      <sublevel id='1'>\n",
    "              |        <keyVal>\n",
    "              |          <key>mykey</key>\n",
    "              |          <value>value 123</value>\n",
    "              |        </keyVal>\n",
    "              |      </sublevel>\n",
    "              |      <sublevel id='2'>\n",
    "              |        <keyVal>\n",
    "              |          <key>anotherKey</key>\n",
    "              |          <value>42</value>\n",
    "              |        </keyVal>\n",
    "              |        <keyVal>\n",
    "              |          <key>mykey</key>\n",
    "              |          <value>fizzbuzz</value>\n",
    "              |        </keyVal>\n",
    "              |      </sublevel>\n",
    "              |   </level>\n",
    "              | </root>\n",
    "              \"\"\"\n",
    "def root = new XmlSlurper().parseText(xmlText.stripMargin())\n",
    "assert root.level.size() == 1 \n",
    "assert root.level.sublevel.size() == 2 \n",
    "assert root.level.sublevel.findAll { it.@id == 1 }.size() == 1 \n",
    "assert root.level.sublevel[1].keyVal[0].key.text() == 'anotherKey' \n",
    "There is one level node under root\n",
    "There are two sublevel nodes under root/level\n",
    "There is one element sublevel having an attribute id with value 1\n",
    "Text value of key element of first keyVal element of second sublevel element under root/level is 'anotherKey'"
   ]
  },
  {
   "cell_type": "markdown",
   "metadata": {},
   "source": [
    "3. Delegation strategy\n",
    "3.1. Groovy closures vs lambda expressions\n",
    "Groovy defines closures as instances of the Closure class. It makes it very different from lambda expressions in Java 8. Delegation is a key concept in Groovy closures which has no equivalent in lambdas. The ability to change the delegate or change the delegation strategy of closures make it possible to design beautiful domain specific languages (DSLs) in Groovy.\n",
    "\n",
    "3.2. Owner, delegate and this\n",
    "To understand the concept of delegate, we must first explain the meaning of this inside a closure. A closure actually defines 3 distinct things:\n",
    "\n",
    "this corresponds to the enclosing class where the closure is defined\n",
    "\n",
    "owner corresponds to the enclosing object where the closure is defined, which may be either a class or a closure\n",
    "\n",
    "delegate corresponds to a third party object where methods calls or properties are resolved whenever the receiver of the message is not defined\n",
    "\n",
    "3.2.1. The meaning of this\n",
    "In a closure, calling getThisObject will return the enclosing class where the closure is defined. It is equivalent to using an explicit this:\n",
    "\n",
    "class Enclosing {\n",
    "    void run() {\n",
    "        def whatIsThisObject = { getThisObject() }          \n",
    "        assert whatIsThisObject() == this                   \n",
    "        def whatIsThis = { this }                           \n",
    "        assert whatIsThis() == this                         \n",
    "    }\n",
    "}\n",
    "class EnclosedInInnerClass {\n",
    "    class Inner {\n",
    "        Closure cl = { this }                               \n",
    "    }\n",
    "    void run() {\n",
    "        def inner = new Inner()\n",
    "        assert inner.cl() == inner                          \n",
    "    }\n",
    "}\n",
    "class NestedClosures {\n",
    "    void run() {\n",
    "        def nestedClosures = {\n",
    "            def cl = { this }                               \n",
    "            cl()\n",
    "        }\n",
    "        assert nestedClosures() == this                     \n",
    "    }\n",
    "}\n",
    "a closure is defined inside the Enclosing class, and returns getThisObject\n",
    "calling the closure will return the instance of Enclosing where the closure is defined\n",
    "in general, you will just want to use the shortcut this notation\n",
    "and it returns exactly the same object\n",
    "if the closure is defined in a inner class\n",
    "this in the closure will return the inner class, not the top-level one\n",
    "in case of nested closures, like here cl being defined inside the scope of nestedClosures\n",
    "then this corresponds to the closest outer class, not the enclosing closure!\n",
    "It is of course possible to call methods from the enclosing class this way:\n",
    "\n",
    "class Person {\n",
    "    String name\n",
    "    int age\n",
    "    String toString() { \"$name is $age years old\" }\n",
    "\n",
    "    String dump() {\n",
    "        def cl = {\n",
    "            String msg = this.toString()               \n",
    "            println msg\n",
    "            msg\n",
    "        }\n",
    "        cl()\n",
    "    }\n",
    "}\n",
    "def p = new Person(name:'Janice', age:74)\n",
    "assert p.dump() == 'Janice is 74 years old'\n",
    "the closure calls toString on this, which will actually call the toString method on the enclosing object, that is to say the Person instance\n",
    "3.2.2. Owner of a closure\n",
    "The owner of a closure is very similar to the definition of this in a closure with a subtle difference: it will return the direct enclosing object, be it a closure or a class:\n",
    "\n",
    "class Enclosing {\n",
    "    void run() {\n",
    "        def whatIsOwnerMethod = { getOwner() }               \n",
    "        assert whatIsOwnerMethod() == this                   \n",
    "        def whatIsOwner = { owner }                          \n",
    "        assert whatIsOwner() == this                         \n",
    "    }\n",
    "}\n",
    "class EnclosedInInnerClass {\n",
    "    class Inner {\n",
    "        Closure cl = { owner }                               \n",
    "    }\n",
    "    void run() {\n",
    "        def inner = new Inner()\n",
    "        assert inner.cl() == inner                           \n",
    "    }\n",
    "}\n",
    "class NestedClosures {\n",
    "    void run() {\n",
    "        def nestedClosures = {\n",
    "            def cl = { owner }                               \n",
    "            cl()\n",
    "        }\n",
    "        assert nestedClosures() == nestedClosures            \n",
    "    }\n",
    "}\n",
    "a closure is defined inside the Enclosing class, and returns getOwner\n",
    "calling the closure will return the instance of Enclosing where the closure is defined\n",
    "in general, you will just want to use the shortcut owner notation\n",
    "and it returns exactly the same object\n",
    "if the closure is defined in a inner class\n",
    "owner in the closure will return the inner class, not the top-level one\n",
    "but in case of nested closures, like here cl being defined inside the scope of nestedClosures\n",
    "then owner corresponds to the enclosing closure, hence a different object from this!\n",
    "3.2.3. Delegate of a closure\n",
    "The delegate of a closure can be accessed by using the delegate property or calling the getDelegate method. It is a powerful concept for building domain specific languages in Groovy. While closure-this and closure-owner refer to the lexical scope of a closure, the delegate is a user defined object that a closure will use. By default, the delegate is set to owner:\n",
    "\n",
    "class Enclosing {\n",
    "    void run() {\n",
    "        def cl = { getDelegate() }                          \n",
    "        def cl2 = { delegate }                              \n",
    "        assert cl() == cl2()                                \n",
    "        assert cl() == this                                 \n",
    "        def enclosed = {\n",
    "            { -> delegate }.call()                          \n",
    "        }\n",
    "        assert enclosed() == enclosed                       \n",
    "    }\n",
    "}\n",
    "you can get the delegate of a closure calling the getDelegate method\n",
    "or using the delegate property\n",
    "both return the same object\n",
    "which is the enclosing class or closure\n",
    "in particular in case of nested closures\n",
    "delegate will correspond to the owner\n",
    "The delegate of a closure can be changed to any object. Let’s illustrate this by creating two classes which are not subclasses of each other but both define a property called name:\n",
    "\n",
    "class Person {\n",
    "    String name\n",
    "}\n",
    "class Thing {\n",
    "    String name\n",
    "}\n",
    "\n",
    "def p = new Person(name: 'Norman')\n",
    "def t = new Thing(name: 'Teapot')\n",
    "Then let’s define a closure which fetches the name property on the delegate:\n",
    "\n",
    "def upperCasedName = { delegate.name.toUpperCase() }\n",
    "Then by changing the delegate of the closure, you can see that the target object will change:\n",
    "\n",
    "upperCasedName.delegate = p\n",
    "assert upperCasedName() == 'NORMAN'\n",
    "upperCasedName.delegate = t\n",
    "assert upperCasedName() == 'TEAPOT'\n",
    "At this point, the behavior is not different from having a target variable defined in the lexical scope of the closure:\n",
    "\n",
    "def target = p\n",
    "def upperCasedNameUsingVar = { target.name.toUpperCase() }\n",
    "assert upperCasedNameUsingVar() == 'NORMAN'\n",
    "However, there are major differences:\n",
    "\n",
    "in the last example, target is a local variable referenced from within the closure\n",
    "\n",
    "the delegate can be used transparently, that is to say without prefixing method calls with delegate. as explained in the next paragraph.\n",
    "\n",
    "3.2.4. Delegation strategy\n",
    "Whenever, in a closure, a property is accessed without explicitly setting a receiver object, then a delegation strategy is involved:\n",
    "\n",
    "class Person {\n",
    "    String name\n",
    "}\n",
    "def p = new Person(name:'Igor')\n",
    "def cl = { name.toUpperCase() }                 \n",
    "cl.delegate = p                                 \n",
    "assert cl() == 'IGOR'                           \n",
    "name is not referencing a variable in the lexical scope of the closure\n",
    "we can change the delegate of the closure to be an instance of Person\n",
    "and the method call will succeed\n",
    "The reason this code works is that the name property will be resolved transparently on the delegate object! This is a very powerful way to resolve properties or method calls inside closures. There’s no need to set an explicit delegate. receiver: the call will be made because the default delegation strategy of the closure makes it so. A closure actually defines multiple resolution strategies that you can choose:\n",
    "\n",
    "Closure.OWNER_FIRST is the default strategy. If a property/method exists on the owner, then it will be called on the owner. If not, then the delegate is used.\n",
    "\n",
    "Closure.DELEGATE_FIRST reverses the logic: the delegate is used first, then the owner\n",
    "\n",
    "Closure.OWNER_ONLY will only resolve the property/method lookup on the owner: the delegate will be ignored.\n",
    "\n",
    "Closure.DELEGATE_ONLY will only resolve the property/method lookup on the delegate: the owner will be ignored.\n",
    "\n",
    "Closure.TO_SELF can be used by developers who need advanced meta-programming techniques and wish to implement a custom resolution strategy: the resolution will not be made on the owner or the delegate but only on the closure class itself. It makes only sense to use this if you implement your own subclass of Closure.\n",
    "\n",
    "Let’s illustrate the default \"owner first\" strategy with this code:\n",
    "\n",
    "class Person {\n",
    "    String name\n",
    "    def pretty = { \"My name is $name\" }             \n",
    "    String toString() {\n",
    "        pretty()\n",
    "    }\n",
    "}\n",
    "class Thing {\n",
    "    String name                                     \n",
    "}\n",
    "\n",
    "def p = new Person(name: 'Sarah')\n",
    "def t = new Thing(name: 'Teapot')\n",
    "\n",
    "assert p.toString() == 'My name is Sarah'           \n",
    "p.pretty.delegate = t                               \n",
    "assert p.toString() == 'My name is Sarah'           \n",
    "for the illustration, we define a closure member which references \"name\"\n",
    "both the Person and the Thing class define a name property\n",
    "Using the default strategy, the name property is resolved on the owner first\n",
    "so if we change the delegate to t which is an instance of Thing\n",
    "there is no change in the result: name is first resolved on the owner of the closure\n",
    "However, it is possible to change the resolution strategy of the closure:\n",
    "\n",
    "p.pretty.resolveStrategy = Closure.DELEGATE_FIRST\n",
    "assert p.toString() == 'My name is Teapot'\n",
    "By changing the resolveStrategy, we are modifying the way Groovy will resolve the \"implicit this\" references: in this case, name will first be looked in the delegate, then if not found, on the owner. Since name is defined in the delegate, an instance of Thing, then this value is used.\n",
    "\n",
    "The difference between \"delegate first\" and \"delegate only\" or \"owner first\" and \"owner only\" can be illustrated if one of the delegate (resp. owner) does not have such a method or property:\n",
    "\n",
    "class Person {\n",
    "    String name\n",
    "    int age\n",
    "    def fetchAge = { age }\n",
    "}\n",
    "class Thing {\n",
    "    String name\n",
    "}\n",
    "\n",
    "def p = new Person(name:'Jessica', age:42)\n",
    "def t = new Thing(name:'Printer')\n",
    "def cl = p.fetchAge\n",
    "cl.delegate = p\n",
    "assert cl() == 42\n",
    "cl.delegate = t\n",
    "assert cl() == 42\n",
    "cl.resolveStrategy = Closure.DELEGATE_ONLY\n",
    "cl.delegate = p\n",
    "assert cl() == 42\n",
    "cl.delegate = t\n",
    "try {\n",
    "    cl()\n",
    "    assert false\n",
    "} catch (MissingPropertyException ex) {\n",
    "    // \"age\" is not defined on the delegate\n",
    "}\n",
    "In this example, we define two classes which both have a name property but only the Person class declares an age. The Person class also declares a closure which references age. We can change the default resolution strategy from \"owner first\" to \"delegate only\". Since the owner of the closure is the Person class, then we can check that if the delegate is an instance of Person, calling the closure is successful, but if we call it with a delegate being an instance of Thing, it fails with a groovy.lang.MissingPropertyException. Despite the closure being defined inside the Person class, the owner is not used.\n",
    "\n",
    "A comprehensive explanation about how to use this feature to develop DSLs can be found in a dedicated section of the manual.\n",
    "4. Closures in GStrings\n",
    "Take the following code:\n",
    "\n",
    "def x = 1\n",
    "def gs = \"x = ${x}\"\n",
    "assert gs == 'x = 1'\n",
    "The code behaves as you would expect, but what happens if you add:\n",
    "\n",
    "x = 2\n",
    "assert gs == 'x = 2'\n",
    "You will see that the assert fails! There are two reasons for this:\n",
    "\n",
    "a GString only evaluates lazily the toString representation of values\n",
    "\n",
    "the syntax ${x} in a GString does not represent a closure but an expression to $x, evaluated when the GString is created.\n",
    "\n",
    "In our example, the GString is created with an expression referencing x. When the GString is created, the value of x is 1, so the GString is created with a value of 1. When the assert is triggered, the GString is evaluated and 1 is converted to a String using toString. When we change x to 2, we did change the value of x, but it is a different object, and the GString still references the old one.\n",
    "\n",
    "A GString will only change its toString representation if the values it references are mutating. If the references change, nothing will happen.\n",
    "If you need a real closure in a GString and for example enforce lazy evaluation of variables, you need to use the alternate syntax ${→ x} like in the fixed example:\n",
    "\n",
    "def x = 1\n",
    "def gs = \"x = ${-> x}\"\n",
    "assert gs == 'x = 1'\n",
    "\n",
    "x = 2\n",
    "assert gs == 'x = 2'\n",
    "And let’s illustrate how it differs from mutation with this code:\n",
    "\n",
    "class Person {\n",
    "    String name\n",
    "    String toString() { name }          \n",
    "}\n",
    "def sam = new Person(name:'Sam')        \n",
    "def lucy = new Person(name:'Lucy')      \n",
    "def p = sam                             \n",
    "def gs = \"Name: ${p}\"                   \n",
    "assert gs == 'Name: Sam'                \n",
    "p = lucy                                \n",
    "assert gs == 'Name: Sam'                \n",
    "sam.name = 'Lucy'                       \n",
    "assert gs == 'Name: Lucy'               \n",
    "the Person class has a toString method returning the name property\n",
    "we create a first Person named Sam\n",
    "we create another Person named Lucy\n",
    "the p variable is set to Sam\n",
    "and a closure is created, referencing the value of p, that is to say Sam\n",
    "so when we evaluate the string, it returns Sam\n",
    "if we change p to Lucy\n",
    "the string still evaluates to Sam because it was the value of p when the GString was created\n",
    "so if we mutate Sam to change his name to Lucy\n",
    "this time the GString is correctly mutated\n",
    "So if you don’t want to rely on mutating objects or wrapping objects, you must use closures in GString by explicitly declaring an empty argument list:\n",
    "\n",
    "class Person {\n",
    "    String name\n",
    "    String toString() { name }\n",
    "}\n",
    "def sam = new Person(name:'Sam')\n",
    "def lucy = new Person(name:'Lucy')\n",
    "def p = sam\n",
    "// Create a GString with lazy evaluation of \"p\"\n",
    "def gs = \"Name: ${-> p}\"\n",
    "assert gs == 'Name: Sam'\n",
    "p = lucy\n",
    "assert gs == 'Name: Lucy'\n",
    "5. Closure coercion\n",
    "Closures can be converted into interfaces or single-abstract method types. Please refer to this section of the manual for a complete description.\n",
    "\n",
    "6. Functional programming\n",
    "Closures, like lambda expressions in Java 8 are at the core of the functional programming paradigm in Groovy. Some functional programming operations on functions are available directly on the Closure class, like illustrated in this section.\n",
    "\n",
    "6.1. Currying\n",
    "In Groovy, currying refers to the concept of partial application. It does not correspond to the real concept of currying in functional programming because of the different scoping rules that Groovy applies on closures. Currying in Groovy will let you set the value of one parameter of a closure, and it will return a new closure accepting one less argument.\n",
    "\n",
    "6.1.1. Left currying\n",
    "Left currying is the fact of setting the left-most parameter of a closure, like in this example:\n",
    "\n",
    "def nCopies = { int n, String str -> str*n }    \n",
    "def twice = nCopies.curry(2)                    \n",
    "assert twice('bla') == 'blabla'                 \n",
    "assert twice('bla') == nCopies(2, 'bla')        \n",
    "the nCopies closure defines two parameters\n",
    "curry will set the first parameter to 2, creating a new closure (function) which accepts a single String\n",
    "so the new function call be called with only a String\n",
    "and it is equivalent to calling nCopies with two parameters\n",
    "6.1.2. Right currying\n",
    "Similarily to left currying, it is possible to set the right-most parameter of a closure:\n",
    "\n",
    "def nCopies = { int n, String str -> str*n }    \n",
    "def blah = nCopies.rcurry('bla')                \n",
    "assert blah(2) == 'blabla'                      \n",
    "assert blah(2) == nCopies(2, 'bla')             \n",
    "the nCopies closure defines two parameters\n",
    "rcurry will set the last parameter to bla, creating a new closure (function) which accepts a single int\n",
    "so the new function call be called with only an int\n",
    "and it is equivalent to calling nCopies with two parameters\n",
    "6.1.3. Index based currying\n",
    "In case a closure accepts more than 2 parameters, it is possible to set an arbitrary parameter using ncurry:\n",
    "\n",
    "def volume = { double l, double w, double h -> l*w*h }      \n",
    "def fixedWidthVolume = volume.ncurry(1, 2d)                 \n",
    "assert volume(3d, 2d, 4d) == fixedWidthVolume(3d, 4d)       \n",
    "def fixedWidthAndHeight = volume.ncurry(1, 2d, 4d)          \n",
    "assert volume(3d, 2d, 4d) == fixedWidthAndHeight(3d)        \n",
    "the volume function defines 3 parameters\n",
    "ncurry will set the second parameter (index = 1) to 2d, creating a new volume function which accepts length and height\n",
    "that function is equivalent to calling volume omitting the width\n",
    "it is also possible to set multiple parameters, starting from the specified index\n",
    "the resulting function accepts as many parameters as the initial one minus the number of parameters set by ncurry\n",
    "6.2. Memoization\n",
    "Memoization allows the result of the call of a closure to be cached. It is interesting if the computation done by a function (closure) is slow, but you know that this function is going to be called often with the same arguments. A typical example is the Fibonacci suite. A naive implementation may look like this:\n",
    "\n",
    "def fib\n",
    "fib = { long n -> n<2?n:fib(n-1)+fib(n-2) }\n",
    "assert fib(15) == 610 // slow!\n",
    "It is a naive implementation because 'fib' is often called recursively with the same arguments, leading to an exponential algorithm:\n",
    "\n",
    "computing fib(15) requires the result of fib(14) and fib(13)\n",
    "\n",
    "computing fib(14) requires the result of fib(13) and fib(12)\n",
    "\n",
    "Since calls are recursive, you can already see that we will compute the same values again and again, although they could be cached. This naive implementation can be \"fixed\" by caching the result of calls using memoize:\n",
    "\n",
    "fib = { long n -> n<2?n:fib(n-1)+fib(n-2) }.memoize()\n",
    "assert fib(25) == 75025 // fast!\n",
    "The cache works using the actual values of the arguments. This means that you should be very careful if you use memoization with something else than primitive or boxed primitive types.\n",
    "The behavior of the cache can be tweaked using alternate methods:\n",
    "\n",
    "memoizeAtMost will generate a new closure which caches at most n values\n",
    "\n",
    "memoizeAtLeast will generate a new closure which caches at least n values\n",
    "\n",
    "memoizeBetween will generate a new closure which caches at least n values and at most n values\n",
    "\n",
    "The cache used in all memoize variants is a LRU cache.\n",
    "\n",
    "6.3. Composition\n",
    "Closure composition corresponds to the concept of function composition, that is to say creating a new function by composing two or more functions (chaining calls), as illustrated in this example:\n",
    "\n",
    "def plus2  = { it + 2 }\n",
    "def times3 = { it * 3 }\n",
    "\n",
    "def times3plus2 = plus2 << times3\n",
    "assert times3plus2(3) == 11\n",
    "assert times3plus2(4) == plus2(times3(4))\n",
    "\n",
    "def plus2times3 = times3 << plus2\n",
    "assert plus2times3(3) == 15\n",
    "assert plus2times3(5) == times3(plus2(5))\n",
    "\n",
    "// reverse composition\n",
    "assert times3plus2(3) == (times3 >> plus2)(3)\n",
    "6.4. Trampoline\n",
    "Recursive algorithms are often restricted by a physical limit: the maximum stack height. For example, if you call a method that recursively calls itself too deep, you will eventually receive a StackOverflowException.\n",
    "\n",
    "An approach that helps in those situations is by using Closure and its trampoline capability.\n",
    "\n",
    "Closures are wrapped in a TrampolineClosure. Upon calling, a trampolined Closure will call the original Closure waiting for its result. If the outcome of the call is another instance of a TrampolineClosure, created perhaps as a result to a call to the trampoline() method, the Closure will again be invoked. This repetitive invocation of returned trampolined Closures instances will continue until a value other than a trampolined Closure is returned. That value will become the final result of the trampoline. That way, calls are made serially, rather than filling the stack.\n",
    "\n",
    "Here’s an example of the use of trampoline() to implement the factorial function:\n",
    "\n",
    "def factorial\n",
    "factorial = { int n, def accu = 1G ->\n",
    "    if (n < 2) return accu\n",
    "    factorial.trampoline(n - 1, n * accu)\n",
    "}\n",
    "factorial = factorial.trampoline()\n",
    "\n",
    "assert factorial(1)    == 1\n",
    "assert factorial(3)    == 1 * 2 * 3\n",
    "assert factorial(1000) // == 402387260.. plus another 2560 digits\n",
    "6.5. Method pointers\n",
    "It is often practical to be able to use a regular method as a closure. For example, you might want to use the currying abilities of a closure, but those are not available to normal methods. In Groovy, you can obtain a closure from any method with the"
   ]
  }
 ],
 "metadata": {
  "kernelspec": {
   "display_name": "Groovy",
   "language": "groovy",
   "name": "groovy"
  },
  "language_info": {
   "codemirror_mode": "groovy",
   "file_extension": ".groovy",
   "mimetype": "",
   "name": "Groovy",
   "nbconverter_exporter": "",
   "version": "2.4.3"
  },
  "toc": {
   "base_numbering": 1,
   "nav_menu": {},
   "number_sections": false,
   "sideBar": false,
   "skip_h1_title": false,
   "title_cell": "Table of Contents",
   "title_sidebar": "Contents",
   "toc_cell": false,
   "toc_position": {},
   "toc_section_display": false,
   "toc_window_display": false
  }
 },
 "nbformat": 4,
 "nbformat_minor": 2
}
